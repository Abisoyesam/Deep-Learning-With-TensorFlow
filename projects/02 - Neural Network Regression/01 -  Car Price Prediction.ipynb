{
 "cells": [
  {
   "cell_type": "markdown",
   "id": "b039f83a",
   "metadata": {},
   "source": [
    "# Car Price Prediction\n",
    "\n",
    "<hr>\n",
    "\n",
    "**Problem Statement:**\n",
    "- Consider there’s a client that specializes in trading used cars across different states in the Nigeria.\n",
    "- As a Data Scientist, you are given the task of creating an automated system that predicts the selling price of cars based on various features (information) \n",
    "- Such as the car’s model name, manufacture year, the current price when bought new, kilometers driven, fuels type and owners it had."
   ]
  },
  {
   "cell_type": "code",
   "execution_count": 2,
   "id": "a5612bdb",
   "metadata": {},
   "outputs": [],
   "source": [
    "import pandas as pd\n",
    "import tensorflow as tf\n",
    "import matplotlib.pyplot as plt"
   ]
  },
  {
   "cell_type": "code",
   "execution_count": 9,
   "id": "6742c951",
   "metadata": {},
   "outputs": [
    {
     "data": {
      "text/html": [
       "<div>\n",
       "<style scoped>\n",
       "    .dataframe tbody tr th:only-of-type {\n",
       "        vertical-align: middle;\n",
       "    }\n",
       "\n",
       "    .dataframe tbody tr th {\n",
       "        vertical-align: top;\n",
       "    }\n",
       "\n",
       "    .dataframe thead th {\n",
       "        text-align: right;\n",
       "    }\n",
       "</style>\n",
       "<table border=\"1\" class=\"dataframe\">\n",
       "  <thead>\n",
       "    <tr style=\"text-align: right;\">\n",
       "      <th></th>\n",
       "      <th>Car_Name</th>\n",
       "      <th>Year</th>\n",
       "      <th>Selling_Price</th>\n",
       "      <th>Present_Price</th>\n",
       "      <th>Kms_Driven</th>\n",
       "      <th>Fuel_Type</th>\n",
       "      <th>Seller_Type</th>\n",
       "      <th>Transmission</th>\n",
       "      <th>Owner</th>\n",
       "    </tr>\n",
       "  </thead>\n",
       "  <tbody>\n",
       "    <tr>\n",
       "      <th>0</th>\n",
       "      <td>ritz</td>\n",
       "      <td>2014</td>\n",
       "      <td>3.35</td>\n",
       "      <td>5.59</td>\n",
       "      <td>27000</td>\n",
       "      <td>Petrol</td>\n",
       "      <td>Dealer</td>\n",
       "      <td>Manual</td>\n",
       "      <td>0</td>\n",
       "    </tr>\n",
       "    <tr>\n",
       "      <th>1</th>\n",
       "      <td>sx4</td>\n",
       "      <td>2013</td>\n",
       "      <td>4.75</td>\n",
       "      <td>9.54</td>\n",
       "      <td>43000</td>\n",
       "      <td>Diesel</td>\n",
       "      <td>Dealer</td>\n",
       "      <td>Manual</td>\n",
       "      <td>0</td>\n",
       "    </tr>\n",
       "    <tr>\n",
       "      <th>2</th>\n",
       "      <td>ciaz</td>\n",
       "      <td>2017</td>\n",
       "      <td>7.25</td>\n",
       "      <td>9.85</td>\n",
       "      <td>6900</td>\n",
       "      <td>Petrol</td>\n",
       "      <td>Dealer</td>\n",
       "      <td>Manual</td>\n",
       "      <td>0</td>\n",
       "    </tr>\n",
       "    <tr>\n",
       "      <th>3</th>\n",
       "      <td>wagon r</td>\n",
       "      <td>2011</td>\n",
       "      <td>2.85</td>\n",
       "      <td>4.15</td>\n",
       "      <td>5200</td>\n",
       "      <td>Petrol</td>\n",
       "      <td>Dealer</td>\n",
       "      <td>Manual</td>\n",
       "      <td>0</td>\n",
       "    </tr>\n",
       "    <tr>\n",
       "      <th>4</th>\n",
       "      <td>swift</td>\n",
       "      <td>2014</td>\n",
       "      <td>4.60</td>\n",
       "      <td>6.87</td>\n",
       "      <td>42450</td>\n",
       "      <td>Diesel</td>\n",
       "      <td>Dealer</td>\n",
       "      <td>Manual</td>\n",
       "      <td>0</td>\n",
       "    </tr>\n",
       "  </tbody>\n",
       "</table>\n",
       "</div>"
      ],
      "text/plain": [
       "  Car_Name  Year  Selling_Price  Present_Price  Kms_Driven Fuel_Type  \\\n",
       "0     ritz  2014           3.35           5.59       27000    Petrol   \n",
       "1      sx4  2013           4.75           9.54       43000    Diesel   \n",
       "2     ciaz  2017           7.25           9.85        6900    Petrol   \n",
       "3  wagon r  2011           2.85           4.15        5200    Petrol   \n",
       "4    swift  2014           4.60           6.87       42450    Diesel   \n",
       "\n",
       "  Seller_Type Transmission  Owner  \n",
       "0      Dealer       Manual      0  \n",
       "1      Dealer       Manual      0  \n",
       "2      Dealer       Manual      0  \n",
       "3      Dealer       Manual      0  \n",
       "4      Dealer       Manual      0  "
      ]
     },
     "execution_count": 9,
     "metadata": {},
     "output_type": "execute_result"
    }
   ],
   "source": [
    "# import the data\n",
    "\n",
    "data = pd.read_csv('../../data/car_data.csv')\n",
    "data.head()"
   ]
  },
  {
   "cell_type": "code",
   "execution_count": 10,
   "id": "6716f290",
   "metadata": {},
   "outputs": [
    {
     "name": "stdout",
     "output_type": "stream",
     "text": [
      "<class 'pandas.core.frame.DataFrame'>\n",
      "RangeIndex: 301 entries, 0 to 300\n",
      "Data columns (total 9 columns):\n",
      " #   Column         Non-Null Count  Dtype  \n",
      "---  ------         --------------  -----  \n",
      " 0   Car_Name       301 non-null    object \n",
      " 1   Year           301 non-null    int64  \n",
      " 2   Selling_Price  301 non-null    float64\n",
      " 3   Present_Price  301 non-null    float64\n",
      " 4   Kms_Driven     301 non-null    int64  \n",
      " 5   Fuel_Type      301 non-null    object \n",
      " 6   Seller_Type    301 non-null    object \n",
      " 7   Transmission   301 non-null    object \n",
      " 8   Owner          301 non-null    int64  \n",
      "dtypes: float64(2), int64(3), object(4)\n",
      "memory usage: 21.3+ KB\n"
     ]
    }
   ],
   "source": [
    "data.info()"
   ]
  },
  {
   "cell_type": "code",
   "execution_count": 11,
   "id": "cdf15e64",
   "metadata": {},
   "outputs": [
    {
     "data": {
      "text/plain": [
       "Car_Name         0\n",
       "Year             0\n",
       "Selling_Price    0\n",
       "Present_Price    0\n",
       "Kms_Driven       0\n",
       "Fuel_Type        0\n",
       "Seller_Type      0\n",
       "Transmission     0\n",
       "Owner            0\n",
       "dtype: int64"
      ]
     },
     "execution_count": 11,
     "metadata": {},
     "output_type": "execute_result"
    }
   ],
   "source": [
    "# check for missing value\n",
    "\n",
    "data.isnull().sum()"
   ]
  },
  {
   "cell_type": "code",
   "execution_count": 12,
   "id": "2b1812d0",
   "metadata": {},
   "outputs": [
    {
     "data": {
      "text/html": [
       "<div>\n",
       "<style scoped>\n",
       "    .dataframe tbody tr th:only-of-type {\n",
       "        vertical-align: middle;\n",
       "    }\n",
       "\n",
       "    .dataframe tbody tr th {\n",
       "        vertical-align: top;\n",
       "    }\n",
       "\n",
       "    .dataframe thead th {\n",
       "        text-align: right;\n",
       "    }\n",
       "</style>\n",
       "<table border=\"1\" class=\"dataframe\">\n",
       "  <thead>\n",
       "    <tr style=\"text-align: right;\">\n",
       "      <th></th>\n",
       "      <th>Year</th>\n",
       "      <th>Selling_Price</th>\n",
       "      <th>Present_Price</th>\n",
       "      <th>Kms_Driven</th>\n",
       "      <th>Owner</th>\n",
       "    </tr>\n",
       "  </thead>\n",
       "  <tbody>\n",
       "    <tr>\n",
       "      <th>count</th>\n",
       "      <td>301.000000</td>\n",
       "      <td>301.000000</td>\n",
       "      <td>301.000000</td>\n",
       "      <td>301.000000</td>\n",
       "      <td>301.000000</td>\n",
       "    </tr>\n",
       "    <tr>\n",
       "      <th>mean</th>\n",
       "      <td>2013.627907</td>\n",
       "      <td>4.661296</td>\n",
       "      <td>7.628472</td>\n",
       "      <td>36947.205980</td>\n",
       "      <td>0.043189</td>\n",
       "    </tr>\n",
       "    <tr>\n",
       "      <th>std</th>\n",
       "      <td>2.891554</td>\n",
       "      <td>5.082812</td>\n",
       "      <td>8.644115</td>\n",
       "      <td>38886.883882</td>\n",
       "      <td>0.247915</td>\n",
       "    </tr>\n",
       "    <tr>\n",
       "      <th>min</th>\n",
       "      <td>2003.000000</td>\n",
       "      <td>0.100000</td>\n",
       "      <td>0.320000</td>\n",
       "      <td>500.000000</td>\n",
       "      <td>0.000000</td>\n",
       "    </tr>\n",
       "    <tr>\n",
       "      <th>25%</th>\n",
       "      <td>2012.000000</td>\n",
       "      <td>0.900000</td>\n",
       "      <td>1.200000</td>\n",
       "      <td>15000.000000</td>\n",
       "      <td>0.000000</td>\n",
       "    </tr>\n",
       "    <tr>\n",
       "      <th>50%</th>\n",
       "      <td>2014.000000</td>\n",
       "      <td>3.600000</td>\n",
       "      <td>6.400000</td>\n",
       "      <td>32000.000000</td>\n",
       "      <td>0.000000</td>\n",
       "    </tr>\n",
       "    <tr>\n",
       "      <th>75%</th>\n",
       "      <td>2016.000000</td>\n",
       "      <td>6.000000</td>\n",
       "      <td>9.900000</td>\n",
       "      <td>48767.000000</td>\n",
       "      <td>0.000000</td>\n",
       "    </tr>\n",
       "    <tr>\n",
       "      <th>max</th>\n",
       "      <td>2018.000000</td>\n",
       "      <td>35.000000</td>\n",
       "      <td>92.600000</td>\n",
       "      <td>500000.000000</td>\n",
       "      <td>3.000000</td>\n",
       "    </tr>\n",
       "  </tbody>\n",
       "</table>\n",
       "</div>"
      ],
      "text/plain": [
       "              Year  Selling_Price  Present_Price     Kms_Driven       Owner\n",
       "count   301.000000     301.000000     301.000000     301.000000  301.000000\n",
       "mean   2013.627907       4.661296       7.628472   36947.205980    0.043189\n",
       "std       2.891554       5.082812       8.644115   38886.883882    0.247915\n",
       "min    2003.000000       0.100000       0.320000     500.000000    0.000000\n",
       "25%    2012.000000       0.900000       1.200000   15000.000000    0.000000\n",
       "50%    2014.000000       3.600000       6.400000   32000.000000    0.000000\n",
       "75%    2016.000000       6.000000       9.900000   48767.000000    0.000000\n",
       "max    2018.000000      35.000000      92.600000  500000.000000    3.000000"
      ]
     },
     "execution_count": 12,
     "metadata": {},
     "output_type": "execute_result"
    }
   ],
   "source": [
    "# get statistical info\n",
    "data.describe()"
   ]
  },
  {
   "cell_type": "code",
   "execution_count": 13,
   "id": "8d09188d",
   "metadata": {},
   "outputs": [
    {
     "data": {
      "text/plain": [
       "(301, (301, 9))"
      ]
     },
     "execution_count": 13,
     "metadata": {},
     "output_type": "execute_result"
    }
   ],
   "source": [
    "len(data), data.shape"
   ]
  },
  {
   "cell_type": "code",
   "execution_count": 14,
   "id": "ba1bfedd",
   "metadata": {},
   "outputs": [
    {
     "data": {
      "text/plain": [
       "Index(['Car_Name', 'Year', 'Selling_Price', 'Present_Price', 'Kms_Driven',\n",
       "       'Fuel_Type', 'Seller_Type', 'Transmission', 'Owner'],\n",
       "      dtype='object')"
      ]
     },
     "execution_count": 14,
     "metadata": {},
     "output_type": "execute_result"
    }
   ],
   "source": [
    "data.columns"
   ]
  },
  {
   "cell_type": "code",
   "execution_count": 23,
   "id": "60ac235b",
   "metadata": {},
   "outputs": [
    {
     "data": {
      "text/plain": [
       "Fuel_Type\n",
       "Petrol    239\n",
       "Diesel     60\n",
       "CNG         2\n",
       "Name: count, dtype: int64"
      ]
     },
     "execution_count": 23,
     "metadata": {},
     "output_type": "execute_result"
    }
   ],
   "source": [
    "# data count for categorical data\n",
    "data['Fuel_Type'].value_counts()"
   ]
  },
  {
   "cell_type": "code",
   "execution_count": 24,
   "id": "f4fd476b",
   "metadata": {},
   "outputs": [
    {
     "data": {
      "text/plain": [
       "Transmission\n",
       "Manual       261\n",
       "Automatic     40\n",
       "Name: count, dtype: int64"
      ]
     },
     "execution_count": 24,
     "metadata": {},
     "output_type": "execute_result"
    }
   ],
   "source": [
    "# data count for categorical data\n",
    "data['Transmission'].value_counts()"
   ]
  },
  {
   "cell_type": "code",
   "execution_count": 25,
   "id": "f9071d47",
   "metadata": {},
   "outputs": [
    {
     "data": {
      "text/plain": [
       "Seller_Type\n",
       "Dealer        195\n",
       "Individual    106\n",
       "Name: count, dtype: int64"
      ]
     },
     "execution_count": 25,
     "metadata": {},
     "output_type": "execute_result"
    }
   ],
   "source": [
    "# data count for categorical data\n",
    "data['Seller_Type'].value_counts()"
   ]
  },
  {
   "cell_type": "markdown",
   "id": "c131b53b",
   "metadata": {},
   "source": [
    "## One-hot Encoding"
   ]
  },
  {
   "cell_type": "code",
   "execution_count": 32,
   "id": "10483863",
   "metadata": {},
   "outputs": [],
   "source": [
    "# label encoding\n",
    "\n",
    "from sklearn.preprocessing import LabelEncoder"
   ]
  },
  {
   "cell_type": "code",
   "execution_count": 33,
   "id": "871cda23",
   "metadata": {},
   "outputs": [],
   "source": [
    "encoder = LabelEncoder()"
   ]
  },
  {
   "cell_type": "code",
   "execution_count": 43,
   "id": "3eae127c",
   "metadata": {},
   "outputs": [],
   "source": [
    "data['Fuel_Type'] = encoder.fit_transform(data['Fuel_Type'])\n",
    "data['Transmission'] = encoder.fit_transform(data['Transmission'])\n",
    "data['Seller_Type'] = encoder.fit_transform(data['Seller_Type'])"
   ]
  },
  {
   "cell_type": "code",
   "execution_count": 44,
   "id": "5b59f2e6",
   "metadata": {},
   "outputs": [
    {
     "data": {
      "text/html": [
       "<div>\n",
       "<style scoped>\n",
       "    .dataframe tbody tr th:only-of-type {\n",
       "        vertical-align: middle;\n",
       "    }\n",
       "\n",
       "    .dataframe tbody tr th {\n",
       "        vertical-align: top;\n",
       "    }\n",
       "\n",
       "    .dataframe thead th {\n",
       "        text-align: right;\n",
       "    }\n",
       "</style>\n",
       "<table border=\"1\" class=\"dataframe\">\n",
       "  <thead>\n",
       "    <tr style=\"text-align: right;\">\n",
       "      <th></th>\n",
       "      <th>Car_Name</th>\n",
       "      <th>Year</th>\n",
       "      <th>Selling_Price</th>\n",
       "      <th>Present_Price</th>\n",
       "      <th>Kms_Driven</th>\n",
       "      <th>Fuel_Type</th>\n",
       "      <th>Seller_Type</th>\n",
       "      <th>Transmission</th>\n",
       "      <th>Owner</th>\n",
       "    </tr>\n",
       "  </thead>\n",
       "  <tbody>\n",
       "    <tr>\n",
       "      <th>0</th>\n",
       "      <td>ritz</td>\n",
       "      <td>2014</td>\n",
       "      <td>3.35</td>\n",
       "      <td>5.59</td>\n",
       "      <td>27000</td>\n",
       "      <td>2</td>\n",
       "      <td>0</td>\n",
       "      <td>1</td>\n",
       "      <td>0</td>\n",
       "    </tr>\n",
       "    <tr>\n",
       "      <th>1</th>\n",
       "      <td>sx4</td>\n",
       "      <td>2013</td>\n",
       "      <td>4.75</td>\n",
       "      <td>9.54</td>\n",
       "      <td>43000</td>\n",
       "      <td>1</td>\n",
       "      <td>0</td>\n",
       "      <td>1</td>\n",
       "      <td>0</td>\n",
       "    </tr>\n",
       "    <tr>\n",
       "      <th>2</th>\n",
       "      <td>ciaz</td>\n",
       "      <td>2017</td>\n",
       "      <td>7.25</td>\n",
       "      <td>9.85</td>\n",
       "      <td>6900</td>\n",
       "      <td>2</td>\n",
       "      <td>0</td>\n",
       "      <td>1</td>\n",
       "      <td>0</td>\n",
       "    </tr>\n",
       "    <tr>\n",
       "      <th>3</th>\n",
       "      <td>wagon r</td>\n",
       "      <td>2011</td>\n",
       "      <td>2.85</td>\n",
       "      <td>4.15</td>\n",
       "      <td>5200</td>\n",
       "      <td>2</td>\n",
       "      <td>0</td>\n",
       "      <td>1</td>\n",
       "      <td>0</td>\n",
       "    </tr>\n",
       "    <tr>\n",
       "      <th>4</th>\n",
       "      <td>swift</td>\n",
       "      <td>2014</td>\n",
       "      <td>4.60</td>\n",
       "      <td>6.87</td>\n",
       "      <td>42450</td>\n",
       "      <td>1</td>\n",
       "      <td>0</td>\n",
       "      <td>1</td>\n",
       "      <td>0</td>\n",
       "    </tr>\n",
       "  </tbody>\n",
       "</table>\n",
       "</div>"
      ],
      "text/plain": [
       "  Car_Name  Year  Selling_Price  Present_Price  Kms_Driven  Fuel_Type  \\\n",
       "0     ritz  2014           3.35           5.59       27000          2   \n",
       "1      sx4  2013           4.75           9.54       43000          1   \n",
       "2     ciaz  2017           7.25           9.85        6900          2   \n",
       "3  wagon r  2011           2.85           4.15        5200          2   \n",
       "4    swift  2014           4.60           6.87       42450          1   \n",
       "\n",
       "   Seller_Type  Transmission  Owner  \n",
       "0            0             1      0  \n",
       "1            0             1      0  \n",
       "2            0             1      0  \n",
       "3            0             1      0  \n",
       "4            0             1      0  "
      ]
     },
     "execution_count": 44,
     "metadata": {},
     "output_type": "execute_result"
    }
   ],
   "source": [
    "data.head()"
   ]
  },
  {
   "cell_type": "markdown",
   "id": "f3250781",
   "metadata": {},
   "source": [
    "## Split data"
   ]
  },
  {
   "cell_type": "code",
   "execution_count": 45,
   "id": "c72ac276",
   "metadata": {},
   "outputs": [],
   "source": [
    "from sklearn.model_selection import train_test_split"
   ]
  },
  {
   "cell_type": "code",
   "execution_count": 46,
   "id": "e3142806",
   "metadata": {},
   "outputs": [
    {
     "data": {
      "text/html": [
       "<div>\n",
       "<style scoped>\n",
       "    .dataframe tbody tr th:only-of-type {\n",
       "        vertical-align: middle;\n",
       "    }\n",
       "\n",
       "    .dataframe tbody tr th {\n",
       "        vertical-align: top;\n",
       "    }\n",
       "\n",
       "    .dataframe thead th {\n",
       "        text-align: right;\n",
       "    }\n",
       "</style>\n",
       "<table border=\"1\" class=\"dataframe\">\n",
       "  <thead>\n",
       "    <tr style=\"text-align: right;\">\n",
       "      <th></th>\n",
       "      <th>Year</th>\n",
       "      <th>Present_Price</th>\n",
       "      <th>Kms_Driven</th>\n",
       "      <th>Fuel_Type</th>\n",
       "      <th>Seller_Type</th>\n",
       "      <th>Transmission</th>\n",
       "      <th>Owner</th>\n",
       "    </tr>\n",
       "  </thead>\n",
       "  <tbody>\n",
       "    <tr>\n",
       "      <th>0</th>\n",
       "      <td>2014</td>\n",
       "      <td>5.59</td>\n",
       "      <td>27000</td>\n",
       "      <td>2</td>\n",
       "      <td>0</td>\n",
       "      <td>1</td>\n",
       "      <td>0</td>\n",
       "    </tr>\n",
       "    <tr>\n",
       "      <th>1</th>\n",
       "      <td>2013</td>\n",
       "      <td>9.54</td>\n",
       "      <td>43000</td>\n",
       "      <td>1</td>\n",
       "      <td>0</td>\n",
       "      <td>1</td>\n",
       "      <td>0</td>\n",
       "    </tr>\n",
       "    <tr>\n",
       "      <th>2</th>\n",
       "      <td>2017</td>\n",
       "      <td>9.85</td>\n",
       "      <td>6900</td>\n",
       "      <td>2</td>\n",
       "      <td>0</td>\n",
       "      <td>1</td>\n",
       "      <td>0</td>\n",
       "    </tr>\n",
       "    <tr>\n",
       "      <th>3</th>\n",
       "      <td>2011</td>\n",
       "      <td>4.15</td>\n",
       "      <td>5200</td>\n",
       "      <td>2</td>\n",
       "      <td>0</td>\n",
       "      <td>1</td>\n",
       "      <td>0</td>\n",
       "    </tr>\n",
       "    <tr>\n",
       "      <th>4</th>\n",
       "      <td>2014</td>\n",
       "      <td>6.87</td>\n",
       "      <td>42450</td>\n",
       "      <td>1</td>\n",
       "      <td>0</td>\n",
       "      <td>1</td>\n",
       "      <td>0</td>\n",
       "    </tr>\n",
       "    <tr>\n",
       "      <th>...</th>\n",
       "      <td>...</td>\n",
       "      <td>...</td>\n",
       "      <td>...</td>\n",
       "      <td>...</td>\n",
       "      <td>...</td>\n",
       "      <td>...</td>\n",
       "      <td>...</td>\n",
       "    </tr>\n",
       "    <tr>\n",
       "      <th>296</th>\n",
       "      <td>2016</td>\n",
       "      <td>11.60</td>\n",
       "      <td>33988</td>\n",
       "      <td>1</td>\n",
       "      <td>0</td>\n",
       "      <td>1</td>\n",
       "      <td>0</td>\n",
       "    </tr>\n",
       "    <tr>\n",
       "      <th>297</th>\n",
       "      <td>2015</td>\n",
       "      <td>5.90</td>\n",
       "      <td>60000</td>\n",
       "      <td>2</td>\n",
       "      <td>0</td>\n",
       "      <td>1</td>\n",
       "      <td>0</td>\n",
       "    </tr>\n",
       "    <tr>\n",
       "      <th>298</th>\n",
       "      <td>2009</td>\n",
       "      <td>11.00</td>\n",
       "      <td>87934</td>\n",
       "      <td>2</td>\n",
       "      <td>0</td>\n",
       "      <td>1</td>\n",
       "      <td>0</td>\n",
       "    </tr>\n",
       "    <tr>\n",
       "      <th>299</th>\n",
       "      <td>2017</td>\n",
       "      <td>12.50</td>\n",
       "      <td>9000</td>\n",
       "      <td>1</td>\n",
       "      <td>0</td>\n",
       "      <td>1</td>\n",
       "      <td>0</td>\n",
       "    </tr>\n",
       "    <tr>\n",
       "      <th>300</th>\n",
       "      <td>2016</td>\n",
       "      <td>5.90</td>\n",
       "      <td>5464</td>\n",
       "      <td>2</td>\n",
       "      <td>0</td>\n",
       "      <td>1</td>\n",
       "      <td>0</td>\n",
       "    </tr>\n",
       "  </tbody>\n",
       "</table>\n",
       "<p>301 rows × 7 columns</p>\n",
       "</div>"
      ],
      "text/plain": [
       "     Year  Present_Price  Kms_Driven  Fuel_Type  Seller_Type  Transmission  \\\n",
       "0    2014           5.59       27000          2            0             1   \n",
       "1    2013           9.54       43000          1            0             1   \n",
       "2    2017           9.85        6900          2            0             1   \n",
       "3    2011           4.15        5200          2            0             1   \n",
       "4    2014           6.87       42450          1            0             1   \n",
       "..    ...            ...         ...        ...          ...           ...   \n",
       "296  2016          11.60       33988          1            0             1   \n",
       "297  2015           5.90       60000          2            0             1   \n",
       "298  2009          11.00       87934          2            0             1   \n",
       "299  2017          12.50        9000          1            0             1   \n",
       "300  2016           5.90        5464          2            0             1   \n",
       "\n",
       "     Owner  \n",
       "0        0  \n",
       "1        0  \n",
       "2        0  \n",
       "3        0  \n",
       "4        0  \n",
       "..     ...  \n",
       "296      0  \n",
       "297      0  \n",
       "298      0  \n",
       "299      0  \n",
       "300      0  \n",
       "\n",
       "[301 rows x 7 columns]"
      ]
     },
     "execution_count": 46,
     "metadata": {},
     "output_type": "execute_result"
    }
   ],
   "source": [
    "X = data.drop(['Car_Name','Selling_Price'], axis=1)\n",
    "y = data['Selling_Price']\n",
    "\n",
    "X"
   ]
  },
  {
   "cell_type": "markdown",
   "id": "42aa8654",
   "metadata": {},
   "source": [
    "**Features Scaling**"
   ]
  },
  {
   "cell_type": "code",
   "execution_count": 47,
   "id": "4d532b4c",
   "metadata": {},
   "outputs": [],
   "source": [
    "from sklearn.preprocessing import StandardScaler, MinMaxScaler\n",
    "scale = MinMaxScaler()"
   ]
  },
  {
   "cell_type": "code",
   "execution_count": 49,
   "id": "85649a94",
   "metadata": {},
   "outputs": [
    {
     "data": {
      "text/plain": [
       "array([[0.73333333, 0.0571088 , 0.05305305, ..., 0.        , 1.        ,\n",
       "        0.        ],\n",
       "       [0.66666667, 0.09991331, 0.08508509, ..., 0.        , 1.        ,\n",
       "        0.        ],\n",
       "       [0.93333333, 0.10327265, 0.01281281, ..., 0.        , 1.        ,\n",
       "        0.        ],\n",
       "       ...,\n",
       "       [0.4       , 0.11573472, 0.17504304, ..., 0.        , 1.        ,\n",
       "        0.        ],\n",
       "       [0.93333333, 0.1319896 , 0.01701702, ..., 0.        , 1.        ,\n",
       "        0.        ],\n",
       "       [0.86666667, 0.06046814, 0.00993794, ..., 0.        , 1.        ,\n",
       "        0.        ]])"
      ]
     },
     "execution_count": 49,
     "metadata": {},
     "output_type": "execute_result"
    }
   ],
   "source": [
    "X = scale.fit_transform(X)\n",
    "X"
   ]
  },
  {
   "cell_type": "code",
   "execution_count": 50,
   "id": "0e526e37",
   "metadata": {},
   "outputs": [
    {
     "data": {
      "text/plain": [
       "0       3.35\n",
       "1       4.75\n",
       "2       7.25\n",
       "3       2.85\n",
       "4       4.60\n",
       "       ...  \n",
       "296     9.50\n",
       "297     4.00\n",
       "298     3.35\n",
       "299    11.50\n",
       "300     5.30\n",
       "Name: Selling_Price, Length: 301, dtype: float64"
      ]
     },
     "execution_count": 50,
     "metadata": {},
     "output_type": "execute_result"
    }
   ],
   "source": [
    "y"
   ]
  },
  {
   "cell_type": "code",
   "execution_count": 51,
   "id": "2954a3fb",
   "metadata": {},
   "outputs": [],
   "source": [
    "# train and test set\n",
    "\n",
    "X_train, X_test, y_train, y_test = train_test_split(X, y, test_size=.2, random_state=42)\n"
   ]
  },
  {
   "cell_type": "code",
   "execution_count": 52,
   "id": "05789e1f",
   "metadata": {},
   "outputs": [
    {
     "data": {
      "text/plain": [
       "(240, 7)"
      ]
     },
     "execution_count": 52,
     "metadata": {},
     "output_type": "execute_result"
    }
   ],
   "source": [
    "X_train.shape"
   ]
  },
  {
   "cell_type": "markdown",
   "id": "8bad09f9",
   "metadata": {},
   "source": [
    "## ANN Algorithm"
   ]
  },
  {
   "cell_type": "code",
   "execution_count": 72,
   "id": "f171811d",
   "metadata": {},
   "outputs": [
    {
     "name": "stdout",
     "output_type": "stream",
     "text": [
      "Epoch 1/100\n",
      "8/8 [==============================] - 1s 4ms/step - loss: 4.2945 - mae: 4.2945\n",
      "Epoch 2/100\n",
      "8/8 [==============================] - 0s 3ms/step - loss: 4.0691 - mae: 4.0691\n",
      "Epoch 3/100\n",
      "8/8 [==============================] - 0s 3ms/step - loss: 3.9251 - mae: 3.9251\n",
      "Epoch 4/100\n",
      "8/8 [==============================] - 0s 3ms/step - loss: 3.8200 - mae: 3.8200\n",
      "Epoch 5/100\n",
      "8/8 [==============================] - 0s 3ms/step - loss: 3.7220 - mae: 3.7220\n",
      "Epoch 6/100\n",
      "8/8 [==============================] - 0s 3ms/step - loss: 3.6308 - mae: 3.6308\n",
      "Epoch 7/100\n",
      "8/8 [==============================] - 0s 3ms/step - loss: 3.5511 - mae: 3.5511\n",
      "Epoch 8/100\n",
      "8/8 [==============================] - 0s 6ms/step - loss: 3.4764 - mae: 3.4764\n",
      "Epoch 9/100\n",
      "8/8 [==============================] - 0s 2ms/step - loss: 3.4092 - mae: 3.4092\n",
      "Epoch 10/100\n",
      "8/8 [==============================] - 0s 3ms/step - loss: 3.3511 - mae: 3.3511\n",
      "Epoch 11/100\n",
      "8/8 [==============================] - 0s 3ms/step - loss: 3.3075 - mae: 3.3075\n",
      "Epoch 12/100\n",
      "8/8 [==============================] - 0s 3ms/step - loss: 3.2664 - mae: 3.2664\n",
      "Epoch 13/100\n",
      "8/8 [==============================] - 0s 3ms/step - loss: 3.2299 - mae: 3.2299\n",
      "Epoch 14/100\n",
      "8/8 [==============================] - 0s 3ms/step - loss: 3.1928 - mae: 3.1928\n",
      "Epoch 15/100\n",
      "8/8 [==============================] - 0s 4ms/step - loss: 3.1547 - mae: 3.1547\n",
      "Epoch 16/100\n",
      "8/8 [==============================] - 0s 4ms/step - loss: 3.1158 - mae: 3.1158\n",
      "Epoch 17/100\n",
      "8/8 [==============================] - 0s 3ms/step - loss: 3.0790 - mae: 3.0790\n",
      "Epoch 18/100\n",
      "8/8 [==============================] - 0s 3ms/step - loss: 3.0404 - mae: 3.0404\n",
      "Epoch 19/100\n",
      "8/8 [==============================] - 0s 4ms/step - loss: 3.0004 - mae: 3.0004\n",
      "Epoch 20/100\n",
      "8/8 [==============================] - 0s 3ms/step - loss: 2.9605 - mae: 2.9605\n",
      "Epoch 21/100\n",
      "8/8 [==============================] - 0s 3ms/step - loss: 2.9189 - mae: 2.9189\n",
      "Epoch 22/100\n",
      "8/8 [==============================] - 0s 3ms/step - loss: 2.8796 - mae: 2.8796\n",
      "Epoch 23/100\n",
      "8/8 [==============================] - 0s 3ms/step - loss: 2.8374 - mae: 2.8374\n",
      "Epoch 24/100\n",
      "8/8 [==============================] - 0s 2ms/step - loss: 2.7928 - mae: 2.7928\n",
      "Epoch 25/100\n",
      "8/8 [==============================] - 0s 3ms/step - loss: 2.7596 - mae: 2.7596\n",
      "Epoch 26/100\n",
      "8/8 [==============================] - 0s 3ms/step - loss: 2.7169 - mae: 2.7169\n",
      "Epoch 27/100\n",
      "8/8 [==============================] - 0s 3ms/step - loss: 2.6817 - mae: 2.6817\n",
      "Epoch 28/100\n",
      "8/8 [==============================] - 0s 3ms/step - loss: 2.6500 - mae: 2.6500\n",
      "Epoch 29/100\n",
      "8/8 [==============================] - 0s 3ms/step - loss: 2.6160 - mae: 2.6160\n",
      "Epoch 30/100\n",
      "8/8 [==============================] - 0s 3ms/step - loss: 2.5806 - mae: 2.5806\n",
      "Epoch 31/100\n",
      "8/8 [==============================] - 0s 3ms/step - loss: 2.5490 - mae: 2.5490\n",
      "Epoch 32/100\n",
      "8/8 [==============================] - 0s 3ms/step - loss: 2.5171 - mae: 2.5171\n",
      "Epoch 33/100\n",
      "8/8 [==============================] - 0s 3ms/step - loss: 2.4871 - mae: 2.4871\n",
      "Epoch 34/100\n",
      "8/8 [==============================] - 0s 3ms/step - loss: 2.4608 - mae: 2.4608\n",
      "Epoch 35/100\n",
      "8/8 [==============================] - 0s 3ms/step - loss: 2.4393 - mae: 2.4393\n",
      "Epoch 36/100\n",
      "8/8 [==============================] - 0s 3ms/step - loss: 2.4109 - mae: 2.4109\n",
      "Epoch 37/100\n",
      "8/8 [==============================] - 0s 3ms/step - loss: 2.3899 - mae: 2.3899\n",
      "Epoch 38/100\n",
      "8/8 [==============================] - 0s 3ms/step - loss: 2.3705 - mae: 2.3705\n",
      "Epoch 39/100\n",
      "8/8 [==============================] - 0s 3ms/step - loss: 2.3575 - mae: 2.3575\n",
      "Epoch 40/100\n",
      "8/8 [==============================] - 0s 3ms/step - loss: 2.3390 - mae: 2.3390\n",
      "Epoch 41/100\n",
      "8/8 [==============================] - 0s 3ms/step - loss: 2.3264 - mae: 2.3264\n",
      "Epoch 42/100\n",
      "8/8 [==============================] - 0s 3ms/step - loss: 2.3082 - mae: 2.3082\n",
      "Epoch 43/100\n",
      "8/8 [==============================] - 0s 3ms/step - loss: 2.2926 - mae: 2.2926\n",
      "Epoch 44/100\n",
      "8/8 [==============================] - 0s 3ms/step - loss: 2.2787 - mae: 2.2787\n",
      "Epoch 45/100\n",
      "8/8 [==============================] - 0s 3ms/step - loss: 2.2640 - mae: 2.2640\n",
      "Epoch 46/100\n",
      "8/8 [==============================] - 0s 3ms/step - loss: 2.2537 - mae: 2.2537\n",
      "Epoch 47/100\n",
      "8/8 [==============================] - 0s 3ms/step - loss: 2.2410 - mae: 2.2410\n",
      "Epoch 48/100\n",
      "8/8 [==============================] - 0s 4ms/step - loss: 2.2290 - mae: 2.2290\n",
      "Epoch 49/100\n",
      "8/8 [==============================] - 0s 4ms/step - loss: 2.2192 - mae: 2.2192\n",
      "Epoch 50/100\n",
      "8/8 [==============================] - 0s 3ms/step - loss: 2.2066 - mae: 2.2066\n",
      "Epoch 51/100\n",
      "8/8 [==============================] - 0s 3ms/step - loss: 2.1988 - mae: 2.1988\n",
      "Epoch 52/100\n",
      "8/8 [==============================] - 0s 3ms/step - loss: 2.1955 - mae: 2.1955\n",
      "Epoch 53/100\n",
      "8/8 [==============================] - 0s 3ms/step - loss: 2.1843 - mae: 2.1843\n",
      "Epoch 54/100\n",
      "8/8 [==============================] - 0s 5ms/step - loss: 2.1779 - mae: 2.1779\n",
      "Epoch 55/100\n",
      "8/8 [==============================] - 0s 3ms/step - loss: 2.1727 - mae: 2.1727\n",
      "Epoch 56/100\n",
      "8/8 [==============================] - 0s 3ms/step - loss: 2.1646 - mae: 2.1646\n",
      "Epoch 57/100\n",
      "8/8 [==============================] - 0s 3ms/step - loss: 2.1627 - mae: 2.1627\n",
      "Epoch 58/100\n",
      "8/8 [==============================] - 0s 3ms/step - loss: 2.1555 - mae: 2.1555\n",
      "Epoch 59/100\n",
      "8/8 [==============================] - 0s 3ms/step - loss: 2.1502 - mae: 2.1502\n",
      "Epoch 60/100\n",
      "8/8 [==============================] - 0s 3ms/step - loss: 2.1466 - mae: 2.1466\n",
      "Epoch 61/100\n",
      "8/8 [==============================] - 0s 3ms/step - loss: 2.1443 - mae: 2.1443\n",
      "Epoch 62/100\n",
      "8/8 [==============================] - 0s 3ms/step - loss: 2.1360 - mae: 2.1360\n",
      "Epoch 63/100\n",
      "8/8 [==============================] - 0s 3ms/step - loss: 2.1357 - mae: 2.1357\n",
      "Epoch 64/100\n",
      "8/8 [==============================] - 0s 3ms/step - loss: 2.1288 - mae: 2.1288\n",
      "Epoch 65/100\n",
      "8/8 [==============================] - 0s 3ms/step - loss: 2.1309 - mae: 2.1309\n",
      "Epoch 66/100\n",
      "8/8 [==============================] - 0s 3ms/step - loss: 2.1273 - mae: 2.1273\n",
      "Epoch 67/100\n",
      "8/8 [==============================] - 0s 3ms/step - loss: 2.1220 - mae: 2.1220\n",
      "Epoch 68/100\n",
      "8/8 [==============================] - 0s 3ms/step - loss: 2.1205 - mae: 2.1205\n",
      "Epoch 69/100\n",
      "8/8 [==============================] - 0s 6ms/step - loss: 2.1179 - mae: 2.1179\n",
      "Epoch 70/100\n",
      "8/8 [==============================] - 0s 3ms/step - loss: 2.1137 - mae: 2.1137\n",
      "Epoch 71/100\n",
      "8/8 [==============================] - 0s 3ms/step - loss: 2.1117 - mae: 2.1117\n",
      "Epoch 72/100\n",
      "8/8 [==============================] - 0s 3ms/step - loss: 2.1153 - mae: 2.1153\n",
      "Epoch 73/100\n",
      "8/8 [==============================] - 0s 3ms/step - loss: 2.1111 - mae: 2.1111\n",
      "Epoch 74/100\n",
      "8/8 [==============================] - 0s 3ms/step - loss: 2.1027 - mae: 2.1027\n",
      "Epoch 75/100\n",
      "8/8 [==============================] - 0s 3ms/step - loss: 2.1036 - mae: 2.1036\n",
      "Epoch 76/100\n",
      "8/8 [==============================] - 0s 3ms/step - loss: 2.1027 - mae: 2.1027\n",
      "Epoch 77/100\n",
      "8/8 [==============================] - 0s 3ms/step - loss: 2.0976 - mae: 2.0976\n",
      "Epoch 78/100\n",
      "8/8 [==============================] - 0s 3ms/step - loss: 2.0981 - mae: 2.0981\n",
      "Epoch 79/100\n",
      "8/8 [==============================] - 0s 3ms/step - loss: 2.0929 - mae: 2.0929\n",
      "Epoch 80/100\n",
      "8/8 [==============================] - 0s 3ms/step - loss: 2.0918 - mae: 2.0918\n",
      "Epoch 81/100\n",
      "8/8 [==============================] - 0s 3ms/step - loss: 2.0903 - mae: 2.0903\n",
      "Epoch 82/100\n",
      "8/8 [==============================] - 0s 3ms/step - loss: 2.0931 - mae: 2.0931\n",
      "Epoch 83/100\n",
      "8/8 [==============================] - 0s 3ms/step - loss: 2.0894 - mae: 2.0894\n",
      "Epoch 84/100\n",
      "8/8 [==============================] - 0s 3ms/step - loss: 2.0823 - mae: 2.0823\n",
      "Epoch 85/100\n",
      "8/8 [==============================] - 0s 3ms/step - loss: 2.0799 - mae: 2.0799\n",
      "Epoch 86/100\n",
      "8/8 [==============================] - 0s 4ms/step - loss: 2.0806 - mae: 2.0806\n",
      "Epoch 87/100\n",
      "8/8 [==============================] - 0s 3ms/step - loss: 2.0761 - mae: 2.0761\n",
      "Epoch 88/100\n",
      "8/8 [==============================] - 0s 3ms/step - loss: 2.0745 - mae: 2.0745\n",
      "Epoch 89/100\n"
     ]
    },
    {
     "name": "stdout",
     "output_type": "stream",
     "text": [
      "8/8 [==============================] - 0s 3ms/step - loss: 2.0744 - mae: 2.0744\n",
      "Epoch 90/100\n",
      "8/8 [==============================] - 0s 3ms/step - loss: 2.0740 - mae: 2.0740\n",
      "Epoch 91/100\n",
      "8/8 [==============================] - 0s 3ms/step - loss: 2.0678 - mae: 2.0678\n",
      "Epoch 92/100\n",
      "8/8 [==============================] - 0s 3ms/step - loss: 2.0669 - mae: 2.0669\n",
      "Epoch 93/100\n",
      "8/8 [==============================] - 0s 3ms/step - loss: 2.0683 - mae: 2.0683\n",
      "Epoch 94/100\n",
      "8/8 [==============================] - 0s 3ms/step - loss: 2.0689 - mae: 2.0689\n",
      "Epoch 95/100\n",
      "8/8 [==============================] - 0s 3ms/step - loss: 2.0679 - mae: 2.0679\n",
      "Epoch 96/100\n",
      "8/8 [==============================] - 0s 3ms/step - loss: 2.0609 - mae: 2.0609\n",
      "Epoch 97/100\n",
      "8/8 [==============================] - 0s 4ms/step - loss: 2.0582 - mae: 2.0582\n",
      "Epoch 98/100\n",
      "8/8 [==============================] - 0s 4ms/step - loss: 2.0681 - mae: 2.0681\n",
      "Epoch 99/100\n",
      "8/8 [==============================] - 0s 3ms/step - loss: 2.0529 - mae: 2.0529\n",
      "Epoch 100/100\n",
      "8/8 [==============================] - 0s 3ms/step - loss: 2.0562 - mae: 2.0562\n"
     ]
    },
    {
     "data": {
      "text/plain": [
       "<keras.src.callbacks.History at 0x2849c983730>"
      ]
     },
     "execution_count": 72,
     "metadata": {},
     "output_type": "execute_result"
    }
   ],
   "source": [
    "tf.random.set_seed(42)\n",
    "# 1. create a model\n",
    "model = tf.keras.Sequential([\n",
    "    tf.keras.layers.Dense(7, input_shape=(7,)),\n",
    "    tf.keras.layers.Dense(1)\n",
    "])\n",
    "\n",
    "# 2. compile model\n",
    "model.compile(loss=\"mae\", optimizer='sgd', metrics=['mae'])\n",
    "\n",
    "# 3. Fit the data\n",
    "model.fit(X_train, y_train, epochs=100)"
   ]
  },
  {
   "cell_type": "code",
   "execution_count": 73,
   "id": "5c4ac5bd",
   "metadata": {},
   "outputs": [
    {
     "name": "stdout",
     "output_type": "stream",
     "text": [
      "Model: \"sequential_3\"\n",
      "_________________________________________________________________\n",
      " Layer (type)                Output Shape              Param #   \n",
      "=================================================================\n",
      " dense_3 (Dense)             (None, 7)                 56        \n",
      "                                                                 \n",
      " dense_4 (Dense)             (None, 1)                 8         \n",
      "                                                                 \n",
      "=================================================================\n",
      "Total params: 64 (256.00 Byte)\n",
      "Trainable params: 64 (256.00 Byte)\n",
      "Non-trainable params: 0 (0.00 Byte)\n",
      "_________________________________________________________________\n"
     ]
    }
   ],
   "source": [
    "model.summary()"
   ]
  },
  {
   "cell_type": "code",
   "execution_count": 74,
   "id": "ee98405f",
   "metadata": {},
   "outputs": [
    {
     "name": "stdout",
     "output_type": "stream",
     "text": [
      "2/2 [==============================] - 0s 3ms/step\n"
     ]
    }
   ],
   "source": [
    "y_pred = model.predict(X_test)"
   ]
  },
  {
   "cell_type": "code",
   "execution_count": 75,
   "id": "46c45888",
   "metadata": {},
   "outputs": [
    {
     "data": {
      "text/plain": [
       "array([[0.9920654 ],\n",
       "       [5.5089397 ],\n",
       "       [4.594231  ],\n",
       "       [0.04919904],\n",
       "       [5.3001122 ],\n",
       "       [4.9428926 ],\n",
       "       [0.7022909 ],\n",
       "       [0.53212845],\n",
       "       [0.78888106],\n",
       "       [4.845923  ],\n",
       "       [5.297841  ],\n",
       "       [0.45444015],\n",
       "       [5.4026165 ],\n",
       "       [1.0874687 ],\n",
       "       [4.702056  ],\n",
       "       [4.95923   ],\n",
       "       [0.30317113],\n",
       "       [5.772412  ],\n",
       "       [0.9101463 ],\n",
       "       [0.93507254],\n",
       "       [0.40480074],\n",
       "       [5.052738  ],\n",
       "       [4.55548   ],\n",
       "       [4.6419663 ],\n",
       "       [0.558938  ],\n",
       "       [4.841021  ],\n",
       "       [5.085284  ],\n",
       "       [4.693859  ],\n",
       "       [0.93894076],\n",
       "       [0.8207364 ],\n",
       "       [0.41195992],\n",
       "       [4.9818873 ],\n",
       "       [0.04534194],\n",
       "       [4.367766  ],\n",
       "       [5.123747  ],\n",
       "       [5.1044154 ],\n",
       "       [5.2374315 ],\n",
       "       [4.815611  ],\n",
       "       [4.9353876 ],\n",
       "       [4.925721  ],\n",
       "       [4.1842256 ],\n",
       "       [4.291062  ],\n",
       "       [5.065605  ],\n",
       "       [0.5778161 ],\n",
       "       [4.921901  ],\n",
       "       [0.4456558 ],\n",
       "       [5.2920947 ],\n",
       "       [5.2734127 ],\n",
       "       [4.9029527 ],\n",
       "       [4.511834  ],\n",
       "       [5.2312675 ],\n",
       "       [0.92928064],\n",
       "       [5.8772573 ],\n",
       "       [5.801029  ],\n",
       "       [4.982641  ],\n",
       "       [5.7249866 ],\n",
       "       [5.1549745 ],\n",
       "       [5.1332827 ],\n",
       "       [4.11186   ],\n",
       "       [5.5635347 ],\n",
       "       [0.42589962]], dtype=float32)"
      ]
     },
     "execution_count": 75,
     "metadata": {},
     "output_type": "execute_result"
    }
   ],
   "source": [
    "y_pred"
   ]
  },
  {
   "cell_type": "code",
   "execution_count": 76,
   "id": "a91c8743",
   "metadata": {},
   "outputs": [
    {
     "data": {
      "text/plain": [
       "177     0.35\n",
       "289    10.11\n",
       "228     4.95\n",
       "198     0.15\n",
       "60      6.95\n",
       "       ...  \n",
       "234     5.50\n",
       "296     9.50\n",
       "281     2.10\n",
       "285     7.40\n",
       "182     0.30\n",
       "Name: Selling_Price, Length: 61, dtype: float64"
      ]
     },
     "execution_count": 76,
     "metadata": {},
     "output_type": "execute_result"
    }
   ],
   "source": [
    "y_test"
   ]
  },
  {
   "cell_type": "code",
   "execution_count": 77,
   "id": "f7a8d9e6",
   "metadata": {},
   "outputs": [
    {
     "name": "stdout",
     "output_type": "stream",
     "text": [
      "2/2 [==============================] - 0s 7ms/step - loss: 1.9877 - mae: 1.9877\n"
     ]
    },
    {
     "data": {
      "text/plain": [
       "[1.987656593322754, 1.987656593322754]"
      ]
     },
     "execution_count": 77,
     "metadata": {},
     "output_type": "execute_result"
    }
   ],
   "source": [
    "model.evaluate(X_test,y_test)"
   ]
  },
  {
   "cell_type": "markdown",
   "id": "69f7eea0",
   "metadata": {},
   "source": [
    "**Mean Absolute Error**"
   ]
  },
  {
   "cell_type": "code",
   "execution_count": 78,
   "id": "c5b62b5f",
   "metadata": {},
   "outputs": [
    {
     "data": {
      "text/plain": [
       "((61,), (61, 1))"
      ]
     },
     "execution_count": 78,
     "metadata": {},
     "output_type": "execute_result"
    }
   ],
   "source": [
    "y_test.shape, y_pred.shape"
   ]
  },
  {
   "cell_type": "code",
   "execution_count": 63,
   "id": "8dbd56a9",
   "metadata": {},
   "outputs": [
    {
     "data": {
      "text/plain": [
       "TensorShape([61, 10])"
      ]
     },
     "execution_count": 63,
     "metadata": {},
     "output_type": "execute_result"
    }
   ],
   "source": [
    "y_pred = tf.squeeze(y_pred)\n",
    "y_pred.shape"
   ]
  },
  {
   "cell_type": "code",
   "execution_count": 61,
   "id": "04e4ab70",
   "metadata": {},
   "outputs": [
    {
     "ename": "InvalidArgumentError",
     "evalue": "{{function_node __wrapped__Sub_device_/job:localhost/replica:0/task:0/device:CPU:0}} Incompatible shapes: [61,10] vs. [61] [Op:Sub] name: ",
     "output_type": "error",
     "traceback": [
      "\u001b[1;31m---------------------------------------------------------------------------\u001b[0m",
      "\u001b[1;31mInvalidArgumentError\u001b[0m                      Traceback (most recent call last)",
      "\u001b[1;32m~\\AppData\\Local\\Temp\\ipykernel_37096\\2607716051.py\u001b[0m in \u001b[0;36m<module>\u001b[1;34m\u001b[0m\n\u001b[1;32m----> 1\u001b[1;33m \u001b[0mmae\u001b[0m \u001b[1;33m=\u001b[0m \u001b[0mtf\u001b[0m\u001b[1;33m.\u001b[0m\u001b[0mkeras\u001b[0m\u001b[1;33m.\u001b[0m\u001b[0mlosses\u001b[0m\u001b[1;33m.\u001b[0m\u001b[0mmae\u001b[0m\u001b[1;33m(\u001b[0m\u001b[0my_test\u001b[0m\u001b[1;33m,\u001b[0m \u001b[0my_pred\u001b[0m\u001b[1;33m)\u001b[0m\u001b[1;33m\u001b[0m\u001b[1;33m\u001b[0m\u001b[0m\n\u001b[0m\u001b[0;32m      2\u001b[0m \u001b[0mmae\u001b[0m\u001b[1;33m\u001b[0m\u001b[1;33m\u001b[0m\u001b[0m\n",
      "\u001b[1;32m~\\AppData\\Roaming\\Python\\Python39\\site-packages\\tensorflow\\python\\util\\traceback_utils.py\u001b[0m in \u001b[0;36merror_handler\u001b[1;34m(*args, **kwargs)\u001b[0m\n\u001b[0;32m    151\u001b[0m     \u001b[1;32mexcept\u001b[0m \u001b[0mException\u001b[0m \u001b[1;32mas\u001b[0m \u001b[0me\u001b[0m\u001b[1;33m:\u001b[0m\u001b[1;33m\u001b[0m\u001b[1;33m\u001b[0m\u001b[0m\n\u001b[0;32m    152\u001b[0m       \u001b[0mfiltered_tb\u001b[0m \u001b[1;33m=\u001b[0m \u001b[0m_process_traceback_frames\u001b[0m\u001b[1;33m(\u001b[0m\u001b[0me\u001b[0m\u001b[1;33m.\u001b[0m\u001b[0m__traceback__\u001b[0m\u001b[1;33m)\u001b[0m\u001b[1;33m\u001b[0m\u001b[1;33m\u001b[0m\u001b[0m\n\u001b[1;32m--> 153\u001b[1;33m       \u001b[1;32mraise\u001b[0m \u001b[0me\u001b[0m\u001b[1;33m.\u001b[0m\u001b[0mwith_traceback\u001b[0m\u001b[1;33m(\u001b[0m\u001b[0mfiltered_tb\u001b[0m\u001b[1;33m)\u001b[0m \u001b[1;32mfrom\u001b[0m \u001b[1;32mNone\u001b[0m\u001b[1;33m\u001b[0m\u001b[1;33m\u001b[0m\u001b[0m\n\u001b[0m\u001b[0;32m    154\u001b[0m     \u001b[1;32mfinally\u001b[0m\u001b[1;33m:\u001b[0m\u001b[1;33m\u001b[0m\u001b[1;33m\u001b[0m\u001b[0m\n\u001b[0;32m    155\u001b[0m       \u001b[1;32mdel\u001b[0m \u001b[0mfiltered_tb\u001b[0m\u001b[1;33m\u001b[0m\u001b[1;33m\u001b[0m\u001b[0m\n",
      "\u001b[1;32m~\\AppData\\Roaming\\Python\\Python39\\site-packages\\keras\\src\\losses.py\u001b[0m in \u001b[0;36mmean_absolute_error\u001b[1;34m(y_true, y_pred)\u001b[0m\n\u001b[0;32m   1747\u001b[0m     \u001b[0my_pred\u001b[0m \u001b[1;33m=\u001b[0m \u001b[0mtf\u001b[0m\u001b[1;33m.\u001b[0m\u001b[0mconvert_to_tensor\u001b[0m\u001b[1;33m(\u001b[0m\u001b[0my_pred\u001b[0m\u001b[1;33m)\u001b[0m\u001b[1;33m\u001b[0m\u001b[1;33m\u001b[0m\u001b[0m\n\u001b[0;32m   1748\u001b[0m     \u001b[0my_true\u001b[0m \u001b[1;33m=\u001b[0m \u001b[0mtf\u001b[0m\u001b[1;33m.\u001b[0m\u001b[0mcast\u001b[0m\u001b[1;33m(\u001b[0m\u001b[0my_true\u001b[0m\u001b[1;33m,\u001b[0m \u001b[0my_pred\u001b[0m\u001b[1;33m.\u001b[0m\u001b[0mdtype\u001b[0m\u001b[1;33m)\u001b[0m\u001b[1;33m\u001b[0m\u001b[1;33m\u001b[0m\u001b[0m\n\u001b[1;32m-> 1749\u001b[1;33m     \u001b[1;32mreturn\u001b[0m \u001b[0mbackend\u001b[0m\u001b[1;33m.\u001b[0m\u001b[0mmean\u001b[0m\u001b[1;33m(\u001b[0m\u001b[0mtf\u001b[0m\u001b[1;33m.\u001b[0m\u001b[0mabs\u001b[0m\u001b[1;33m(\u001b[0m\u001b[0my_pred\u001b[0m \u001b[1;33m-\u001b[0m \u001b[0my_true\u001b[0m\u001b[1;33m)\u001b[0m\u001b[1;33m,\u001b[0m \u001b[0maxis\u001b[0m\u001b[1;33m=\u001b[0m\u001b[1;33m-\u001b[0m\u001b[1;36m1\u001b[0m\u001b[1;33m)\u001b[0m\u001b[1;33m\u001b[0m\u001b[1;33m\u001b[0m\u001b[0m\n\u001b[0m\u001b[0;32m   1750\u001b[0m \u001b[1;33m\u001b[0m\u001b[0m\n\u001b[0;32m   1751\u001b[0m \u001b[1;33m\u001b[0m\u001b[0m\n",
      "\u001b[1;31mInvalidArgumentError\u001b[0m: {{function_node __wrapped__Sub_device_/job:localhost/replica:0/task:0/device:CPU:0}} Incompatible shapes: [61,10] vs. [61] [Op:Sub] name: "
     ]
    }
   ],
   "source": [
    "mae = tf.keras.losses.mae(y_test, y_pred)\n",
    "mae"
   ]
  },
  {
   "cell_type": "code",
   "execution_count": null,
   "id": "eaa1f31c",
   "metadata": {},
   "outputs": [],
   "source": []
  }
 ],
 "metadata": {
  "kernelspec": {
   "display_name": "Python 3 (ipykernel)",
   "language": "python",
   "name": "python3"
  },
  "language_info": {
   "codemirror_mode": {
    "name": "ipython",
    "version": 3
   },
   "file_extension": ".py",
   "mimetype": "text/x-python",
   "name": "python",
   "nbconvert_exporter": "python",
   "pygments_lexer": "ipython3",
   "version": "3.9.13"
  }
 },
 "nbformat": 4,
 "nbformat_minor": 5
}
