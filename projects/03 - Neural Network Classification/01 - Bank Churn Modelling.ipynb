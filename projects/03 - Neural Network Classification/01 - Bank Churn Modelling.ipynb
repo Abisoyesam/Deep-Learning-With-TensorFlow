{
 "cells": [
  {
   "cell_type": "markdown",
   "id": "194ffad6",
   "metadata": {},
   "source": [
    "# Bank Churn Modelling\n",
    "\n",
    "<hr>\n",
    "\n",
    "**Problem Statement:** A bank in Europe has hired me to give insight on why customers keep exiting or stops using their bank.\n",
    "- It is a **classification** problem\n",
    "- Predict which customer are leaving the bank"
   ]
  },
  {
   "cell_type": "code",
   "execution_count": 1,
   "id": "58097fd3",
   "metadata": {},
   "outputs": [],
   "source": [
    "import pandas as pd\n",
    "import matplotlib.pyplot as plt\n",
    "import tensorflow as tf"
   ]
  },
  {
   "cell_type": "code",
   "execution_count": null,
   "id": "17c3e01c",
   "metadata": {},
   "outputs": [],
   "source": []
  }
 ],
 "metadata": {
  "kernelspec": {
   "display_name": "Python 3 (ipykernel)",
   "language": "python",
   "name": "python3"
  },
  "language_info": {
   "codemirror_mode": {
    "name": "ipython",
    "version": 3
   },
   "file_extension": ".py",
   "mimetype": "text/x-python",
   "name": "python",
   "nbconvert_exporter": "python",
   "pygments_lexer": "ipython3",
   "version": "3.9.13"
  }
 },
 "nbformat": 4,
 "nbformat_minor": 5
}
