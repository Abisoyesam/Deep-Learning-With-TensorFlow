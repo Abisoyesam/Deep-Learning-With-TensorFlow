{
 "cells": [
  {
   "cell_type": "markdown",
   "id": "aa75bea5",
   "metadata": {},
   "source": [
    "# Improving Neural Network Regression\n",
    "<hr>\n",
    "\n",
    "**Goal:**\n",
    "- Given the data X = -7.0, -4.0, -1.0, 2.0, 5.0, 8.0, 11.0, 14.0\n",
    "- y = 3.0, 6.0, 9.0, 12.0, 15.0, 18.0, 21.0, 24.0\n",
    "- The relationship is $y = X + 10$\n",
    "- Predict y if X = 17.0\n",
    "- Improve the prediction for accuracy"
   ]
  },
  {
   "cell_type": "code",
   "execution_count": 1,
   "id": "155c9fe1",
   "metadata": {},
   "outputs": [],
   "source": [
    "import tensorflow as tf"
   ]
  },
  {
   "cell_type": "code",
   "execution_count": 2,
   "id": "691cbfa6",
   "metadata": {},
   "outputs": [],
   "source": [
    "X = tf.constant([-7.0, -4.0, -1.0, 2.0, 5.0, 8.0, 11.0, 14.0])\n",
    "y = tf.constant([3.0, 6.0, 9.0, 12.0, 15.0, 18.0, 21.0, 24.0])"
   ]
  },
  {
   "cell_type": "code",
   "execution_count": 3,
   "id": "4667f68d",
   "metadata": {},
   "outputs": [
    {
     "data": {
      "text/plain": [
       "(<tf.Tensor: shape=(8,), dtype=float32, numpy=array([-7., -4., -1.,  2.,  5.,  8., 11., 14.], dtype=float32)>,\n",
       " <tf.Tensor: shape=(8,), dtype=float32, numpy=array([ 3.,  6.,  9., 12., 15., 18., 21., 24.], dtype=float32)>)"
      ]
     },
     "execution_count": 3,
     "metadata": {},
     "output_type": "execute_result"
    }
   ],
   "source": [
    "X,y"
   ]
  },
  {
   "cell_type": "code",
   "execution_count": 4,
   "id": "63c6b16c",
   "metadata": {},
   "outputs": [
    {
     "name": "stdout",
     "output_type": "stream",
     "text": [
      "Epoch 1/5\n",
      "1/1 [==============================] - 1s 711ms/step - loss: 17.2799 - mae: 17.2799\n",
      "Epoch 2/5\n",
      "1/1 [==============================] - 0s 10ms/step - loss: 16.9987 - mae: 16.9987\n",
      "Epoch 3/5\n",
      "1/1 [==============================] - 0s 9ms/step - loss: 16.7174 - mae: 16.7174\n",
      "Epoch 4/5\n",
      "1/1 [==============================] - 0s 10ms/step - loss: 16.4362 - mae: 16.4362\n",
      "Epoch 5/5\n",
      "1/1 [==============================] - 0s 9ms/step - loss: 16.1549 - mae: 16.1549\n"
     ]
    },
    {
     "data": {
      "text/plain": [
       "<keras.src.callbacks.History at 0x182d37a6820>"
      ]
     },
     "execution_count": 4,
     "metadata": {},
     "output_type": "execute_result"
    }
   ],
   "source": [
    "# Set random seed\n",
    "tf.random.set_seed(42)\n",
    "\n",
    "# 1. Create a model using Sequential API\n",
    "model = tf.keras.Sequential([\n",
    "    tf.keras.layers.Dense(1, input_shape=(1,))\n",
    "])\n",
    "\n",
    "model.compile(loss=tf.keras.losses.mae,\n",
    "              optimizer=tf.keras.optimizers.SGD(),\n",
    "              metrics=['mae'])\n",
    "\n",
    "model.fit(X,y,epochs=5)"
   ]
  },
  {
   "cell_type": "code",
   "execution_count": 5,
   "id": "713bbe7e",
   "metadata": {},
   "outputs": [
    {
     "name": "stdout",
     "output_type": "stream",
     "text": [
      "1/1 [==============================] - 0s 194ms/step\n"
     ]
    },
    {
     "data": {
      "text/plain": [
       "array([[-10.16827]], dtype=float32)"
      ]
     },
     "execution_count": 5,
     "metadata": {},
     "output_type": "execute_result"
    }
   ],
   "source": [
    "y_pred = model.predict([17.0])\n",
    "y_pred"
   ]
  },
  {
   "cell_type": "code",
   "execution_count": 6,
   "id": "7afbe4bb",
   "metadata": {},
   "outputs": [
    {
     "data": {
      "text/plain": [
       "array([[6.83173]], dtype=float32)"
      ]
     },
     "execution_count": 6,
     "metadata": {},
     "output_type": "execute_result"
    }
   ],
   "source": [
    "# the model is very bad\n",
    "y_pred + 17"
   ]
  },
  {
   "cell_type": "markdown",
   "id": "1b886f64",
   "metadata": {},
   "source": [
    "### Improving a model\n",
    "\n",
    "A model can be improved by altering the steps in creating it. \n",
    "\n",
    "**Creating a model:** You might:\n",
    "- add more layers\n",
    "- increase the number of hidden units (neurons)\n",
    "- change the activation function of each layer.\n",
    "        \n",
    "**Compiling a model:** You might:\n",
    "- change the optimization function\n",
    "- perhaps change the *learning rate* of optimizer\n",
    "        \n",
    "**Fitting a model:** You might:\n",
    "- fit a model for more **epochs** (leave it training for longer)\n",
    "- give the model more examples to learn from."
   ]
  }
 ],
 "metadata": {
  "kernelspec": {
   "display_name": "Python 3 (ipykernel)",
   "language": "python",
   "name": "python3"
  },
  "language_info": {
   "codemirror_mode": {
    "name": "ipython",
    "version": 3
   },
   "file_extension": ".py",
   "mimetype": "text/x-python",
   "name": "python",
   "nbconvert_exporter": "python",
   "pygments_lexer": "ipython3",
   "version": "3.9.13"
  }
 },
 "nbformat": 4,
 "nbformat_minor": 5
}
