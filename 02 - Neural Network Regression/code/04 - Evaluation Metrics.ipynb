{
 "cells": [
  {
   "cell_type": "markdown",
   "id": "a28f7047",
   "metadata": {},
   "source": [
    "# Evaluation Metrics for NN Regression\n",
    "<hr>\n",
    "\n",
    "Evaluation metrics are dependent on the type of problem you are working on. Since we are working on a regression, two of the main metrics are:\n",
    "1. **MAE:** mean absolute error, \"on average how wrong is each of the model's predictions.\"\n",
    "2. **MSE:** mean square error, \"square the average errors.\""
   ]
  },
  {
   "cell_type": "code",
   "execution_count": 1,
   "id": "86758e9c",
   "metadata": {},
   "outputs": [],
   "source": [
    "import tensorflow as tf\n",
    "import matplotlib.pyplot as plt"
   ]
  },
  {
   "cell_type": "code",
   "execution_count": 7,
   "id": "86045938",
   "metadata": {},
   "outputs": [],
   "source": [
    "# demo data\n",
    "X = tf.range(-100, 100, 4)\n",
    "y = X + 10\n",
    "\n",
    "# split the data into train and test set\n",
    "X_train = X[:40]\n",
    "y_train = y[:40]\n",
    "\n",
    "X_test = X[40:]\n",
    "y_test = y[40:]\n",
    "\n",
    "# Build the model\n",
    "tf.random.set_seed(42)\n",
    "\n",
    "model = tf.keras.Sequential([\n",
    "    tf.keras.layers.Dense(10, input_shape=[1]),\n",
    "    tf.keras.layers.Dense(1)\n",
    "])\n",
    "\n",
    "# Compile the model\n",
    "model.compile(loss=tf.keras.losses.mae, \n",
    "              optimizer=tf.keras.optimizers.Adam(learning_rate=0.01),\n",
    "              metrics=['mae'])"
   ]
  },
  {
   "cell_type": "code",
   "execution_count": 8,
   "id": "0bf2fbf7",
   "metadata": {},
   "outputs": [
    {
     "name": "stdout",
     "output_type": "stream",
     "text": [
      "Model: \"sequential_2\"\n",
      "_________________________________________________________________\n",
      " Layer (type)                Output Shape              Param #   \n",
      "=================================================================\n",
      " dense_4 (Dense)             (None, 10)                20        \n",
      "                                                                 \n",
      " dense_5 (Dense)             (None, 1)                 11        \n",
      "                                                                 \n",
      "=================================================================\n",
      "Total params: 31 (124.00 Byte)\n",
      "Trainable params: 31 (124.00 Byte)\n",
      "Non-trainable params: 0 (0.00 Byte)\n",
      "_________________________________________________________________\n"
     ]
    }
   ],
   "source": [
    "model.summary()"
   ]
  },
  {
   "cell_type": "code",
   "execution_count": 9,
   "id": "c6c50af4",
   "metadata": {},
   "outputs": [
    {
     "name": "stdout",
     "output_type": "stream",
     "text": [
      "Epoch 1/100\n",
      "2/2 [==============================] - 1s 11ms/step - loss: 67.5247 - mae: 67.5247\n",
      "Epoch 2/100\n",
      "2/2 [==============================] - 0s 6ms/step - loss: 61.4750 - mae: 61.4750\n",
      "Epoch 3/100\n",
      "2/2 [==============================] - 0s 7ms/step - loss: 55.7682 - mae: 55.7682\n",
      "Epoch 4/100\n",
      "2/2 [==============================] - 0s 6ms/step - loss: 50.1261 - mae: 50.1261\n",
      "Epoch 5/100\n",
      "2/2 [==============================] - 0s 7ms/step - loss: 44.7541 - mae: 44.7541\n",
      "Epoch 6/100\n",
      "2/2 [==============================] - 0s 6ms/step - loss: 39.4311 - mae: 39.4311\n",
      "Epoch 7/100\n",
      "2/2 [==============================] - 0s 6ms/step - loss: 34.1159 - mae: 34.1159\n",
      "Epoch 8/100\n",
      "2/2 [==============================] - 0s 7ms/step - loss: 28.7017 - mae: 28.7017\n",
      "Epoch 9/100\n",
      "2/2 [==============================] - 0s 6ms/step - loss: 23.6318 - mae: 23.6318\n",
      "Epoch 10/100\n",
      "2/2 [==============================] - 0s 6ms/step - loss: 18.6332 - mae: 18.6332\n",
      "Epoch 11/100\n",
      "2/2 [==============================] - 0s 7ms/step - loss: 13.4956 - mae: 13.4956\n",
      "Epoch 12/100\n",
      "2/2 [==============================] - 0s 6ms/step - loss: 9.2054 - mae: 9.2054\n",
      "Epoch 13/100\n",
      "2/2 [==============================] - 0s 6ms/step - loss: 8.7473 - mae: 8.7473\n",
      "Epoch 14/100\n",
      "2/2 [==============================] - 0s 7ms/step - loss: 10.4691 - mae: 10.4691\n",
      "Epoch 15/100\n",
      "2/2 [==============================] - 0s 6ms/step - loss: 11.3843 - mae: 11.3843\n",
      "Epoch 16/100\n",
      "2/2 [==============================] - 0s 7ms/step - loss: 11.7403 - mae: 11.7403\n",
      "Epoch 17/100\n",
      "2/2 [==============================] - 0s 7ms/step - loss: 11.6090 - mae: 11.6090\n",
      "Epoch 18/100\n",
      "2/2 [==============================] - 0s 8ms/step - loss: 10.9968 - mae: 10.9968\n",
      "Epoch 19/100\n",
      "2/2 [==============================] - 0s 10ms/step - loss: 10.1733 - mae: 10.1733\n",
      "Epoch 20/100\n",
      "2/2 [==============================] - 0s 9ms/step - loss: 9.0513 - mae: 9.0513\n",
      "Epoch 21/100\n",
      "2/2 [==============================] - 0s 8ms/step - loss: 7.6633 - mae: 7.6633\n",
      "Epoch 22/100\n",
      "2/2 [==============================] - 0s 8ms/step - loss: 7.6443 - mae: 7.6443\n",
      "Epoch 23/100\n",
      "2/2 [==============================] - 0s 8ms/step - loss: 8.3729 - mae: 8.3729\n",
      "Epoch 24/100\n",
      "2/2 [==============================] - 0s 9ms/step - loss: 8.6844 - mae: 8.6844\n",
      "Epoch 25/100\n",
      "2/2 [==============================] - 0s 9ms/step - loss: 8.3574 - mae: 8.3574\n",
      "Epoch 26/100\n",
      "2/2 [==============================] - 0s 9ms/step - loss: 7.5978 - mae: 7.5978\n",
      "Epoch 27/100\n",
      "2/2 [==============================] - 0s 7ms/step - loss: 7.0449 - mae: 7.0449\n",
      "Epoch 28/100\n",
      "2/2 [==============================] - 0s 10ms/step - loss: 7.2515 - mae: 7.2515\n",
      "Epoch 29/100\n",
      "2/2 [==============================] - 0s 10ms/step - loss: 7.3936 - mae: 7.3936\n",
      "Epoch 30/100\n",
      "2/2 [==============================] - 0s 14ms/step - loss: 6.9118 - mae: 6.9118\n",
      "Epoch 31/100\n",
      "2/2 [==============================] - 0s 9ms/step - loss: 6.7897 - mae: 6.7897\n",
      "Epoch 32/100\n",
      "2/2 [==============================] - 0s 6ms/step - loss: 7.2108 - mae: 7.2108\n",
      "Epoch 33/100\n",
      "2/2 [==============================] - 0s 7ms/step - loss: 7.3878 - mae: 7.3878\n",
      "Epoch 34/100\n",
      "2/2 [==============================] - 0s 7ms/step - loss: 7.1417 - mae: 7.1417\n",
      "Epoch 35/100\n",
      "2/2 [==============================] - 0s 5ms/step - loss: 6.7406 - mae: 6.7406\n",
      "Epoch 36/100\n",
      "2/2 [==============================] - 0s 7ms/step - loss: 6.4939 - mae: 6.4939\n",
      "Epoch 37/100\n",
      "2/2 [==============================] - 0s 7ms/step - loss: 6.4956 - mae: 6.4956\n",
      "Epoch 38/100\n",
      "2/2 [==============================] - 0s 7ms/step - loss: 6.4047 - mae: 6.4047\n",
      "Epoch 39/100\n",
      "2/2 [==============================] - 0s 7ms/step - loss: 6.2874 - mae: 6.2874\n",
      "Epoch 40/100\n",
      "2/2 [==============================] - 0s 8ms/step - loss: 6.2936 - mae: 6.2936\n",
      "Epoch 41/100\n",
      "2/2 [==============================] - 0s 9ms/step - loss: 6.2516 - mae: 6.2516\n",
      "Epoch 42/100\n",
      "2/2 [==============================] - 0s 8ms/step - loss: 6.1230 - mae: 6.1230\n",
      "Epoch 43/100\n",
      "2/2 [==============================] - 0s 6ms/step - loss: 6.0652 - mae: 6.0652\n",
      "Epoch 44/100\n",
      "2/2 [==============================] - 0s 5ms/step - loss: 6.0004 - mae: 6.0004\n",
      "Epoch 45/100\n",
      "2/2 [==============================] - 0s 7ms/step - loss: 5.8826 - mae: 5.8826\n",
      "Epoch 46/100\n",
      "2/2 [==============================] - 0s 6ms/step - loss: 5.9245 - mae: 5.9245\n",
      "Epoch 47/100\n",
      "2/2 [==============================] - 0s 8ms/step - loss: 5.9238 - mae: 5.9238\n",
      "Epoch 48/100\n",
      "2/2 [==============================] - 0s 8ms/step - loss: 5.8522 - mae: 5.8522\n",
      "Epoch 49/100\n",
      "2/2 [==============================] - 0s 10ms/step - loss: 5.7035 - mae: 5.7035\n",
      "Epoch 50/100\n",
      "2/2 [==============================] - 0s 7ms/step - loss: 5.5598 - mae: 5.5598\n",
      "Epoch 51/100\n",
      "2/2 [==============================] - 0s 9ms/step - loss: 5.4916 - mae: 5.4916\n",
      "Epoch 52/100\n",
      "2/2 [==============================] - 0s 11ms/step - loss: 5.4188 - mae: 5.4188\n",
      "Epoch 53/100\n",
      "2/2 [==============================] - 0s 8ms/step - loss: 5.3348 - mae: 5.3348\n",
      "Epoch 54/100\n",
      "2/2 [==============================] - 0s 6ms/step - loss: 5.3304 - mae: 5.3304\n",
      "Epoch 55/100\n",
      "2/2 [==============================] - 0s 8ms/step - loss: 5.2492 - mae: 5.2492\n",
      "Epoch 56/100\n",
      "2/2 [==============================] - 0s 7ms/step - loss: 5.0875 - mae: 5.0875\n",
      "Epoch 57/100\n",
      "2/2 [==============================] - 0s 8ms/step - loss: 5.1546 - mae: 5.1546\n",
      "Epoch 58/100\n",
      "2/2 [==============================] - 0s 8ms/step - loss: 5.1265 - mae: 5.1265\n",
      "Epoch 59/100\n",
      "2/2 [==============================] - 0s 7ms/step - loss: 4.8758 - mae: 4.8758\n",
      "Epoch 60/100\n",
      "2/2 [==============================] - 0s 8ms/step - loss: 5.0491 - mae: 5.0491\n",
      "Epoch 61/100\n",
      "2/2 [==============================] - 0s 8ms/step - loss: 5.0783 - mae: 5.0783\n",
      "Epoch 62/100\n",
      "2/2 [==============================] - 0s 6ms/step - loss: 4.7865 - mae: 4.7865\n",
      "Epoch 63/100\n",
      "2/2 [==============================] - 0s 5ms/step - loss: 4.6929 - mae: 4.6929\n",
      "Epoch 64/100\n",
      "2/2 [==============================] - 0s 7ms/step - loss: 4.6521 - mae: 4.6521\n",
      "Epoch 65/100\n",
      "2/2 [==============================] - 0s 8ms/step - loss: 4.4349 - mae: 4.4349\n",
      "Epoch 66/100\n",
      "2/2 [==============================] - 0s 6ms/step - loss: 4.3821 - mae: 4.3821\n",
      "Epoch 67/100\n",
      "2/2 [==============================] - 0s 6ms/step - loss: 4.2926 - mae: 4.2926\n",
      "Epoch 68/100\n",
      "2/2 [==============================] - 0s 5ms/step - loss: 4.1881 - mae: 4.1881\n",
      "Epoch 69/100\n",
      "2/2 [==============================] - 0s 6ms/step - loss: 4.1521 - mae: 4.1521\n",
      "Epoch 70/100\n",
      "2/2 [==============================] - 0s 6ms/step - loss: 4.0422 - mae: 4.0422\n",
      "Epoch 71/100\n",
      "2/2 [==============================] - 0s 6ms/step - loss: 3.8972 - mae: 3.8972\n",
      "Epoch 72/100\n",
      "2/2 [==============================] - 0s 6ms/step - loss: 3.8252 - mae: 3.8252\n",
      "Epoch 73/100\n",
      "2/2 [==============================] - 0s 9ms/step - loss: 3.7619 - mae: 3.7619\n",
      "Epoch 74/100\n",
      "2/2 [==============================] - 0s 5ms/step - loss: 3.6122 - mae: 3.6122\n",
      "Epoch 75/100\n",
      "2/2 [==============================] - 0s 5ms/step - loss: 3.5004 - mae: 3.5004\n",
      "Epoch 76/100\n",
      "2/2 [==============================] - 0s 8ms/step - loss: 3.3994 - mae: 3.3994\n",
      "Epoch 77/100\n",
      "2/2 [==============================] - 0s 11ms/step - loss: 3.3228 - mae: 3.3228\n",
      "Epoch 78/100\n",
      "2/2 [==============================] - 0s 7ms/step - loss: 3.1851 - mae: 3.1851\n",
      "Epoch 79/100\n",
      "2/2 [==============================] - 0s 6ms/step - loss: 3.0826 - mae: 3.0826\n",
      "Epoch 80/100\n",
      "2/2 [==============================] - 0s 6ms/step - loss: 2.9746 - mae: 2.9746\n",
      "Epoch 81/100\n",
      "2/2 [==============================] - 0s 6ms/step - loss: 2.8957 - mae: 2.8957\n",
      "Epoch 82/100\n",
      "2/2 [==============================] - 0s 5ms/step - loss: 2.7735 - mae: 2.7735\n",
      "Epoch 83/100\n",
      "2/2 [==============================] - 0s 6ms/step - loss: 2.6877 - mae: 2.6877\n",
      "Epoch 84/100\n",
      "2/2 [==============================] - 0s 5ms/step - loss: 2.5082 - mae: 2.5082\n",
      "Epoch 85/100\n",
      "2/2 [==============================] - 0s 6ms/step - loss: 2.4018 - mae: 2.4018\n",
      "Epoch 86/100\n",
      "2/2 [==============================] - 0s 5ms/step - loss: 2.3168 - mae: 2.3168\n",
      "Epoch 87/100\n",
      "2/2 [==============================] - 0s 6ms/step - loss: 2.0674 - mae: 2.0674\n",
      "Epoch 88/100\n"
     ]
    },
    {
     "name": "stdout",
     "output_type": "stream",
     "text": [
      "2/2 [==============================] - 0s 5ms/step - loss: 2.1193 - mae: 2.1193\n",
      "Epoch 89/100\n",
      "2/2 [==============================] - 0s 5ms/step - loss: 1.9027 - mae: 1.9027\n",
      "Epoch 90/100\n",
      "2/2 [==============================] - 0s 5ms/step - loss: 1.7772 - mae: 1.7772\n",
      "Epoch 91/100\n",
      "2/2 [==============================] - 0s 5ms/step - loss: 1.6952 - mae: 1.6952\n",
      "Epoch 92/100\n",
      "2/2 [==============================] - 0s 6ms/step - loss: 1.4280 - mae: 1.4280\n",
      "Epoch 93/100\n",
      "2/2 [==============================] - 0s 6ms/step - loss: 1.4060 - mae: 1.4060\n",
      "Epoch 94/100\n",
      "2/2 [==============================] - 0s 4ms/step - loss: 1.1734 - mae: 1.1734\n",
      "Epoch 95/100\n",
      "2/2 [==============================] - 0s 5ms/step - loss: 1.0104 - mae: 1.0104\n",
      "Epoch 96/100\n",
      "2/2 [==============================] - 0s 7ms/step - loss: 1.0603 - mae: 1.0603\n",
      "Epoch 97/100\n",
      "2/2 [==============================] - 0s 6ms/step - loss: 1.0890 - mae: 1.0890\n",
      "Epoch 98/100\n",
      "2/2 [==============================] - 0s 4ms/step - loss: 1.2690 - mae: 1.2690\n",
      "Epoch 99/100\n",
      "2/2 [==============================] - 0s 6ms/step - loss: 0.5458 - mae: 0.5458\n",
      "Epoch 100/100\n",
      "2/2 [==============================] - 0s 6ms/step - loss: 0.5514 - mae: 0.5514\n"
     ]
    },
    {
     "data": {
      "text/plain": [
       "<keras.src.callbacks.History at 0x1c813c3b1f0>"
      ]
     },
     "execution_count": 9,
     "metadata": {},
     "output_type": "execute_result"
    }
   ],
   "source": [
    "# fit the model\n",
    "model.fit(X_train, y_train, epochs=100)"
   ]
  },
  {
   "cell_type": "code",
   "execution_count": 10,
   "id": "d31357cf",
   "metadata": {},
   "outputs": [
    {
     "name": "stdout",
     "output_type": "stream",
     "text": [
      "1/1 [==============================] - 0s 71ms/step\n"
     ]
    },
    {
     "data": {
      "text/plain": [
       "array([[ 70.238655],\n",
       "       [ 74.26532 ],\n",
       "       [ 78.291985],\n",
       "       [ 82.31866 ],\n",
       "       [ 86.34531 ],\n",
       "       [ 90.37198 ],\n",
       "       [ 94.398636],\n",
       "       [ 98.42531 ],\n",
       "       [102.45197 ],\n",
       "       [106.47863 ]], dtype=float32)"
      ]
     },
     "execution_count": 10,
     "metadata": {},
     "output_type": "execute_result"
    }
   ],
   "source": [
    "# make prediction\n",
    "y_pred = model.predict(X_test)\n",
    "y_pred"
   ]
  },
  {
   "cell_type": "code",
   "execution_count": 13,
   "id": "f07ab8b0",
   "metadata": {},
   "outputs": [
    {
     "data": {
      "text/plain": [
       "(<tf.Tensor: shape=(10,), dtype=int32, numpy=array([60, 64, 68, 72, 76, 80, 84, 88, 92, 96])>,\n",
       " <tf.Tensor: shape=(10,), dtype=int32, numpy=array([ 70,  74,  78,  82,  86,  90,  94,  98, 102, 106])>)"
      ]
     },
     "execution_count": 13,
     "metadata": {},
     "output_type": "execute_result"
    }
   ],
   "source": [
    "X[40:],y[40:]"
   ]
  },
  {
   "cell_type": "code",
   "execution_count": 11,
   "id": "5bda8712",
   "metadata": {},
   "outputs": [
    {
     "data": {
      "image/png": "[encoded data removed]",
      "text/plain": [
       "<Figure size 1000x700 with 1 Axes>"
      ]
     },
     "metadata": {},
     "output_type": "display_data"
    }
   ],
   "source": [
    "# Visualize the prediction\n",
    "# visualize using a plotting function\n",
    "def plot_predictions(train_data=X_train, train_labels=y_train, test_data=X_test, test_labels=y_test, predictions=y_pred):\n",
    "    \"\"\"\n",
    "    plot training data, test data and compares predictions to ground truth\n",
    "    \"\"\"\n",
    "    plt.figure(figsize=(10,7))\n",
    "    # plot training data in blue\n",
    "    plt.scatter(train_data, train_labels, c=\"b\", label=\"Training data\")\n",
    "    # plot testing data in green\n",
    "    plt.scatter(test_data, test_labels, c=\"g\", label=\"Testing data\")\n",
    "    # plot model prediction\n",
    "    plt.scatter(test_data, predictions, c=\"r\", label=\"Prediction\")\n",
    "    # show legend\n",
    "    plt.legend();\n",
    "    \n",
    "plot_predictions()"
   ]
  },
  {
   "cell_type": "markdown",
   "id": "2bceee47",
   "metadata": {},
   "source": [
    "## Evaluation Metrics"
   ]
  },
  {
   "cell_type": "code",
   "execution_count": 14,
   "id": "9cf44bd2",
   "metadata": {},
   "outputs": [
    {
     "name": "stdout",
     "output_type": "stream",
     "text": [
      "1/1 [==============================] - 0s 207ms/step - loss: 0.3586 - mae: 0.3586\n"
     ]
    },
    {
     "data": {
      "text/plain": [
       "[0.35864487290382385, 0.35864487290382385]"
      ]
     },
     "execution_count": 14,
     "metadata": {},
     "output_type": "execute_result"
    }
   ],
   "source": [
    "# Evaluate the model on the test\n",
    "model.evaluate(X_test, y_test)"
   ]
  },
  {
   "cell_type": "markdown",
   "id": "616be510",
   "metadata": {},
   "source": [
    "**Compare `y_pred` to `y_test`**"
   ]
  },
  {
   "cell_type": "code",
   "execution_count": 21,
   "id": "1538db73",
   "metadata": {},
   "outputs": [
    {
     "data": {
      "text/plain": [
       "<tf.Tensor: shape=(10,), dtype=float32, numpy=\n",
       "array([ 70.,  74.,  78.,  82.,  86.,  90.,  94.,  98., 102., 106.],\n",
       "      dtype=float32)>"
      ]
     },
     "execution_count": 21,
     "metadata": {},
     "output_type": "execute_result"
    }
   ],
   "source": [
    "y_test = tf.cast(y_test, dtype=tf.float32)\n",
    "y_test"
   ]
  },
  {
   "cell_type": "code",
   "execution_count": 22,
   "id": "7a31824c",
   "metadata": {},
   "outputs": [
    {
     "data": {
      "text/plain": [
       "<tf.Tensor: shape=(10, 1), dtype=float32, numpy=\n",
       "array([[ 70.238655],\n",
       "       [ 74.26532 ],\n",
       "       [ 78.291985],\n",
       "       [ 82.31866 ],\n",
       "       [ 86.34531 ],\n",
       "       [ 90.37198 ],\n",
       "       [ 94.398636],\n",
       "       [ 98.42531 ],\n",
       "       [102.45197 ],\n",
       "       [106.47863 ]], dtype=float32)>"
      ]
     },
     "execution_count": 22,
     "metadata": {},
     "output_type": "execute_result"
    }
   ],
   "source": [
    "y_pred = tf.constant(y_pred)\n",
    "y_pred "
   ]
  },
  {
   "cell_type": "code",
   "execution_count": 23,
   "id": "13cb0f31",
   "metadata": {},
   "outputs": [
    {
     "data": {
      "text/plain": [
       "<tf.Tensor: shape=(10,), dtype=float32, numpy=\n",
       "array([17.809076, 14.640808, 12.283206, 10.736269, 10.      , 10.074396,\n",
       "       10.959455, 12.655185, 15.161578, 18.47863 ], dtype=float32)>"
      ]
     },
     "execution_count": 23,
     "metadata": {},
     "output_type": "execute_result"
    }
   ],
   "source": [
    "# calculate the mean absolute error\n",
    "mae = tf.keras.metrics.MAE(y_test, y_pred)\n",
    "mae"
   ]
  },
  {
   "cell_type": "markdown",
   "id": "326465bb",
   "metadata": {},
   "source": [
    "**Make sure the shape of `y_pred` and `y_test` are the same**"
   ]
  },
  {
   "cell_type": "code",
   "execution_count": 25,
   "id": "e0035869",
   "metadata": {},
   "outputs": [
    {
     "data": {
      "text/plain": [
       "<tf.Tensor: shape=(10,), dtype=float32, numpy=\n",
       "array([ 70.238655,  74.26532 ,  78.291985,  82.31866 ,  86.34531 ,\n",
       "        90.37198 ,  94.398636,  98.42531 , 102.45197 , 106.47863 ],\n",
       "      dtype=float32)>"
      ]
     },
     "execution_count": 25,
     "metadata": {},
     "output_type": "execute_result"
    }
   ],
   "source": [
    "y_pred = tf.squeeze(y_pred)\n",
    "y_pred"
   ]
  },
  {
   "cell_type": "code",
   "execution_count": 26,
   "id": "8550c218",
   "metadata": {},
   "outputs": [
    {
     "data": {
      "text/plain": [
       "<tf.Tensor: shape=(10,), dtype=float32, numpy=\n",
       "array([ 70.,  74.,  78.,  82.,  86.,  90.,  94.,  98., 102., 106.],\n",
       "      dtype=float32)>"
      ]
     },
     "execution_count": 26,
     "metadata": {},
     "output_type": "execute_result"
    }
   ],
   "source": [
    "y_test"
   ]
  },
  {
   "cell_type": "markdown",
   "id": "fef8ebfb",
   "metadata": {},
   "source": [
    "## MSE & MAE"
   ]
  },
  {
   "cell_type": "code",
   "execution_count": 27,
   "id": "c21eeb82",
   "metadata": {},
   "outputs": [
    {
     "data": {
      "text/plain": [
       "<tf.Tensor: shape=(), dtype=float32, numpy=0.35864487>"
      ]
     },
     "execution_count": 27,
     "metadata": {},
     "output_type": "execute_result"
    }
   ],
   "source": [
    "# calculate the mean absolute error\n",
    "mae = tf.keras.metrics.MAE(y_test, y_pred)\n",
    "mae\n",
    "\n",
    "# the same as mae = tf.keras.losses.MAE(y_test, y_pred)"
   ]
  },
  {
   "cell_type": "code",
   "execution_count": 30,
   "id": "5e1ad9f6",
   "metadata": {},
   "outputs": [
    {
     "data": {
      "text/plain": [
       "<tf.Tensor: shape=(), dtype=float32, numpy=0.13449168>"
      ]
     },
     "execution_count": 30,
     "metadata": {},
     "output_type": "execute_result"
    }
   ],
   "source": [
    "# calculate the mean square error\n",
    "mse = tf.keras.losses.MSE(y_test, y_pred)\n",
    "mse"
   ]
  },
  {
   "cell_type": "markdown",
   "id": "e3fa5eb7",
   "metadata": {},
   "source": [
    "## Comparing Tensorflow models. Click <a href=\"./05 - Comparing models.ipynb\">here</a>"
   ]
  }
 ],
 "metadata": {
  "kernelspec": {
   "display_name": "Python 3 (ipykernel)",
   "language": "python",
   "name": "python3"
  },
  "language_info": {
   "codemirror_mode": {
    "name": "ipython",
    "version": 3
   },
   "file_extension": ".py",
   "mimetype": "text/x-python",
   "name": "python",
   "nbconvert_exporter": "python",
   "pygments_lexer": "ipython3",
   "version": "3.9.13"
  }
 },
 "nbformat": 4,
 "nbformat_minor": 5
}
