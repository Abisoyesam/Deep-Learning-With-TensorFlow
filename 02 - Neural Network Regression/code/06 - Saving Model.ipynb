{
 "cells": [
  {
   "cell_type": "markdown",
   "id": "95aa699b",
   "metadata": {},
   "source": [
    "# Saving a Model\n",
    "\n",
    "Having evaluate different models and found the best one. It is neccesary to save the best performed model to avoid re-training and for future use.\n",
    "- Saving a model enables us to use it outside the trained environment (Google colab or Jupyter notebook).\n",
    "- Hence, it can be deployed on web app or mobile app."
   ]
  },
  {
   "cell_type": "code",
   "execution_count": 1,
   "id": "1a898acd",
   "metadata": {},
   "outputs": [],
   "source": [
    "import tensorflow as tf\n",
    "import matplotlib.pyplot as plt"
   ]
  },
  {
   "cell_type": "code",
   "execution_count": 2,
   "id": "859d6dc0",
   "metadata": {},
   "outputs": [
    {
     "data": {
      "text/plain": [
       "<matplotlib.legend.Legend at 0x22a9c259b50>"
      ]
     },
     "execution_count": 2,
     "metadata": {},
     "output_type": "execute_result"
    },
    {
     "data": {
      "image/png": "[encoded data removed]",
      "text/plain": [
       "<Figure size 1000x700 with 1 Axes>"
      ]
     },
     "metadata": {},
     "output_type": "display_data"
    }
   ],
   "source": [
    "# X and y data\n",
    "X = tf.range(-100, 100, 4)\n",
    "y = X + 10\n",
    "\n",
    "# split into train and test sets\n",
    "X_train = X[:40]\n",
    "y_train = y[:40]\n",
    "\n",
    "X_test = X[40:]\n",
    "y_test = y[40:]\n",
    "\n",
    "# plot the splited sets\n",
    "plt.figure(figsize=(10,7))\n",
    "plt.scatter(X_train, y_train, c='b', label=\"Training set\")\n",
    "plt.scatter(X_test, y_test, c='g', label=\"Testing set\")\n",
    "plt.legend()"
   ]
  },
  {
   "cell_type": "markdown",
   "id": "d7334be8",
   "metadata": {},
   "source": [
    "**Model 4 performed best in the last training**"
   ]
  },
  {
   "cell_type": "code",
   "execution_count": 3,
   "id": "68b42a16",
   "metadata": {},
   "outputs": [
    {
     "name": "stdout",
     "output_type": "stream",
     "text": [
      "Epoch 1/100\n",
      "2/2 [==============================] - 1s 10ms/step - loss: 35.0011 - mae: 35.0011\n",
      "Epoch 2/100\n",
      "2/2 [==============================] - 0s 6ms/step - loss: 25.9035 - mae: 25.9035\n",
      "Epoch 3/100\n",
      "2/2 [==============================] - 0s 6ms/step - loss: 17.2051 - mae: 17.2051\n",
      "Epoch 4/100\n",
      "2/2 [==============================] - 0s 6ms/step - loss: 9.3482 - mae: 9.3482\n",
      "Epoch 5/100\n",
      "2/2 [==============================] - 0s 5ms/step - loss: 9.9882 - mae: 9.9882\n",
      "Epoch 6/100\n",
      "2/2 [==============================] - 0s 6ms/step - loss: 13.4096 - mae: 13.4096\n",
      "Epoch 7/100\n",
      "2/2 [==============================] - 0s 4ms/step - loss: 15.1367 - mae: 15.1367\n",
      "Epoch 8/100\n",
      "2/2 [==============================] - 0s 5ms/step - loss: 14.8052 - mae: 14.8052\n",
      "Epoch 9/100\n",
      "2/2 [==============================] - 0s 7ms/step - loss: 13.2941 - mae: 13.2941\n",
      "Epoch 10/100\n",
      "2/2 [==============================] - 0s 8ms/step - loss: 11.2231 - mae: 11.2231\n",
      "Epoch 11/100\n",
      "2/2 [==============================] - 0s 6ms/step - loss: 8.5912 - mae: 8.5912\n",
      "Epoch 12/100\n",
      "2/2 [==============================] - 0s 6ms/step - loss: 7.2946 - mae: 7.2946\n",
      "Epoch 13/100\n",
      "2/2 [==============================] - 0s 5ms/step - loss: 8.9276 - mae: 8.9276\n",
      "Epoch 14/100\n",
      "2/2 [==============================] - 0s 5ms/step - loss: 9.1416 - mae: 9.1416\n",
      "Epoch 15/100\n",
      "2/2 [==============================] - 0s 5ms/step - loss: 7.9877 - mae: 7.9877\n",
      "Epoch 16/100\n",
      "2/2 [==============================] - 0s 6ms/step - loss: 6.9142 - mae: 6.9142\n",
      "Epoch 17/100\n",
      "2/2 [==============================] - 0s 7ms/step - loss: 7.4220 - mae: 7.4220\n",
      "Epoch 18/100\n",
      "2/2 [==============================] - 0s 6ms/step - loss: 7.9145 - mae: 7.9145\n",
      "Epoch 19/100\n",
      "2/2 [==============================] - 0s 7ms/step - loss: 7.5277 - mae: 7.5277\n",
      "Epoch 20/100\n",
      "2/2 [==============================] - 0s 7ms/step - loss: 6.5436 - mae: 6.5436\n",
      "Epoch 21/100\n",
      "2/2 [==============================] - 0s 14ms/step - loss: 6.7480 - mae: 6.7480\n",
      "Epoch 22/100\n",
      "2/2 [==============================] - 0s 7ms/step - loss: 7.1941 - mae: 7.1941\n",
      "Epoch 23/100\n",
      "2/2 [==============================] - 0s 7ms/step - loss: 6.8101 - mae: 6.8101\n",
      "Epoch 24/100\n",
      "2/2 [==============================] - 0s 6ms/step - loss: 5.9186 - mae: 5.9186\n",
      "Epoch 25/100\n",
      "2/2 [==============================] - 0s 6ms/step - loss: 6.2641 - mae: 6.2641\n",
      "Epoch 26/100\n",
      "2/2 [==============================] - 0s 6ms/step - loss: 6.3250 - mae: 6.3250\n",
      "Epoch 27/100\n",
      "2/2 [==============================] - 0s 7ms/step - loss: 5.7007 - mae: 5.7007\n",
      "Epoch 28/100\n",
      "2/2 [==============================] - 0s 5ms/step - loss: 5.6918 - mae: 5.6918\n",
      "Epoch 29/100\n",
      "2/2 [==============================] - 0s 6ms/step - loss: 5.8939 - mae: 5.8939\n",
      "Epoch 30/100\n",
      "2/2 [==============================] - 0s 7ms/step - loss: 5.4933 - mae: 5.4933\n",
      "Epoch 31/100\n",
      "2/2 [==============================] - 0s 7ms/step - loss: 5.2845 - mae: 5.2845\n",
      "Epoch 32/100\n",
      "2/2 [==============================] - 0s 6ms/step - loss: 5.6238 - mae: 5.6238\n",
      "Epoch 33/100\n",
      "2/2 [==============================] - 0s 6ms/step - loss: 5.1776 - mae: 5.1776\n",
      "Epoch 34/100\n",
      "2/2 [==============================] - 0s 7ms/step - loss: 5.0083 - mae: 5.0083\n",
      "Epoch 35/100\n",
      "2/2 [==============================] - 0s 6ms/step - loss: 5.1987 - mae: 5.1987\n",
      "Epoch 36/100\n",
      "2/2 [==============================] - 0s 6ms/step - loss: 4.8525 - mae: 4.8525\n",
      "Epoch 37/100\n",
      "2/2 [==============================] - 0s 5ms/step - loss: 4.6201 - mae: 4.6201\n",
      "Epoch 38/100\n",
      "2/2 [==============================] - 0s 7ms/step - loss: 4.7223 - mae: 4.7223\n",
      "Epoch 39/100\n",
      "2/2 [==============================] - 0s 8ms/step - loss: 4.2755 - mae: 4.2755\n",
      "Epoch 40/100\n",
      "2/2 [==============================] - 0s 6ms/step - loss: 4.6389 - mae: 4.6389\n",
      "Epoch 41/100\n",
      "2/2 [==============================] - 0s 5ms/step - loss: 4.5259 - mae: 4.5259\n",
      "Epoch 42/100\n",
      "2/2 [==============================] - 0s 5ms/step - loss: 3.9990 - mae: 3.9990\n",
      "Epoch 43/100\n",
      "2/2 [==============================] - 0s 6ms/step - loss: 4.4617 - mae: 4.4617\n",
      "Epoch 44/100\n",
      "2/2 [==============================] - 0s 5ms/step - loss: 3.9251 - mae: 3.9251\n",
      "Epoch 45/100\n",
      "2/2 [==============================] - 0s 5ms/step - loss: 4.0664 - mae: 4.0664\n",
      "Epoch 46/100\n",
      "2/2 [==============================] - 0s 7ms/step - loss: 4.6449 - mae: 4.6449\n",
      "Epoch 47/100\n",
      "2/2 [==============================] - 0s 6ms/step - loss: 3.8711 - mae: 3.8711\n",
      "Epoch 48/100\n",
      "2/2 [==============================] - 0s 5ms/step - loss: 3.2228 - mae: 3.2228\n",
      "Epoch 49/100\n",
      "2/2 [==============================] - 0s 6ms/step - loss: 3.5842 - mae: 3.5842\n",
      "Epoch 50/100\n",
      "2/2 [==============================] - 0s 6ms/step - loss: 3.1624 - mae: 3.1624\n",
      "Epoch 51/100\n",
      "2/2 [==============================] - 0s 6ms/step - loss: 3.1701 - mae: 3.1701\n",
      "Epoch 52/100\n",
      "2/2 [==============================] - 0s 4ms/step - loss: 2.9576 - mae: 2.9576\n",
      "Epoch 53/100\n",
      "2/2 [==============================] - 0s 5ms/step - loss: 2.6139 - mae: 2.6139\n",
      "Epoch 54/100\n",
      "2/2 [==============================] - 0s 4ms/step - loss: 2.3165 - mae: 2.3165\n",
      "Epoch 55/100\n",
      "2/2 [==============================] - 0s 4ms/step - loss: 2.2399 - mae: 2.2399\n",
      "Epoch 56/100\n",
      "2/2 [==============================] - 0s 5ms/step - loss: 2.0408 - mae: 2.0408\n",
      "Epoch 57/100\n",
      "2/2 [==============================] - 0s 5ms/step - loss: 1.8241 - mae: 1.8241\n",
      "Epoch 58/100\n",
      "2/2 [==============================] - 0s 5ms/step - loss: 1.8526 - mae: 1.8526\n",
      "Epoch 59/100\n",
      "2/2 [==============================] - 0s 6ms/step - loss: 1.4042 - mae: 1.4042\n",
      "Epoch 60/100\n",
      "2/2 [==============================] - 0s 4ms/step - loss: 1.2997 - mae: 1.2997\n",
      "Epoch 61/100\n",
      "2/2 [==============================] - 0s 5ms/step - loss: 1.0449 - mae: 1.0449\n",
      "Epoch 62/100\n",
      "2/2 [==============================] - 0s 5ms/step - loss: 0.8071 - mae: 0.8071\n",
      "Epoch 63/100\n",
      "2/2 [==============================] - 0s 5ms/step - loss: 0.6805 - mae: 0.6805\n",
      "Epoch 64/100\n",
      "2/2 [==============================] - 0s 5ms/step - loss: 0.4151 - mae: 0.4151\n",
      "Epoch 65/100\n",
      "2/2 [==============================] - 0s 5ms/step - loss: 0.3401 - mae: 0.3401\n",
      "Epoch 66/100\n",
      "2/2 [==============================] - 0s 6ms/step - loss: 0.8686 - mae: 0.8686\n",
      "Epoch 67/100\n",
      "2/2 [==============================] - 0s 5ms/step - loss: 0.2623 - mae: 0.2623\n",
      "Epoch 68/100\n",
      "2/2 [==============================] - 0s 5ms/step - loss: 0.3689 - mae: 0.3689\n",
      "Epoch 69/100\n",
      "2/2 [==============================] - 0s 5ms/step - loss: 0.8244 - mae: 0.8244\n",
      "Epoch 70/100\n",
      "2/2 [==============================] - 0s 6ms/step - loss: 0.5118 - mae: 0.5118\n",
      "Epoch 71/100\n",
      "2/2 [==============================] - 0s 5ms/step - loss: 0.5033 - mae: 0.5033\n",
      "Epoch 72/100\n",
      "2/2 [==============================] - 0s 6ms/step - loss: 0.3918 - mae: 0.3918\n",
      "Epoch 73/100\n",
      "2/2 [==============================] - 0s 5ms/step - loss: 0.5512 - mae: 0.5512\n",
      "Epoch 74/100\n",
      "2/2 [==============================] - 0s 7ms/step - loss: 0.3384 - mae: 0.3384\n",
      "Epoch 75/100\n",
      "2/2 [==============================] - 0s 5ms/step - loss: 0.4695 - mae: 0.4695\n",
      "Epoch 76/100\n",
      "2/2 [==============================] - 0s 5ms/step - loss: 1.0251 - mae: 1.0251\n",
      "Epoch 77/100\n",
      "2/2 [==============================] - 0s 4ms/step - loss: 0.5919 - mae: 0.5919\n",
      "Epoch 78/100\n",
      "2/2 [==============================] - 0s 5ms/step - loss: 1.3727 - mae: 1.3727\n",
      "Epoch 79/100\n",
      "2/2 [==============================] - 0s 4ms/step - loss: 0.5554 - mae: 0.5554\n",
      "Epoch 80/100\n",
      "2/2 [==============================] - 0s 4ms/step - loss: 0.5300 - mae: 0.5300\n",
      "Epoch 81/100\n",
      "2/2 [==============================] - 0s 5ms/step - loss: 1.1177 - mae: 1.1177\n",
      "Epoch 82/100\n",
      "2/2 [==============================] - 0s 4ms/step - loss: 0.3392 - mae: 0.3392\n",
      "Epoch 83/100\n",
      "2/2 [==============================] - 0s 5ms/step - loss: 0.3163 - mae: 0.3163\n",
      "Epoch 84/100\n",
      "2/2 [==============================] - 0s 4ms/step - loss: 0.3505 - mae: 0.3505\n",
      "Epoch 85/100\n",
      "2/2 [==============================] - 0s 6ms/step - loss: 1.2507 - mae: 1.2507\n",
      "Epoch 86/100\n",
      "2/2 [==============================] - 0s 5ms/step - loss: 0.8601 - mae: 0.8601\n",
      "Epoch 87/100\n",
      "2/2 [==============================] - 0s 5ms/step - loss: 0.5813 - mae: 0.5813\n",
      "Epoch 88/100\n",
      "2/2 [==============================] - 0s 5ms/step - loss: 0.9890 - mae: 0.9890\n"
     ]
    },
    {
     "name": "stdout",
     "output_type": "stream",
     "text": [
      "Epoch 89/100\n",
      "2/2 [==============================] - 0s 5ms/step - loss: 0.6979 - mae: 0.6979\n",
      "Epoch 90/100\n",
      "2/2 [==============================] - 0s 5ms/step - loss: 0.4650 - mae: 0.4650\n",
      "Epoch 91/100\n",
      "2/2 [==============================] - 0s 6ms/step - loss: 0.8736 - mae: 0.8736\n",
      "Epoch 92/100\n",
      "2/2 [==============================] - 0s 4ms/step - loss: 0.2859 - mae: 0.2859\n",
      "Epoch 93/100\n",
      "2/2 [==============================] - 0s 5ms/step - loss: 2.1574 - mae: 2.1574\n",
      "Epoch 94/100\n",
      "2/2 [==============================] - 0s 6ms/step - loss: 0.9998 - mae: 0.9998\n",
      "Epoch 95/100\n",
      "2/2 [==============================] - 0s 5ms/step - loss: 0.7489 - mae: 0.7489\n",
      "Epoch 96/100\n",
      "2/2 [==============================] - 0s 4ms/step - loss: 0.3185 - mae: 0.3185\n",
      "Epoch 97/100\n",
      "2/2 [==============================] - 0s 5ms/step - loss: 0.3748 - mae: 0.3748\n",
      "Epoch 98/100\n",
      "2/2 [==============================] - 0s 4ms/step - loss: 0.2608 - mae: 0.2608\n",
      "Epoch 99/100\n",
      "2/2 [==============================] - 0s 5ms/step - loss: 0.5911 - mae: 0.5911\n",
      "Epoch 100/100\n",
      "2/2 [==============================] - 0s 5ms/step - loss: 0.3465 - mae: 0.3465\n"
     ]
    },
    {
     "data": {
      "text/plain": [
       "<keras.src.callbacks.History at 0x22a9e458ac0>"
      ]
     },
     "execution_count": 3,
     "metadata": {},
     "output_type": "execute_result"
    }
   ],
   "source": [
    "# random\n",
    "tf.random.set_seed(42)\n",
    "\n",
    "# 1. build the model\n",
    "model_4 = tf.keras.Sequential([\n",
    "    tf.keras.layers.Dense(20, input_shape=[1]),\n",
    "    tf.keras.layers.Dense(1)\n",
    "])\n",
    "\n",
    "# 2. compile model\n",
    "model_4.compile(loss=tf.keras.losses.mae, \n",
    "                optimizer=tf.keras.optimizers.Adam(learning_rate=0.01),\n",
    "                metrics=['mae']\n",
    "               )\n",
    "\n",
    "# 3. fit model\n",
    "model_4.fit(X_train, y_train, epochs=100)"
   ]
  },
  {
   "cell_type": "code",
   "execution_count": 4,
   "id": "43132856",
   "metadata": {},
   "outputs": [
    {
     "name": "stdout",
     "output_type": "stream",
     "text": [
      "1/1 [==============================] - 0s 87ms/step\n"
     ]
    },
    {
     "data": {
      "text/plain": [
       "array([[ 70.38089 ],\n",
       "       [ 74.40471 ],\n",
       "       [ 78.42853 ],\n",
       "       [ 82.45236 ],\n",
       "       [ 86.47618 ],\n",
       "       [ 90.500015],\n",
       "       [ 94.523834],\n",
       "       [ 98.54766 ],\n",
       "       [102.57149 ],\n",
       "       [106.595314]], dtype=float32)"
      ]
     },
     "execution_count": 4,
     "metadata": {},
     "output_type": "execute_result"
    }
   ],
   "source": [
    "y_pred_4 = model_4.predict(X_test)\n",
    "y_pred_4"
   ]
  },
  {
   "cell_type": "code",
   "execution_count": 5,
   "id": "f128cbe8",
   "metadata": {},
   "outputs": [
    {
     "data": {
      "image/png": "[encoded data removed]",
      "text/plain": [
       "<Figure size 1000x700 with 1 Axes>"
      ]
     },
     "metadata": {},
     "output_type": "display_data"
    }
   ],
   "source": [
    "# visualize using a plotting function\n",
    "def plot_predictions(train_data=X_train, train_labels=y_train, test_data=X_test, test_labels=y_test, predictions=y_pred_4):\n",
    "    \"\"\"\n",
    "    plot training data, test data and compares predictions to ground truth\n",
    "    \"\"\"\n",
    "    plt.figure(figsize=(10,7))\n",
    "    # plot training data in blue\n",
    "    plt.scatter(train_data, train_labels, c=\"b\", label=\"Training data\")\n",
    "    # plot testing data in green\n",
    "    plt.scatter(test_data, test_labels, c=\"g\", label=\"Testing data\")\n",
    "    # plot model prediction\n",
    "    plt.scatter(test_data, predictions, c=\"r\", label=\"Prediction\")\n",
    "    # show legend\n",
    "    plt.legend();\n",
    "    \n",
    "plot_predictions()"
   ]
  },
  {
   "cell_type": "code",
   "execution_count": 6,
   "id": "5357b617",
   "metadata": {},
   "outputs": [
    {
     "name": "stdout",
     "output_type": "stream",
     "text": [
      "1/1 [==============================] - 0s 22ms/step\n"
     ]
    },
    {
     "data": {
      "text/plain": [
       "<tf.Tensor: shape=(10,), dtype=float32, numpy=\n",
       "array([ 70.38089 ,  74.40471 ,  78.42853 ,  82.45236 ,  86.47618 ,\n",
       "        90.500015,  94.523834,  98.54766 , 102.57149 , 106.595314],\n",
       "      dtype=float32)>"
      ]
     },
     "execution_count": 6,
     "metadata": {},
     "output_type": "execute_result"
    }
   ],
   "source": [
    "y_pred_4 = model_4.predict(X_test)\n",
    "y_pred_4 = tf.squeeze(tf.constant(y_pred_4))\n",
    "y_pred_4"
   ]
  },
  {
   "cell_type": "code",
   "execution_count": 7,
   "id": "540d6584",
   "metadata": {},
   "outputs": [
    {
     "data": {
      "text/plain": [
       "<tf.Tensor: shape=(), dtype=float32, numpy=0.48809814>"
      ]
     },
     "execution_count": 7,
     "metadata": {},
     "output_type": "execute_result"
    }
   ],
   "source": [
    "mae_4 = tf.keras.losses.mae(y_test, y_pred_4)\n",
    "mae_4"
   ]
  },
  {
   "cell_type": "code",
   "execution_count": 8,
   "id": "97020235",
   "metadata": {},
   "outputs": [
    {
     "data": {
      "text/plain": [
       "<tf.Tensor: shape=(), dtype=float32, numpy=0.24292287>"
      ]
     },
     "execution_count": 8,
     "metadata": {},
     "output_type": "execute_result"
    }
   ],
   "source": [
    "mse_4 = tf.keras.losses.mse(y_test, y_pred_4)\n",
    "mse_4"
   ]
  },
  {
   "cell_type": "markdown",
   "id": "ef94403a",
   "metadata": {},
   "source": [
    "## Save the model\n",
    "\n",
    "There are two formats to save a tensorflow model.\n",
    "1. **SavedModelFormat:** Model saved in this format can be restored using `tf.keras.models.load_model`\n",
    "2. **HDF5 format:** It has the extension `.h5`"
   ]
  },
  {
   "cell_type": "code",
   "execution_count": 9,
   "id": "046690ce",
   "metadata": {},
   "outputs": [
    {
     "name": "stdout",
     "output_type": "stream",
     "text": [
      "INFO:tensorflow:Assets written to: saved_model\\assets\n"
     ]
    },
    {
     "name": "stderr",
     "output_type": "stream",
     "text": [
      "INFO:tensorflow:Assets written to: saved_model\\assets\n"
     ]
    }
   ],
   "source": [
    "# Save model format\n",
    "\n",
    "model_4.save(\"saved_model\")"
   ]
  },
  {
   "cell_type": "code",
   "execution_count": null,
   "id": "d42d21e3",
   "metadata": {},
   "outputs": [],
   "source": []
  }
 ],
 "metadata": {
  "kernelspec": {
   "display_name": "Python 3 (ipykernel)",
   "language": "python",
   "name": "python3"
  },
  "language_info": {
   "codemirror_mode": {
    "name": "ipython",
    "version": 3
   },
   "file_extension": ".py",
   "mimetype": "text/x-python",
   "name": "python",
   "nbconvert_exporter": "python",
   "pygments_lexer": "ipython3",
   "version": "3.9.13"
  }
 },
 "nbformat": 4,
 "nbformat_minor": 5
}
