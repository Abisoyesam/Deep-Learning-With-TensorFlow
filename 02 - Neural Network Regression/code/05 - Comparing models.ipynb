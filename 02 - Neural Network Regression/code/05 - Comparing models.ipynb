{
 "cells": [
  {
   "cell_type": "markdown",
   "id": "1a9e67c6",
   "metadata": {},
   "source": [
    "# Comparing models\n",
    "<hr>\n",
    "\n",
    "Try build a model from a simple, improve on it then compare the models.\n",
    "\n",
    "- <a href=\"#model_1\">model_1</a>: a simple model\n",
    "- <a href=\"#model_2\">model_2</a>: 2 layers, 100 epochs \n",
    "- <a href=\"#model_3\">model_3</a>: 2 layers, adam optimizer, lr=0.01 "
   ]
  },
  {
   "cell_type": "code",
   "execution_count": 1,
   "id": "793ed0e9",
   "metadata": {},
   "outputs": [],
   "source": [
    "import tensorflow as tf\n",
    "import matplotlib.pyplot as plt"
   ]
  },
  {
   "cell_type": "code",
   "execution_count": 2,
   "id": "f618271b",
   "metadata": {},
   "outputs": [
    {
     "data": {
      "text/plain": [
       "(<tf.Tensor: shape=(50,), dtype=int32, numpy=\n",
       " array([-100,  -96,  -92,  -88,  -84,  -80,  -76,  -72,  -68,  -64,  -60,\n",
       "         -56,  -52,  -48,  -44,  -40,  -36,  -32,  -28,  -24,  -20,  -16,\n",
       "         -12,   -8,   -4,    0,    4,    8,   12,   16,   20,   24,   28,\n",
       "          32,   36,   40,   44,   48,   52,   56,   60,   64,   68,   72,\n",
       "          76,   80,   84,   88,   92,   96])>,\n",
       " <tf.Tensor: shape=(50,), dtype=int32, numpy=\n",
       " array([-90, -86, -82, -78, -74, -70, -66, -62, -58, -54, -50, -46, -42,\n",
       "        -38, -34, -30, -26, -22, -18, -14, -10,  -6,  -2,   2,   6,  10,\n",
       "         14,  18,  22,  26,  30,  34,  38,  42,  46,  50,  54,  58,  62,\n",
       "         66,  70,  74,  78,  82,  86,  90,  94,  98, 102, 106])>)"
      ]
     },
     "execution_count": 2,
     "metadata": {},
     "output_type": "execute_result"
    }
   ],
   "source": [
    "X = tf.range(-100, 100, 4)\n",
    "y = X + 10\n",
    "\n",
    "X,y"
   ]
  },
  {
   "cell_type": "code",
   "execution_count": 3,
   "id": "460f66e2",
   "metadata": {},
   "outputs": [],
   "source": [
    "# split into train and test sets\n",
    "X_train = X[:40]\n",
    "y_train = y[:40]\n",
    "\n",
    "X_test = X[40:]\n",
    "y_test = y[40:]"
   ]
  },
  {
   "cell_type": "code",
   "execution_count": 4,
   "id": "4cb34b22",
   "metadata": {},
   "outputs": [
    {
     "data": {
      "text/plain": [
       "<matplotlib.legend.Legend at 0x2573474cc10>"
      ]
     },
     "execution_count": 4,
     "metadata": {},
     "output_type": "execute_result"
    },
    {
     "data": {
      "image/png": "[encoded data removed]",
      "text/plain": [
       "<Figure size 1000x700 with 1 Axes>"
      ]
     },
     "metadata": {},
     "output_type": "display_data"
    }
   ],
   "source": [
    "# plot the splited sets\n",
    "plt.figure(figsize=(10,7))\n",
    "plt.scatter(X_train, y_train, c='b', label=\"Training set\")\n",
    "plt.scatter(X_test, y_test, c='g', label=\"Testing set\")\n",
    "plt.legend()"
   ]
  },
  {
   "cell_type": "markdown",
   "id": "8ac63b8c",
   "metadata": {},
   "source": [
    "<div id=\"model_1\"></div>\n",
    "\n",
    "## Model 1"
   ]
  },
  {
   "cell_type": "code",
   "execution_count": 6,
   "id": "c1a44d0b",
   "metadata": {},
   "outputs": [
    {
     "name": "stdout",
     "output_type": "stream",
     "text": [
      "Epoch 1/100\n",
      "2/2 [==============================] - 0s 8ms/step - loss: 75.3456 - mae: 75.3456\n",
      "Epoch 2/100\n",
      "2/2 [==============================] - 0s 4ms/step - loss: 40.0094 - mae: 40.0094\n",
      "Epoch 3/100\n",
      "2/2 [==============================] - 0s 4ms/step - loss: 8.9711 - mae: 8.9711\n",
      "Epoch 4/100\n",
      "2/2 [==============================] - 0s 4ms/step - loss: 9.4532 - mae: 9.4532\n",
      "Epoch 5/100\n",
      "2/2 [==============================] - 0s 5ms/step - loss: 10.3412 - mae: 10.3412\n",
      "Epoch 6/100\n",
      "2/2 [==============================] - 0s 5ms/step - loss: 9.5862 - mae: 9.5862\n",
      "Epoch 7/100\n",
      "2/2 [==============================] - 0s 5ms/step - loss: 8.7037 - mae: 8.7037\n",
      "Epoch 8/100\n",
      "2/2 [==============================] - 0s 4ms/step - loss: 9.0759 - mae: 9.0759\n",
      "Epoch 9/100\n",
      "2/2 [==============================] - 0s 6ms/step - loss: 19.0452 - mae: 19.0452\n",
      "Epoch 10/100\n",
      "2/2 [==============================] - 0s 5ms/step - loss: 10.2928 - mae: 10.2928\n",
      "Epoch 11/100\n",
      "2/2 [==============================] - 0s 4ms/step - loss: 8.4805 - mae: 8.4805\n",
      "Epoch 12/100\n",
      "2/2 [==============================] - 0s 5ms/step - loss: 10.8110 - mae: 10.8110\n",
      "Epoch 13/100\n",
      "2/2 [==============================] - 0s 5ms/step - loss: 9.8771 - mae: 9.8771\n",
      "Epoch 14/100\n",
      "2/2 [==============================] - 0s 4ms/step - loss: 12.0385 - mae: 12.0385\n",
      "Epoch 15/100\n",
      "2/2 [==============================] - 0s 6ms/step - loss: 12.4973 - mae: 12.4973\n",
      "Epoch 16/100\n",
      "2/2 [==============================] - 0s 4ms/step - loss: 7.9290 - mae: 7.9290\n",
      "Epoch 17/100\n",
      "2/2 [==============================] - 0s 5ms/step - loss: 12.8441 - mae: 12.8441\n",
      "Epoch 18/100\n",
      "2/2 [==============================] - 0s 5ms/step - loss: 10.4701 - mae: 10.4701\n",
      "Epoch 19/100\n",
      "2/2 [==============================] - 0s 5ms/step - loss: 19.2796 - mae: 19.2796\n",
      "Epoch 20/100\n",
      "2/2 [==============================] - 0s 5ms/step - loss: 15.9442 - mae: 15.9442\n",
      "Epoch 21/100\n",
      "2/2 [==============================] - 0s 12ms/step - loss: 11.7717 - mae: 11.7717\n",
      "Epoch 22/100\n",
      "2/2 [==============================] - 0s 7ms/step - loss: 8.9782 - mae: 8.9782\n",
      "Epoch 23/100\n",
      "2/2 [==============================] - 0s 6ms/step - loss: 10.0520 - mae: 10.0520\n",
      "Epoch 24/100\n",
      "2/2 [==============================] - 0s 6ms/step - loss: 15.6712 - mae: 15.6712\n",
      "Epoch 25/100\n",
      "2/2 [==============================] - 0s 6ms/step - loss: 12.1349 - mae: 12.1349\n",
      "Epoch 26/100\n",
      "2/2 [==============================] - 0s 5ms/step - loss: 13.2505 - mae: 13.2505\n",
      "Epoch 27/100\n",
      "2/2 [==============================] - 0s 5ms/step - loss: 10.7107 - mae: 10.7107\n",
      "Epoch 28/100\n",
      "2/2 [==============================] - 0s 5ms/step - loss: 12.9463 - mae: 12.9463\n",
      "Epoch 29/100\n",
      "2/2 [==============================] - 0s 5ms/step - loss: 9.5368 - mae: 9.5368\n",
      "Epoch 30/100\n",
      "2/2 [==============================] - 0s 4ms/step - loss: 16.4918 - mae: 16.4918\n",
      "Epoch 31/100\n",
      "2/2 [==============================] - 0s 4ms/step - loss: 23.5199 - mae: 23.5199\n",
      "Epoch 32/100\n",
      "2/2 [==============================] - 0s 5ms/step - loss: 7.3837 - mae: 7.3837\n",
      "Epoch 33/100\n",
      "2/2 [==============================] - 0s 5ms/step - loss: 9.8284 - mae: 9.8284\n",
      "Epoch 34/100\n",
      "2/2 [==============================] - 0s 5ms/step - loss: 12.2920 - mae: 12.2920\n",
      "Epoch 35/100\n",
      "2/2 [==============================] - 0s 5ms/step - loss: 11.1571 - mae: 11.1571\n",
      "Epoch 36/100\n",
      "2/2 [==============================] - 0s 4ms/step - loss: 13.3638 - mae: 13.3638\n",
      "Epoch 37/100\n",
      "2/2 [==============================] - 0s 4ms/step - loss: 9.4782 - mae: 9.4782\n",
      "Epoch 38/100\n",
      "2/2 [==============================] - 0s 5ms/step - loss: 10.1355 - mae: 10.1355\n",
      "Epoch 39/100\n",
      "2/2 [==============================] - 0s 5ms/step - loss: 10.2091 - mae: 10.2091\n",
      "Epoch 40/100\n",
      "2/2 [==============================] - 0s 5ms/step - loss: 10.9475 - mae: 10.9475\n",
      "Epoch 41/100\n",
      "2/2 [==============================] - 0s 4ms/step - loss: 7.9375 - mae: 7.9375\n",
      "Epoch 42/100\n",
      "2/2 [==============================] - 0s 5ms/step - loss: 10.0912 - mae: 10.0912\n",
      "Epoch 43/100\n",
      "2/2 [==============================] - 0s 5ms/step - loss: 8.7091 - mae: 8.7091\n",
      "Epoch 44/100\n",
      "2/2 [==============================] - 0s 6ms/step - loss: 12.1890 - mae: 12.1890\n",
      "Epoch 45/100\n",
      "2/2 [==============================] - 0s 6ms/step - loss: 13.8349 - mae: 13.8349\n",
      "Epoch 46/100\n",
      "2/2 [==============================] - 0s 6ms/step - loss: 8.5011 - mae: 8.5011\n",
      "Epoch 47/100\n",
      "2/2 [==============================] - 0s 4ms/step - loss: 9.1345 - mae: 9.1345\n",
      "Epoch 48/100\n",
      "2/2 [==============================] - 0s 5ms/step - loss: 10.6149 - mae: 10.6149\n",
      "Epoch 49/100\n",
      "2/2 [==============================] - 0s 5ms/step - loss: 7.7527 - mae: 7.7527\n",
      "Epoch 50/100\n",
      "2/2 [==============================] - 0s 4ms/step - loss: 9.5376 - mae: 9.5376\n",
      "Epoch 51/100\n",
      "2/2 [==============================] - 0s 4ms/step - loss: 9.1686 - mae: 9.1686\n",
      "Epoch 52/100\n",
      "2/2 [==============================] - 0s 4ms/step - loss: 16.3304 - mae: 16.3304\n",
      "Epoch 53/100\n",
      "2/2 [==============================] - 0s 6ms/step - loss: 14.1567 - mae: 14.1567\n",
      "Epoch 54/100\n",
      "2/2 [==============================] - 0s 5ms/step - loss: 21.1732 - mae: 21.1732\n",
      "Epoch 55/100\n",
      "2/2 [==============================] - 0s 6ms/step - loss: 16.3698 - mae: 16.3698\n",
      "Epoch 56/100\n",
      "2/2 [==============================] - 0s 6ms/step - loss: 10.0178 - mae: 10.0178\n",
      "Epoch 57/100\n",
      "2/2 [==============================] - 0s 5ms/step - loss: 9.9594 - mae: 9.9594\n",
      "Epoch 58/100\n",
      "2/2 [==============================] - 0s 4ms/step - loss: 9.2223 - mae: 9.2223\n",
      "Epoch 59/100\n",
      "2/2 [==============================] - 0s 4ms/step - loss: 8.4235 - mae: 8.4235\n",
      "Epoch 60/100\n",
      "2/2 [==============================] - 0s 4ms/step - loss: 9.4910 - mae: 9.4910\n",
      "Epoch 61/100\n",
      "2/2 [==============================] - 0s 4ms/step - loss: 11.4282 - mae: 11.4282\n",
      "Epoch 62/100\n",
      "2/2 [==============================] - 0s 5ms/step - loss: 11.7264 - mae: 11.7264\n",
      "Epoch 63/100\n",
      "2/2 [==============================] - 0s 6ms/step - loss: 7.0911 - mae: 7.0911\n",
      "Epoch 64/100\n",
      "2/2 [==============================] - 0s 5ms/step - loss: 17.0040 - mae: 17.0040\n",
      "Epoch 65/100\n",
      "2/2 [==============================] - 0s 4ms/step - loss: 12.4916 - mae: 12.4916\n",
      "Epoch 66/100\n",
      "2/2 [==============================] - 0s 4ms/step - loss: 13.0558 - mae: 13.0558\n",
      "Epoch 67/100\n",
      "2/2 [==============================] - 0s 4ms/step - loss: 8.0842 - mae: 8.0842\n",
      "Epoch 68/100\n",
      "2/2 [==============================] - 0s 4ms/step - loss: 10.2178 - mae: 10.2178\n",
      "Epoch 69/100\n",
      "2/2 [==============================] - 0s 4ms/step - loss: 12.4030 - mae: 12.4030\n",
      "Epoch 70/100\n",
      "2/2 [==============================] - 0s 5ms/step - loss: 9.0536 - mae: 9.0536\n",
      "Epoch 71/100\n",
      "2/2 [==============================] - 0s 4ms/step - loss: 10.0378 - mae: 10.0378\n",
      "Epoch 72/100\n",
      "2/2 [==============================] - 0s 5ms/step - loss: 10.0550 - mae: 10.0550\n",
      "Epoch 73/100\n",
      "2/2 [==============================] - 0s 4ms/step - loss: 12.6038 - mae: 12.6038\n",
      "Epoch 74/100\n",
      "2/2 [==============================] - 0s 5ms/step - loss: 10.4218 - mae: 10.4218\n",
      "Epoch 75/100\n",
      "2/2 [==============================] - 0s 5ms/step - loss: 9.7241 - mae: 9.7241\n",
      "Epoch 76/100\n",
      "2/2 [==============================] - 0s 4ms/step - loss: 11.2221 - mae: 11.2221\n",
      "Epoch 77/100\n",
      "2/2 [==============================] - 0s 5ms/step - loss: 8.3657 - mae: 8.3657\n",
      "Epoch 78/100\n",
      "2/2 [==============================] - 0s 5ms/step - loss: 9.1202 - mae: 9.1202\n",
      "Epoch 79/100\n",
      "2/2 [==============================] - 0s 4ms/step - loss: 19.5510 - mae: 19.5510\n",
      "Epoch 80/100\n",
      "2/2 [==============================] - 0s 4ms/step - loss: 14.8723 - mae: 14.8723\n",
      "Epoch 81/100\n",
      "2/2 [==============================] - 0s 4ms/step - loss: 9.0469 - mae: 9.0469\n",
      "Epoch 82/100\n",
      "2/2 [==============================] - 0s 4ms/step - loss: 13.0049 - mae: 13.0049\n",
      "Epoch 83/100\n",
      "2/2 [==============================] - 0s 4ms/step - loss: 7.9270 - mae: 7.9270\n",
      "Epoch 84/100\n",
      "2/2 [==============================] - 0s 4ms/step - loss: 7.7095 - mae: 7.7095\n",
      "Epoch 85/100\n",
      "2/2 [==============================] - 0s 5ms/step - loss: 10.0642 - mae: 10.0642\n",
      "Epoch 86/100\n",
      "2/2 [==============================] - 0s 5ms/step - loss: 9.2687 - mae: 9.2687\n",
      "Epoch 87/100\n",
      "2/2 [==============================] - 0s 4ms/step - loss: 12.0533 - mae: 12.0533\n",
      "Epoch 88/100\n"
     ]
    },
    {
     "name": "stdout",
     "output_type": "stream",
     "text": [
      "2/2 [==============================] - 0s 4ms/step - loss: 10.6737 - mae: 10.6737\n",
      "Epoch 89/100\n",
      "2/2 [==============================] - 0s 4ms/step - loss: 7.2834 - mae: 7.2834\n",
      "Epoch 90/100\n",
      "2/2 [==============================] - 0s 4ms/step - loss: 12.8158 - mae: 12.8158\n",
      "Epoch 91/100\n",
      "2/2 [==============================] - 0s 4ms/step - loss: 7.4947 - mae: 7.4947\n",
      "Epoch 92/100\n",
      "2/2 [==============================] - 0s 4ms/step - loss: 6.7678 - mae: 6.7678\n",
      "Epoch 93/100\n",
      "2/2 [==============================] - 0s 4ms/step - loss: 11.9662 - mae: 11.9662\n",
      "Epoch 94/100\n",
      "2/2 [==============================] - 0s 4ms/step - loss: 8.8983 - mae: 8.8983\n",
      "Epoch 95/100\n",
      "2/2 [==============================] - 0s 4ms/step - loss: 7.7380 - mae: 7.7380\n",
      "Epoch 96/100\n",
      "2/2 [==============================] - 0s 5ms/step - loss: 6.7662 - mae: 6.7662\n",
      "Epoch 97/100\n",
      "2/2 [==============================] - 0s 4ms/step - loss: 8.6505 - mae: 8.6505\n",
      "Epoch 98/100\n",
      "2/2 [==============================] - 0s 6ms/step - loss: 9.4059 - mae: 9.4059\n",
      "Epoch 99/100\n",
      "2/2 [==============================] - 0s 4ms/step - loss: 9.1418 - mae: 9.1418\n",
      "Epoch 100/100\n",
      "2/2 [==============================] - 0s 5ms/step - loss: 10.4980 - mae: 10.4980\n"
     ]
    },
    {
     "data": {
      "text/plain": [
       "<keras.src.callbacks.History at 0x2573ae22d60>"
      ]
     },
     "execution_count": 6,
     "metadata": {},
     "output_type": "execute_result"
    }
   ],
   "source": [
    "tf.random.set_seed(42)\n",
    "\n",
    "# 1. build the model\n",
    "model_1 = tf.keras.Sequential([\n",
    "    tf.keras.layers.Dense(1, input_shape=[1])\n",
    "])\n",
    "\n",
    "# 2. compile model\n",
    "model_1.compile(loss=tf.keras.losses.mae, \n",
    "                optimizer=tf.keras.optimizers.SGD(),\n",
    "                metrics=['mae']\n",
    "               )\n",
    "\n",
    "# 3. fit model\n",
    "model_1.fit(X_train, y_train, epochs=100)"
   ]
  },
  {
   "cell_type": "code",
   "execution_count": 7,
   "id": "f3e22425",
   "metadata": {},
   "outputs": [
    {
     "name": "stdout",
     "output_type": "stream",
     "text": [
      "1/1 [==============================] - 0s 79ms/step\n"
     ]
    },
    {
     "data": {
      "text/plain": [
       "array([[56.483   ],\n",
       "       [60.16341 ],\n",
       "       [63.84382 ],\n",
       "       [67.52423 ],\n",
       "       [71.20464 ],\n",
       "       [74.88505 ],\n",
       "       [78.56545 ],\n",
       "       [82.245865],\n",
       "       [85.92628 ],\n",
       "       [89.60668 ]], dtype=float32)"
      ]
     },
     "execution_count": 7,
     "metadata": {},
     "output_type": "execute_result"
    }
   ],
   "source": [
    "y_pred = model_1.predict(X_test)\n",
    "y_pred"
   ]
  },
  {
   "cell_type": "code",
   "execution_count": 9,
   "id": "58f8a4d0",
   "metadata": {},
   "outputs": [
    {
     "data": {
      "text/plain": [
       "<tf.Tensor: shape=(10,), dtype=int32, numpy=array([ 70,  74,  78,  82,  86,  90,  94,  98, 102, 106])>"
      ]
     },
     "execution_count": 9,
     "metadata": {},
     "output_type": "execute_result"
    }
   ],
   "source": [
    "y_test"
   ]
  },
  {
   "cell_type": "code",
   "execution_count": 38,
   "id": "edd082b9",
   "metadata": {},
   "outputs": [],
   "source": [
    "def plot_predictions(X_train,y_train,X_test,y_test,y_pred):\n",
    "    \"\"\"\n",
    "    plot training data, test data and compares prediction to ground truth\n",
    "    \"\"\"\n",
    "    plt.figure(figsize=(10,7))\n",
    "    # plot training data in blue\n",
    "    plt.scatter(X_train, y_train, c=\"b\", label=\"Training data\")\n",
    "    # plot testing data in green\n",
    "    plt.scatter(X_test, y_test, c=\"g\", label=\"Testing data\")\n",
    "    # plot model prediction\n",
    "    plt.scatter(y_test, y_pred, c=\"r\", label=\"Prediction\")\n",
    "    # show legend\n",
    "    plt.legend();"
   ]
  },
  {
   "cell_type": "code",
   "execution_count": 27,
   "id": "14979551",
   "metadata": {},
   "outputs": [
    {
     "data": {
      "image/png": "[encoded data removed]",
      "text/plain": [
       "<Figure size 1000x700 with 1 Axes>"
      ]
     },
     "metadata": {},
     "output_type": "display_data"
    }
   ],
   "source": [
    "plot_predictions(X_train, y_train, X_test, y_test, y_pred)"
   ]
  },
  {
   "cell_type": "code",
   "execution_count": null,
   "id": "2dd51e67",
   "metadata": {},
   "outputs": [],
   "source": []
  },
  {
   "cell_type": "code",
   "execution_count": null,
   "id": "5774380b",
   "metadata": {},
   "outputs": [],
   "source": []
  },
  {
   "cell_type": "code",
   "execution_count": null,
   "id": "fcd5e911",
   "metadata": {},
   "outputs": [],
   "source": []
  },
  {
   "cell_type": "markdown",
   "id": "e49cf938",
   "metadata": {},
   "source": [
    "<div id=\"model_2\"></div>\n",
    "\n",
    "## Model 2"
   ]
  },
  {
   "cell_type": "code",
   "execution_count": 31,
   "id": "d84da9d2",
   "metadata": {},
   "outputs": [
    {
     "name": "stdout",
     "output_type": "stream",
     "text": [
      "Epoch 1/100\n",
      "2/2 [==============================] - 0s 9ms/step - loss: 50.7893 - mae: 50.7893\n",
      "Epoch 2/100\n",
      "2/2 [==============================] - 0s 5ms/step - loss: 28.7876 - mae: 28.7876\n",
      "Epoch 3/100\n",
      "2/2 [==============================] - 0s 5ms/step - loss: 17.0466 - mae: 17.0466\n",
      "Epoch 4/100\n",
      "2/2 [==============================] - 0s 5ms/step - loss: 14.3368 - mae: 14.3368\n",
      "Epoch 5/100\n",
      "2/2 [==============================] - 0s 5ms/step - loss: 16.3351 - mae: 16.3351\n",
      "Epoch 6/100\n",
      "2/2 [==============================] - 0s 6ms/step - loss: 11.1169 - mae: 11.1169\n",
      "Epoch 7/100\n",
      "2/2 [==============================] - 0s 4ms/step - loss: 12.1259 - mae: 12.1259\n",
      "Epoch 8/100\n",
      "2/2 [==============================] - 0s 4ms/step - loss: 10.8939 - mae: 10.8939\n",
      "Epoch 9/100\n",
      "2/2 [==============================] - 0s 4ms/step - loss: 37.8764 - mae: 37.8764\n",
      "Epoch 10/100\n",
      "2/2 [==============================] - 0s 4ms/step - loss: 25.4839 - mae: 25.4839\n",
      "Epoch 11/100\n",
      "2/2 [==============================] - 0s 4ms/step - loss: 10.2483 - mae: 10.2483\n",
      "Epoch 12/100\n",
      "2/2 [==============================] - 0s 4ms/step - loss: 25.3196 - mae: 25.3196\n",
      "Epoch 13/100\n",
      "2/2 [==============================] - 0s 5ms/step - loss: 16.9664 - mae: 16.9664\n",
      "Epoch 14/100\n",
      "2/2 [==============================] - 0s 5ms/step - loss: 25.8811 - mae: 25.8811\n",
      "Epoch 15/100\n",
      "2/2 [==============================] - 0s 5ms/step - loss: 17.9615 - mae: 17.9615\n",
      "Epoch 16/100\n",
      "2/2 [==============================] - 0s 6ms/step - loss: 7.3469 - mae: 7.3469\n",
      "Epoch 17/100\n",
      "2/2 [==============================] - 0s 4ms/step - loss: 10.8717 - mae: 10.8717\n",
      "Epoch 18/100\n",
      "2/2 [==============================] - 0s 5ms/step - loss: 19.5426 - mae: 19.5426\n",
      "Epoch 19/100\n",
      "2/2 [==============================] - 0s 4ms/step - loss: 10.3504 - mae: 10.3504\n",
      "Epoch 20/100\n",
      "2/2 [==============================] - 0s 6ms/step - loss: 17.7078 - mae: 17.7078\n",
      "Epoch 21/100\n",
      "2/2 [==============================] - 0s 6ms/step - loss: 15.9083 - mae: 15.9083\n",
      "Epoch 22/100\n",
      "2/2 [==============================] - 0s 5ms/step - loss: 14.2131 - mae: 14.2131\n",
      "Epoch 23/100\n",
      "2/2 [==============================] - 0s 5ms/step - loss: 8.7618 - mae: 8.7618\n",
      "Epoch 24/100\n",
      "2/2 [==============================] - 0s 5ms/step - loss: 11.0460 - mae: 11.0460\n",
      "Epoch 25/100\n",
      "2/2 [==============================] - 0s 4ms/step - loss: 12.6704 - mae: 12.6704\n",
      "Epoch 26/100\n",
      "2/2 [==============================] - 0s 5ms/step - loss: 26.1520 - mae: 26.1520\n",
      "Epoch 27/100\n",
      "2/2 [==============================] - 0s 4ms/step - loss: 11.7345 - mae: 11.7345\n",
      "Epoch 28/100\n",
      "2/2 [==============================] - 0s 5ms/step - loss: 30.7471 - mae: 30.7471\n",
      "Epoch 29/100\n",
      "2/2 [==============================] - 0s 5ms/step - loss: 9.2805 - mae: 9.2805\n",
      "Epoch 30/100\n",
      "2/2 [==============================] - 0s 4ms/step - loss: 31.1494 - mae: 31.1494\n",
      "Epoch 31/100\n",
      "2/2 [==============================] - 0s 4ms/step - loss: 29.6056 - mae: 29.6056\n",
      "Epoch 32/100\n",
      "2/2 [==============================] - 0s 6ms/step - loss: 10.4450 - mae: 10.4450\n",
      "Epoch 33/100\n",
      "2/2 [==============================] - 0s 4ms/step - loss: 15.4809 - mae: 15.4809\n",
      "Epoch 34/100\n",
      "2/2 [==============================] - 0s 4ms/step - loss: 12.5836 - mae: 12.5836\n",
      "Epoch 35/100\n",
      "2/2 [==============================] - 0s 5ms/step - loss: 9.1895 - mae: 9.1895\n",
      "Epoch 36/100\n",
      "2/2 [==============================] - 0s 4ms/step - loss: 16.4582 - mae: 16.4582\n",
      "Epoch 37/100\n",
      "2/2 [==============================] - 0s 4ms/step - loss: 11.0884 - mae: 11.0884\n",
      "Epoch 38/100\n",
      "2/2 [==============================] - 0s 5ms/step - loss: 18.2187 - mae: 18.2187\n",
      "Epoch 39/100\n",
      "2/2 [==============================] - 0s 5ms/step - loss: 19.1501 - mae: 19.1501\n",
      "Epoch 40/100\n",
      "2/2 [==============================] - 0s 4ms/step - loss: 20.5221 - mae: 20.5221\n",
      "Epoch 41/100\n",
      "2/2 [==============================] - 0s 4ms/step - loss: 14.7933 - mae: 14.7933\n",
      "Epoch 42/100\n",
      "2/2 [==============================] - 0s 5ms/step - loss: 12.1922 - mae: 12.1922\n",
      "Epoch 43/100\n",
      "2/2 [==============================] - 0s 4ms/step - loss: 10.6888 - mae: 10.6888\n",
      "Epoch 44/100\n",
      "2/2 [==============================] - 0s 5ms/step - loss: 32.2476 - mae: 32.2476\n",
      "Epoch 45/100\n",
      "2/2 [==============================] - 0s 5ms/step - loss: 12.4597 - mae: 12.4597\n",
      "Epoch 46/100\n",
      "2/2 [==============================] - 0s 4ms/step - loss: 17.4998 - mae: 17.4998\n",
      "Epoch 47/100\n",
      "2/2 [==============================] - 0s 4ms/step - loss: 15.7604 - mae: 15.7604\n",
      "Epoch 48/100\n",
      "2/2 [==============================] - 0s 4ms/step - loss: 8.3769 - mae: 8.3769\n",
      "Epoch 49/100\n",
      "2/2 [==============================] - 0s 4ms/step - loss: 13.9887 - mae: 13.9887\n",
      "Epoch 50/100\n",
      "2/2 [==============================] - 0s 4ms/step - loss: 12.8304 - mae: 12.8304\n",
      "Epoch 51/100\n",
      "2/2 [==============================] - 0s 4ms/step - loss: 14.8392 - mae: 14.8392\n",
      "Epoch 52/100\n",
      "2/2 [==============================] - 0s 6ms/step - loss: 18.7241 - mae: 18.7241\n",
      "Epoch 53/100\n",
      "2/2 [==============================] - 0s 6ms/step - loss: 24.1771 - mae: 24.1771\n",
      "Epoch 54/100\n",
      "2/2 [==============================] - 0s 5ms/step - loss: 23.1589 - mae: 23.1589\n",
      "Epoch 55/100\n",
      "2/2 [==============================] - 0s 5ms/step - loss: 24.0070 - mae: 24.0070\n",
      "Epoch 56/100\n",
      "2/2 [==============================] - 0s 4ms/step - loss: 11.1497 - mae: 11.1497\n",
      "Epoch 57/100\n",
      "2/2 [==============================] - 0s 5ms/step - loss: 13.1016 - mae: 13.1016\n",
      "Epoch 58/100\n",
      "2/2 [==============================] - 0s 4ms/step - loss: 9.8014 - mae: 9.8014\n",
      "Epoch 59/100\n",
      "2/2 [==============================] - 0s 4ms/step - loss: 13.2878 - mae: 13.2878\n",
      "Epoch 60/100\n",
      "2/2 [==============================] - 0s 6ms/step - loss: 10.8586 - mae: 10.8586\n",
      "Epoch 61/100\n",
      "2/2 [==============================] - 0s 6ms/step - loss: 13.4566 - mae: 13.4566\n",
      "Epoch 62/100\n",
      "2/2 [==============================] - 0s 5ms/step - loss: 17.4736 - mae: 17.4736\n",
      "Epoch 63/100\n",
      "2/2 [==============================] - 0s 6ms/step - loss: 9.1512 - mae: 9.1512\n",
      "Epoch 64/100\n",
      "2/2 [==============================] - 0s 5ms/step - loss: 18.3454 - mae: 18.3454\n",
      "Epoch 65/100\n",
      "2/2 [==============================] - 0s 5ms/step - loss: 10.1066 - mae: 10.1066\n",
      "Epoch 66/100\n",
      "2/2 [==============================] - 0s 5ms/step - loss: 24.2011 - mae: 24.2011\n",
      "Epoch 67/100\n",
      "2/2 [==============================] - 0s 5ms/step - loss: 10.8697 - mae: 10.8697\n",
      "Epoch 68/100\n",
      "2/2 [==============================] - 0s 4ms/step - loss: 10.7561 - mae: 10.7561\n",
      "Epoch 69/100\n",
      "2/2 [==============================] - 0s 6ms/step - loss: 23.1829 - mae: 23.1829\n",
      "Epoch 70/100\n",
      "2/2 [==============================] - 0s 5ms/step - loss: 8.8248 - mae: 8.8248\n",
      "Epoch 71/100\n",
      "2/2 [==============================] - 0s 4ms/step - loss: 16.0400 - mae: 16.0400\n",
      "Epoch 72/100\n",
      "2/2 [==============================] - 0s 4ms/step - loss: 7.7421 - mae: 7.7421\n",
      "Epoch 73/100\n",
      "2/2 [==============================] - 0s 5ms/step - loss: 10.1524 - mae: 10.1524\n",
      "Epoch 74/100\n",
      "2/2 [==============================] - 0s 4ms/step - loss: 28.3196 - mae: 28.3196\n",
      "Epoch 75/100\n",
      "2/2 [==============================] - 0s 5ms/step - loss: 10.0196 - mae: 10.0196\n",
      "Epoch 76/100\n",
      "2/2 [==============================] - 0s 4ms/step - loss: 12.9378 - mae: 12.9378\n",
      "Epoch 77/100\n",
      "2/2 [==============================] - 0s 6ms/step - loss: 17.9248 - mae: 17.9248\n",
      "Epoch 78/100\n",
      "2/2 [==============================] - 0s 5ms/step - loss: 8.9635 - mae: 8.9635\n",
      "Epoch 79/100\n",
      "2/2 [==============================] - 0s 6ms/step - loss: 28.7631 - mae: 28.7631\n",
      "Epoch 80/100\n",
      "2/2 [==============================] - 0s 5ms/step - loss: 31.1079 - mae: 31.1079\n",
      "Epoch 81/100\n",
      "2/2 [==============================] - 0s 6ms/step - loss: 13.4437 - mae: 13.4437\n",
      "Epoch 82/100\n",
      "2/2 [==============================] - 0s 5ms/step - loss: 14.3107 - mae: 14.3107\n",
      "Epoch 83/100\n",
      "2/2 [==============================] - 0s 6ms/step - loss: 18.8428 - mae: 18.8428\n",
      "Epoch 84/100\n",
      "2/2 [==============================] - 0s 5ms/step - loss: 9.4551 - mae: 9.4551\n",
      "Epoch 85/100\n",
      "2/2 [==============================] - 0s 6ms/step - loss: 25.2389 - mae: 25.2389\n",
      "Epoch 86/100\n",
      "2/2 [==============================] - 0s 5ms/step - loss: 16.4508 - mae: 16.4508\n",
      "Epoch 87/100\n"
     ]
    },
    {
     "name": "stdout",
     "output_type": "stream",
     "text": [
      "2/2 [==============================] - 0s 5ms/step - loss: 11.4729 - mae: 11.4729\n",
      "Epoch 88/100\n",
      "2/2 [==============================] - 0s 6ms/step - loss: 27.0694 - mae: 27.0694\n",
      "Epoch 89/100\n",
      "2/2 [==============================] - 0s 6ms/step - loss: 9.7438 - mae: 9.7438\n",
      "Epoch 90/100\n",
      "2/2 [==============================] - 0s 5ms/step - loss: 19.1031 - mae: 19.1031\n",
      "Epoch 91/100\n",
      "2/2 [==============================] - 0s 4ms/step - loss: 10.6032 - mae: 10.6032\n",
      "Epoch 92/100\n",
      "2/2 [==============================] - 0s 6ms/step - loss: 18.3160 - mae: 18.3160\n",
      "Epoch 93/100\n",
      "2/2 [==============================] - 0s 6ms/step - loss: 6.8603 - mae: 6.8603\n",
      "Epoch 94/100\n",
      "2/2 [==============================] - 0s 5ms/step - loss: 13.0783 - mae: 13.0783\n",
      "Epoch 95/100\n",
      "2/2 [==============================] - 0s 5ms/step - loss: 18.4632 - mae: 18.4632\n",
      "Epoch 96/100\n",
      "2/2 [==============================] - 0s 3ms/step - loss: 10.4108 - mae: 10.4108\n",
      "Epoch 97/100\n",
      "2/2 [==============================] - 0s 5ms/step - loss: 14.4633 - mae: 14.4633\n",
      "Epoch 98/100\n",
      "2/2 [==============================] - 0s 4ms/step - loss: 6.6191 - mae: 6.6191\n",
      "Epoch 99/100\n",
      "2/2 [==============================] - 0s 5ms/step - loss: 12.6205 - mae: 12.6205\n",
      "Epoch 100/100\n",
      "2/2 [==============================] - 0s 5ms/step - loss: 19.4341 - mae: 19.4341\n"
     ]
    },
    {
     "data": {
      "text/plain": [
       "<keras.src.callbacks.History at 0x2573a05f130>"
      ]
     },
     "execution_count": 31,
     "metadata": {},
     "output_type": "execute_result"
    }
   ],
   "source": [
    "# improve the model, add another model\n",
    "\n",
    "tf.random.set_seed(42)\n",
    "\n",
    "# 1. build the model\n",
    "model_2 = tf.keras.Sequential([\n",
    "    tf.keras.layers.Dense(10, input_shape=[1]),\n",
    "    tf.keras.layers.Dense(1)\n",
    "])\n",
    "\n",
    "# 2. compile model\n",
    "model_2.compile(loss=tf.keras.losses.mae, \n",
    "                optimizer=tf.keras.optimizers.SGD(),\n",
    "                metrics=['mae']\n",
    "               )\n",
    "\n",
    "# 3. fit model\n",
    "model_2.fit(X_train, y_train, epochs=100)"
   ]
  },
  {
   "cell_type": "code",
   "execution_count": 32,
   "id": "1a2dd7be",
   "metadata": {},
   "outputs": [
    {
     "name": "stdout",
     "output_type": "stream",
     "text": [
      "1/1 [==============================] - 0s 53ms/step\n"
     ]
    },
    {
     "data": {
      "text/plain": [
       "array([[ 78.142494],\n",
       "       [ 83.23738 ],\n",
       "       [ 88.33229 ],\n",
       "       [ 93.427185],\n",
       "       [ 98.52209 ],\n",
       "       [103.61698 ],\n",
       "       [108.711876],\n",
       "       [113.806786],\n",
       "       [118.90168 ],\n",
       "       [123.99658 ]], dtype=float32)"
      ]
     },
     "execution_count": 32,
     "metadata": {},
     "output_type": "execute_result"
    }
   ],
   "source": [
    "y_pred = model_2.predict(X_test)\n",
    "y_pred"
   ]
  },
  {
   "cell_type": "code",
   "execution_count": 34,
   "id": "d285869b",
   "metadata": {},
   "outputs": [
    {
     "data": {
      "text/plain": [
       "<tf.Tensor: shape=(10,), dtype=int32, numpy=array([ 70,  74,  78,  82,  86,  90,  94,  98, 102, 106])>"
      ]
     },
     "execution_count": 34,
     "metadata": {},
     "output_type": "execute_result"
    }
   ],
   "source": [
    "y_test"
   ]
  },
  {
   "cell_type": "code",
   "execution_count": 39,
   "id": "c7b43e7d",
   "metadata": {},
   "outputs": [
    {
     "data": {
      "image/png": "[encoded data removed]",
      "text/plain": [
       "<Figure size 1000x700 with 1 Axes>"
      ]
     },
     "metadata": {},
     "output_type": "display_data"
    }
   ],
   "source": [
    "plot_predictions(X_train, y_train, X_test, y_test, y_pred)"
   ]
  },
  {
   "cell_type": "markdown",
   "id": "293f33dd",
   "metadata": {},
   "source": [
    "<div id=\"model_3\"></div>\n",
    "\n",
    "## Model 3"
   ]
  },
  {
   "cell_type": "code",
   "execution_count": 40,
   "id": "323fadcf",
   "metadata": {},
   "outputs": [
    {
     "name": "stdout",
     "output_type": "stream",
     "text": [
      "Epoch 1/100\n",
      "2/2 [==============================] - 0s 9ms/step - loss: 83.5873 - mae: 83.5873\n",
      "Epoch 2/100\n",
      "2/2 [==============================] - 0s 5ms/step - loss: 76.9926 - mae: 76.9926\n",
      "Epoch 3/100\n",
      "2/2 [==============================] - 0s 6ms/step - loss: 70.7587 - mae: 70.7587\n",
      "Epoch 4/100\n",
      "2/2 [==============================] - 0s 6ms/step - loss: 64.5691 - mae: 64.5691\n",
      "Epoch 5/100\n",
      "2/2 [==============================] - 0s 5ms/step - loss: 58.6352 - mae: 58.6352\n",
      "Epoch 6/100\n",
      "2/2 [==============================] - 0s 7ms/step - loss: 52.7873 - mae: 52.7873\n",
      "Epoch 7/100\n",
      "2/2 [==============================] - 0s 5ms/step - loss: 47.0695 - mae: 47.0695\n",
      "Epoch 8/100\n",
      "2/2 [==============================] - 0s 5ms/step - loss: 41.2905 - mae: 41.2905\n",
      "Epoch 9/100\n",
      "2/2 [==============================] - 0s 6ms/step - loss: 35.9743 - mae: 35.9743\n",
      "Epoch 10/100\n",
      "2/2 [==============================] - 0s 5ms/step - loss: 30.7862 - mae: 30.7862\n",
      "Epoch 11/100\n",
      "2/2 [==============================] - 0s 5ms/step - loss: 25.2682 - mae: 25.2682\n",
      "Epoch 12/100\n",
      "2/2 [==============================] - 0s 5ms/step - loss: 20.2190 - mae: 20.2190\n",
      "Epoch 13/100\n",
      "2/2 [==============================] - 0s 7ms/step - loss: 15.0786 - mae: 15.0786\n",
      "Epoch 14/100\n",
      "2/2 [==============================] - 0s 6ms/step - loss: 10.6693 - mae: 10.6693\n",
      "Epoch 15/100\n",
      "2/2 [==============================] - 0s 4ms/step - loss: 8.0994 - mae: 8.0994\n",
      "Epoch 16/100\n",
      "2/2 [==============================] - 0s 5ms/step - loss: 10.0213 - mae: 10.0213\n",
      "Epoch 17/100\n",
      "2/2 [==============================] - 0s 5ms/step - loss: 11.3601 - mae: 11.3601\n",
      "Epoch 18/100\n",
      "2/2 [==============================] - 0s 6ms/step - loss: 12.5173 - mae: 12.5173\n",
      "Epoch 19/100\n",
      "2/2 [==============================] - 0s 6ms/step - loss: 12.8201 - mae: 12.8201\n",
      "Epoch 20/100\n",
      "2/2 [==============================] - 0s 6ms/step - loss: 12.6102 - mae: 12.6102\n",
      "Epoch 21/100\n",
      "2/2 [==============================] - 0s 5ms/step - loss: 12.0192 - mae: 12.0192\n",
      "Epoch 22/100\n",
      "2/2 [==============================] - 0s 5ms/step - loss: 11.2551 - mae: 11.2551\n",
      "Epoch 23/100\n",
      "2/2 [==============================] - 0s 5ms/step - loss: 10.1396 - mae: 10.1396\n",
      "Epoch 24/100\n",
      "2/2 [==============================] - 0s 5ms/step - loss: 9.0606 - mae: 9.0606\n",
      "Epoch 25/100\n",
      "2/2 [==============================] - 0s 7ms/step - loss: 7.7471 - mae: 7.7471\n",
      "Epoch 26/100\n",
      "2/2 [==============================] - 0s 4ms/step - loss: 7.5914 - mae: 7.5914\n",
      "Epoch 27/100\n",
      "2/2 [==============================] - 0s 5ms/step - loss: 8.2874 - mae: 8.2874\n",
      "Epoch 28/100\n",
      "2/2 [==============================] - 0s 5ms/step - loss: 8.5001 - mae: 8.5001\n",
      "Epoch 29/100\n",
      "2/2 [==============================] - 0s 5ms/step - loss: 8.1960 - mae: 8.1960\n",
      "Epoch 30/100\n",
      "2/2 [==============================] - 0s 5ms/step - loss: 7.5310 - mae: 7.5310\n",
      "Epoch 31/100\n",
      "2/2 [==============================] - 0s 5ms/step - loss: 7.2384 - mae: 7.2384\n",
      "Epoch 32/100\n",
      "2/2 [==============================] - 0s 4ms/step - loss: 7.4816 - mae: 7.4816\n",
      "Epoch 33/100\n",
      "2/2 [==============================] - 0s 5ms/step - loss: 7.6303 - mae: 7.6303\n",
      "Epoch 34/100\n",
      "2/2 [==============================] - 0s 6ms/step - loss: 7.4003 - mae: 7.4003\n",
      "Epoch 35/100\n",
      "2/2 [==============================] - 0s 4ms/step - loss: 6.8897 - mae: 6.8897\n",
      "Epoch 36/100\n",
      "2/2 [==============================] - 0s 5ms/step - loss: 6.9790 - mae: 6.9790\n",
      "Epoch 37/100\n",
      "2/2 [==============================] - 0s 8ms/step - loss: 7.3041 - mae: 7.3041\n",
      "Epoch 38/100\n",
      "2/2 [==============================] - 0s 9ms/step - loss: 7.3202 - mae: 7.3202\n",
      "Epoch 39/100\n",
      "2/2 [==============================] - 0s 6ms/step - loss: 7.0859 - mae: 7.0859\n",
      "Epoch 40/100\n",
      "2/2 [==============================] - 0s 6ms/step - loss: 6.7303 - mae: 6.7303\n",
      "Epoch 41/100\n",
      "2/2 [==============================] - 0s 5ms/step - loss: 6.6278 - mae: 6.6278\n",
      "Epoch 42/100\n",
      "2/2 [==============================] - 0s 6ms/step - loss: 6.8993 - mae: 6.8993\n",
      "Epoch 43/100\n",
      "2/2 [==============================] - 0s 4ms/step - loss: 6.8944 - mae: 6.8944\n",
      "Epoch 44/100\n",
      "2/2 [==============================] - 0s 5ms/step - loss: 6.4940 - mae: 6.4940\n",
      "Epoch 45/100\n",
      "2/2 [==============================] - 0s 6ms/step - loss: 6.5209 - mae: 6.5209\n",
      "Epoch 46/100\n",
      "2/2 [==============================] - 0s 6ms/step - loss: 6.7527 - mae: 6.7527\n",
      "Epoch 47/100\n",
      "2/2 [==============================] - 0s 6ms/step - loss: 6.8105 - mae: 6.8105\n",
      "Epoch 48/100\n",
      "2/2 [==============================] - 0s 6ms/step - loss: 6.5928 - mae: 6.5928\n",
      "Epoch 49/100\n",
      "2/2 [==============================] - 0s 6ms/step - loss: 6.2955 - mae: 6.2955\n",
      "Epoch 50/100\n",
      "2/2 [==============================] - 0s 7ms/step - loss: 6.1313 - mae: 6.1313\n",
      "Epoch 51/100\n",
      "2/2 [==============================] - 0s 8ms/step - loss: 6.1490 - mae: 6.1490\n",
      "Epoch 52/100\n",
      "2/2 [==============================] - 0s 6ms/step - loss: 6.0790 - mae: 6.0790\n",
      "Epoch 53/100\n",
      "2/2 [==============================] - 0s 5ms/step - loss: 5.9207 - mae: 5.9207\n",
      "Epoch 54/100\n",
      "2/2 [==============================] - 0s 5ms/step - loss: 6.0405 - mae: 6.0405\n",
      "Epoch 55/100\n",
      "2/2 [==============================] - 0s 5ms/step - loss: 6.0060 - mae: 6.0060\n",
      "Epoch 56/100\n",
      "2/2 [==============================] - 0s 5ms/step - loss: 5.7792 - mae: 5.7792\n",
      "Epoch 57/100\n",
      "2/2 [==============================] - 0s 5ms/step - loss: 5.8011 - mae: 5.8011\n",
      "Epoch 58/100\n",
      "2/2 [==============================] - 0s 7ms/step - loss: 6.1147 - mae: 6.1147\n",
      "Epoch 59/100\n",
      "2/2 [==============================] - 0s 6ms/step - loss: 6.0070 - mae: 6.0070\n",
      "Epoch 60/100\n",
      "2/2 [==============================] - 0s 7ms/step - loss: 5.6022 - mae: 5.6022\n",
      "Epoch 61/100\n",
      "2/2 [==============================] - 0s 7ms/step - loss: 5.5753 - mae: 5.5753\n",
      "Epoch 62/100\n",
      "2/2 [==============================] - 0s 8ms/step - loss: 5.6692 - mae: 5.6692\n",
      "Epoch 63/100\n",
      "2/2 [==============================] - 0s 6ms/step - loss: 5.5891 - mae: 5.5891\n",
      "Epoch 64/100\n",
      "2/2 [==============================] - 0s 5ms/step - loss: 5.4167 - mae: 5.4167\n",
      "Epoch 65/100\n",
      "2/2 [==============================] - 0s 5ms/step - loss: 5.2575 - mae: 5.2575\n",
      "Epoch 66/100\n",
      "2/2 [==============================] - 0s 6ms/step - loss: 5.2775 - mae: 5.2775\n",
      "Epoch 67/100\n",
      "2/2 [==============================] - 0s 5ms/step - loss: 5.3229 - mae: 5.3229\n",
      "Epoch 68/100\n",
      "2/2 [==============================] - 0s 5ms/step - loss: 5.0609 - mae: 5.0609\n",
      "Epoch 69/100\n",
      "2/2 [==============================] - 0s 6ms/step - loss: 5.1004 - mae: 5.1004\n",
      "Epoch 70/100\n",
      "2/2 [==============================] - 0s 5ms/step - loss: 5.2421 - mae: 5.2421\n",
      "Epoch 71/100\n",
      "2/2 [==============================] - 0s 6ms/step - loss: 5.0549 - mae: 5.0549\n",
      "Epoch 72/100\n",
      "2/2 [==============================] - 0s 7ms/step - loss: 4.7942 - mae: 4.7942\n",
      "Epoch 73/100\n",
      "2/2 [==============================] - 0s 5ms/step - loss: 5.0314 - mae: 5.0314\n",
      "Epoch 74/100\n",
      "2/2 [==============================] - 0s 5ms/step - loss: 5.0389 - mae: 5.0389\n",
      "Epoch 75/100\n",
      "2/2 [==============================] - 0s 5ms/step - loss: 4.6733 - mae: 4.6733\n",
      "Epoch 76/100\n",
      "2/2 [==============================] - 0s 5ms/step - loss: 4.6966 - mae: 4.6966\n",
      "Epoch 77/100\n",
      "2/2 [==============================] - 0s 6ms/step - loss: 4.7157 - mae: 4.7157\n",
      "Epoch 78/100\n",
      "2/2 [==============================] - 0s 5ms/step - loss: 4.4864 - mae: 4.4864\n",
      "Epoch 79/100\n",
      "2/2 [==============================] - 0s 5ms/step - loss: 4.2913 - mae: 4.2913\n",
      "Epoch 80/100\n",
      "2/2 [==============================] - 0s 6ms/step - loss: 4.4009 - mae: 4.4009\n",
      "Epoch 81/100\n",
      "2/2 [==============================] - 0s 6ms/step - loss: 4.3474 - mae: 4.3474\n",
      "Epoch 82/100\n",
      "2/2 [==============================] - 0s 6ms/step - loss: 4.0907 - mae: 4.0907\n",
      "Epoch 83/100\n",
      "2/2 [==============================] - 0s 9ms/step - loss: 4.0546 - mae: 4.0546\n",
      "Epoch 84/100\n",
      "2/2 [==============================] - 0s 6ms/step - loss: 3.9886 - mae: 3.9886\n",
      "Epoch 85/100\n",
      "2/2 [==============================] - 0s 5ms/step - loss: 3.8977 - mae: 3.8977\n",
      "Epoch 86/100\n",
      "2/2 [==============================] - 0s 4ms/step - loss: 3.7789 - mae: 3.7789\n",
      "Epoch 87/100\n",
      "2/2 [==============================] - 0s 6ms/step - loss: 3.7160 - mae: 3.7160\n",
      "Epoch 88/100\n"
     ]
    },
    {
     "name": "stdout",
     "output_type": "stream",
     "text": [
      "2/2 [==============================] - 0s 5ms/step - loss: 3.6343 - mae: 3.6343\n",
      "Epoch 89/100\n",
      "2/2 [==============================] - 0s 5ms/step - loss: 3.6025 - mae: 3.6025\n",
      "Epoch 90/100\n",
      "2/2 [==============================] - 0s 4ms/step - loss: 3.4401 - mae: 3.4401\n",
      "Epoch 91/100\n",
      "2/2 [==============================] - 0s 5ms/step - loss: 3.5032 - mae: 3.5032\n",
      "Epoch 92/100\n",
      "2/2 [==============================] - 0s 5ms/step - loss: 3.4038 - mae: 3.4038\n",
      "Epoch 93/100\n",
      "2/2 [==============================] - 0s 4ms/step - loss: 3.1946 - mae: 3.1946\n",
      "Epoch 94/100\n",
      "2/2 [==============================] - 0s 5ms/step - loss: 3.1022 - mae: 3.1022\n",
      "Epoch 95/100\n",
      "2/2 [==============================] - 0s 5ms/step - loss: 3.0248 - mae: 3.0248\n",
      "Epoch 96/100\n",
      "2/2 [==============================] - 0s 5ms/step - loss: 2.9383 - mae: 2.9383\n",
      "Epoch 97/100\n",
      "2/2 [==============================] - 0s 5ms/step - loss: 2.8323 - mae: 2.8323\n",
      "Epoch 98/100\n",
      "2/2 [==============================] - 0s 5ms/step - loss: 2.7658 - mae: 2.7658\n",
      "Epoch 99/100\n",
      "2/2 [==============================] - 0s 4ms/step - loss: 2.6196 - mae: 2.6196\n",
      "Epoch 100/100\n",
      "2/2 [==============================] - 0s 6ms/step - loss: 2.5338 - mae: 2.5338\n"
     ]
    },
    {
     "data": {
      "text/plain": [
       "<keras.src.callbacks.History at 0x2573bc9ff10>"
      ]
     },
     "execution_count": 40,
     "metadata": {},
     "output_type": "execute_result"
    }
   ],
   "source": [
    "# improve the model, add another model\n",
    "\n",
    "tf.random.set_seed(42)\n",
    "\n",
    "# 1. build the model\n",
    "model_3 = tf.keras.Sequential([\n",
    "    tf.keras.layers.Dense(10, input_shape=[1]),\n",
    "    tf.keras.layers.Dense(1)\n",
    "])\n",
    "\n",
    "# 2. compile model\n",
    "model_3.compile(loss=tf.keras.losses.mae, \n",
    "                optimizer=tf.keras.optimizers.Adam(learning_rate=0.01),\n",
    "                metrics=['mae']\n",
    "               )\n",
    "\n",
    "# 3. fit model\n",
    "model_3.fit(X_train, y_train, epochs=100)"
   ]
  },
  {
   "cell_type": "code",
   "execution_count": 41,
   "id": "d7fd63b4",
   "metadata": {},
   "outputs": [
    {
     "name": "stdout",
     "output_type": "stream",
     "text": [
      "1/1 [==============================] - 0s 36ms/step\n"
     ]
    },
    {
     "data": {
      "text/plain": [
       "array([[ 78.142494],\n",
       "       [ 83.23738 ],\n",
       "       [ 88.33229 ],\n",
       "       [ 93.427185],\n",
       "       [ 98.52209 ],\n",
       "       [103.61698 ],\n",
       "       [108.711876],\n",
       "       [113.806786],\n",
       "       [118.90168 ],\n",
       "       [123.99658 ]], dtype=float32)"
      ]
     },
     "execution_count": 41,
     "metadata": {},
     "output_type": "execute_result"
    }
   ],
   "source": [
    "y_pred = model_2.predict(X_test)\n",
    "y_pred"
   ]
  },
  {
   "cell_type": "code",
   "execution_count": 42,
   "id": "04f0ac04",
   "metadata": {},
   "outputs": [
    {
     "data": {
      "text/plain": [
       "<tf.Tensor: shape=(10,), dtype=int32, numpy=array([ 70,  74,  78,  82,  86,  90,  94,  98, 102, 106])>"
      ]
     },
     "execution_count": 42,
     "metadata": {},
     "output_type": "execute_result"
    }
   ],
   "source": [
    "y_test"
   ]
  },
  {
   "cell_type": "code",
   "execution_count": 43,
   "id": "9c433341",
   "metadata": {},
   "outputs": [
    {
     "data": {
      "image/png": "[encoded data removed]",
      "text/plain": [
       "<Figure size 1000x700 with 1 Axes>"
      ]
     },
     "metadata": {},
     "output_type": "display_data"
    }
   ],
   "source": [
    "plot_predictions(X_train, y_train, X_test, y_test, y_pred)"
   ]
  },
  {
   "cell_type": "code",
   "execution_count": null,
   "id": "61b274bb",
   "metadata": {},
   "outputs": [],
   "source": []
  }
 ],
 "metadata": {
  "kernelspec": {
   "display_name": "Python 3 (ipykernel)",
   "language": "python",
   "name": "python3"
  },
  "language_info": {
   "codemirror_mode": {
    "name": "ipython",
    "version": 3
   },
   "file_extension": ".py",
   "mimetype": "text/x-python",
   "name": "python",
   "nbconvert_exporter": "python",
   "pygments_lexer": "ipython3",
   "version": "3.9.13"
  }
 },
 "nbformat": 4,
 "nbformat_minor": 5
}
