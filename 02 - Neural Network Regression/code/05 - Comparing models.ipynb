{
 "cells": [
  {
   "cell_type": "markdown",
   "id": "1a9e67c6",
   "metadata": {},
   "source": [
    "# Comparing models\n",
    "<hr>\n",
    "\n",
    "Try build a model from a simple, improve on it then compare the models.\n",
    "\n",
    "- <a href=\"#model_1\">model_1</a>: a simple model\n",
    "- <a href=\"#model_2\">model_2</a>: 2 layers, 100 epochs \n",
    "- <a href=\"#model_3\">model_3</a>: 2 layers, adam optimizer, lr=0.01 \n",
    "- <a href=\"#model_4\">model_4</a>: 2 layers, adam optimizer, lr=0.01, 20 neurons "
   ]
  },
  {
   "cell_type": "code",
   "execution_count": 1,
   "id": "793ed0e9",
   "metadata": {},
   "outputs": [],
   "source": [
    "import tensorflow as tf\n",
    "import matplotlib.pyplot as plt"
   ]
  },
  {
   "cell_type": "code",
   "execution_count": 2,
   "id": "f618271b",
   "metadata": {},
   "outputs": [
    {
     "data": {
      "text/plain": [
       "(<tf.Tensor: shape=(50,), dtype=int32, numpy=\n",
       " array([-100,  -96,  -92,  -88,  -84,  -80,  -76,  -72,  -68,  -64,  -60,\n",
       "         -56,  -52,  -48,  -44,  -40,  -36,  -32,  -28,  -24,  -20,  -16,\n",
       "         -12,   -8,   -4,    0,    4,    8,   12,   16,   20,   24,   28,\n",
       "          32,   36,   40,   44,   48,   52,   56,   60,   64,   68,   72,\n",
       "          76,   80,   84,   88,   92,   96])>,\n",
       " <tf.Tensor: shape=(50,), dtype=int32, numpy=\n",
       " array([-90, -86, -82, -78, -74, -70, -66, -62, -58, -54, -50, -46, -42,\n",
       "        -38, -34, -30, -26, -22, -18, -14, -10,  -6,  -2,   2,   6,  10,\n",
       "         14,  18,  22,  26,  30,  34,  38,  42,  46,  50,  54,  58,  62,\n",
       "         66,  70,  74,  78,  82,  86,  90,  94,  98, 102, 106])>)"
      ]
     },
     "execution_count": 2,
     "metadata": {},
     "output_type": "execute_result"
    }
   ],
   "source": [
    "X = tf.range(-100, 100, 4)\n",
    "y = X + 10\n",
    "\n",
    "X,y"
   ]
  },
  {
   "cell_type": "code",
   "execution_count": 3,
   "id": "460f66e2",
   "metadata": {},
   "outputs": [],
   "source": [
    "# split into train and test sets\n",
    "X_train = X[:40]\n",
    "y_train = y[:40]\n",
    "\n",
    "X_test = X[40:]\n",
    "y_test = y[40:]"
   ]
  },
  {
   "cell_type": "code",
   "execution_count": 4,
   "id": "4cb34b22",
   "metadata": {},
   "outputs": [
    {
     "data": {
      "text/plain": [
       "<matplotlib.legend.Legend at 0x24673443d30>"
      ]
     },
     "execution_count": 4,
     "metadata": {},
     "output_type": "execute_result"
    },
    {
     "data": {
      "image/png": "[encoded data removed]",
      "text/plain": [
       "<Figure size 1000x700 with 1 Axes>"
      ]
     },
     "metadata": {},
     "output_type": "display_data"
    }
   ],
   "source": [
    "# plot the splited sets\n",
    "plt.figure(figsize=(10,7))\n",
    "plt.scatter(X_train, y_train, c='b', label=\"Training set\")\n",
    "plt.scatter(X_test, y_test, c='g', label=\"Testing set\")\n",
    "plt.legend()"
   ]
  },
  {
   "cell_type": "markdown",
   "id": "8ac63b8c",
   "metadata": {},
   "source": [
    "<div id=\"model_1\"></div>\n",
    "\n",
    "## Model 1"
   ]
  },
  {
   "cell_type": "code",
   "execution_count": 5,
   "id": "c1a44d0b",
   "metadata": {},
   "outputs": [
    {
     "name": "stdout",
     "output_type": "stream",
     "text": [
      "Epoch 1/100\n",
      "2/2 [==============================] - 1s 8ms/step - loss: 48.7883 - mae: 48.7883\n",
      "Epoch 2/100\n",
      "2/2 [==============================] - 0s 6ms/step - loss: 16.6603 - mae: 16.6603\n",
      "Epoch 3/100\n",
      "2/2 [==============================] - 0s 5ms/step - loss: 15.7188 - mae: 15.7188\n",
      "Epoch 4/100\n",
      "2/2 [==============================] - 0s 6ms/step - loss: 8.2676 - mae: 8.2676\n",
      "Epoch 5/100\n",
      "2/2 [==============================] - 0s 7ms/step - loss: 10.5867 - mae: 10.5867\n",
      "Epoch 6/100\n",
      "2/2 [==============================] - 0s 7ms/step - loss: 9.8007 - mae: 9.8007\n",
      "Epoch 7/100\n",
      "2/2 [==============================] - 0s 5ms/step - loss: 8.8816 - mae: 8.8816\n",
      "Epoch 8/100\n",
      "2/2 [==============================] - 0s 5ms/step - loss: 9.0816 - mae: 9.0816\n",
      "Epoch 9/100\n",
      "2/2 [==============================] - 0s 6ms/step - loss: 19.5090 - mae: 19.5090\n",
      "Epoch 10/100\n",
      "2/2 [==============================] - 0s 5ms/step - loss: 10.5438 - mae: 10.5438\n",
      "Epoch 11/100\n",
      "2/2 [==============================] - 0s 5ms/step - loss: 8.5723 - mae: 8.5723\n",
      "Epoch 12/100\n",
      "2/2 [==============================] - 0s 6ms/step - loss: 11.0405 - mae: 11.0405\n",
      "Epoch 13/100\n",
      "2/2 [==============================] - 0s 6ms/step - loss: 7.5961 - mae: 7.5961\n",
      "Epoch 14/100\n",
      "2/2 [==============================] - 0s 8ms/step - loss: 15.8847 - mae: 15.8847\n",
      "Epoch 15/100\n",
      "2/2 [==============================] - 0s 5ms/step - loss: 12.9571 - mae: 12.9571\n",
      "Epoch 16/100\n",
      "2/2 [==============================] - 0s 7ms/step - loss: 7.9406 - mae: 7.9406\n",
      "Epoch 17/100\n",
      "2/2 [==============================] - 0s 7ms/step - loss: 11.1506 - mae: 11.1506\n",
      "Epoch 18/100\n",
      "2/2 [==============================] - 0s 6ms/step - loss: 10.3598 - mae: 10.3598\n",
      "Epoch 19/100\n",
      "2/2 [==============================] - 0s 5ms/step - loss: 19.4022 - mae: 19.4022\n",
      "Epoch 20/100\n",
      "2/2 [==============================] - 0s 6ms/step - loss: 16.0608 - mae: 16.0608\n",
      "Epoch 21/100\n",
      "2/2 [==============================] - 0s 7ms/step - loss: 11.9724 - mae: 11.9724\n",
      "Epoch 22/100\n",
      "2/2 [==============================] - 0s 6ms/step - loss: 8.5773 - mae: 8.5773\n",
      "Epoch 23/100\n",
      "2/2 [==============================] - 0s 5ms/step - loss: 9.7418 - mae: 9.7418\n",
      "Epoch 24/100\n",
      "2/2 [==============================] - 0s 5ms/step - loss: 10.9374 - mae: 10.9374\n",
      "Epoch 25/100\n",
      "2/2 [==============================] - 0s 9ms/step - loss: 9.1586 - mae: 9.1586\n",
      "Epoch 26/100\n",
      "2/2 [==============================] - 0s 7ms/step - loss: 13.1729 - mae: 13.1729\n",
      "Epoch 27/100\n",
      "2/2 [==============================] - 0s 6ms/step - loss: 10.6544 - mae: 10.6544\n",
      "Epoch 28/100\n",
      "2/2 [==============================] - 0s 6ms/step - loss: 12.8638 - mae: 12.8638\n",
      "Epoch 29/100\n",
      "2/2 [==============================] - 0s 6ms/step - loss: 9.5127 - mae: 9.5127\n",
      "Epoch 30/100\n",
      "2/2 [==============================] - 0s 7ms/step - loss: 16.3696 - mae: 16.3696\n",
      "Epoch 31/100\n",
      "2/2 [==============================] - 0s 7ms/step - loss: 23.6236 - mae: 23.6236\n",
      "Epoch 32/100\n",
      "2/2 [==============================] - 0s 6ms/step - loss: 7.6250 - mae: 7.6250\n",
      "Epoch 33/100\n",
      "2/2 [==============================] - 0s 6ms/step - loss: 9.3242 - mae: 9.3242\n",
      "Epoch 34/100\n",
      "2/2 [==============================] - 0s 6ms/step - loss: 13.7204 - mae: 13.7204\n",
      "Epoch 35/100\n",
      "2/2 [==============================] - 0s 6ms/step - loss: 11.1440 - mae: 11.1440\n",
      "Epoch 36/100\n",
      "2/2 [==============================] - 0s 11ms/step - loss: 13.3463 - mae: 13.3463\n",
      "Epoch 37/100\n",
      "2/2 [==============================] - 0s 6ms/step - loss: 9.4757 - mae: 9.4757\n",
      "Epoch 38/100\n",
      "2/2 [==============================] - 0s 6ms/step - loss: 10.1347 - mae: 10.1347\n",
      "Epoch 39/100\n",
      "2/2 [==============================] - 0s 4ms/step - loss: 10.1958 - mae: 10.1958\n",
      "Epoch 40/100\n",
      "2/2 [==============================] - 0s 6ms/step - loss: 10.9329 - mae: 10.9329\n",
      "Epoch 41/100\n",
      "2/2 [==============================] - 0s 6ms/step - loss: 7.9236 - mae: 7.9236\n",
      "Epoch 42/100\n",
      "2/2 [==============================] - 0s 5ms/step - loss: 10.0895 - mae: 10.0895\n",
      "Epoch 43/100\n",
      "2/2 [==============================] - 0s 6ms/step - loss: 8.7040 - mae: 8.7040\n",
      "Epoch 44/100\n",
      "2/2 [==============================] - 0s 5ms/step - loss: 12.1936 - mae: 12.1936\n",
      "Epoch 45/100\n",
      "2/2 [==============================] - 0s 8ms/step - loss: 13.8188 - mae: 13.8188\n",
      "Epoch 46/100\n",
      "2/2 [==============================] - 0s 8ms/step - loss: 8.4867 - mae: 8.4867\n",
      "Epoch 47/100\n",
      "2/2 [==============================] - 0s 6ms/step - loss: 9.1322 - mae: 9.1322\n",
      "Epoch 48/100\n",
      "2/2 [==============================] - 0s 5ms/step - loss: 10.6147 - mae: 10.6147\n",
      "Epoch 49/100\n",
      "2/2 [==============================] - 0s 7ms/step - loss: 7.7501 - mae: 7.7501\n",
      "Epoch 50/100\n",
      "2/2 [==============================] - 0s 6ms/step - loss: 9.5371 - mae: 9.5371\n",
      "Epoch 51/100\n",
      "2/2 [==============================] - 0s 6ms/step - loss: 9.1629 - mae: 9.1629\n",
      "Epoch 52/100\n",
      "2/2 [==============================] - 0s 5ms/step - loss: 16.3426 - mae: 16.3426\n",
      "Epoch 53/100\n",
      "2/2 [==============================] - 0s 7ms/step - loss: 14.1449 - mae: 14.1449\n",
      "Epoch 54/100\n",
      "2/2 [==============================] - 0s 6ms/step - loss: 21.1534 - mae: 21.1534\n",
      "Epoch 55/100\n",
      "2/2 [==============================] - 0s 6ms/step - loss: 16.3792 - mae: 16.3792\n",
      "Epoch 56/100\n",
      "2/2 [==============================] - 0s 5ms/step - loss: 10.0019 - mae: 10.0019\n",
      "Epoch 57/100\n",
      "2/2 [==============================] - 0s 5ms/step - loss: 9.9581 - mae: 9.9581\n",
      "Epoch 58/100\n",
      "2/2 [==============================] - 0s 8ms/step - loss: 9.2199 - mae: 9.2199\n",
      "Epoch 59/100\n",
      "2/2 [==============================] - 0s 5ms/step - loss: 8.4221 - mae: 8.4221\n",
      "Epoch 60/100\n",
      "2/2 [==============================] - 0s 7ms/step - loss: 9.4876 - mae: 9.4876\n",
      "Epoch 61/100\n",
      "2/2 [==============================] - 0s 6ms/step - loss: 11.4292 - mae: 11.4292\n",
      "Epoch 62/100\n",
      "2/2 [==============================] - 0s 5ms/step - loss: 11.7103 - mae: 11.7103\n",
      "Epoch 63/100\n",
      "2/2 [==============================] - 0s 6ms/step - loss: 7.0864 - mae: 7.0864\n",
      "Epoch 64/100\n",
      "2/2 [==============================] - 0s 8ms/step - loss: 16.9886 - mae: 16.9886\n",
      "Epoch 65/100\n",
      "2/2 [==============================] - 0s 6ms/step - loss: 12.4778 - mae: 12.4778\n",
      "Epoch 66/100\n",
      "2/2 [==============================] - 0s 5ms/step - loss: 13.0399 - mae: 13.0399\n",
      "Epoch 67/100\n",
      "2/2 [==============================] - 0s 6ms/step - loss: 8.0730 - mae: 8.0730\n",
      "Epoch 68/100\n",
      "2/2 [==============================] - 0s 7ms/step - loss: 10.2050 - mae: 10.2050\n",
      "Epoch 69/100\n",
      "2/2 [==============================] - 0s 7ms/step - loss: 12.3861 - mae: 12.3861\n",
      "Epoch 70/100\n",
      "2/2 [==============================] - 0s 5ms/step - loss: 9.0509 - mae: 9.0509\n",
      "Epoch 71/100\n",
      "2/2 [==============================] - 0s 6ms/step - loss: 10.0360 - mae: 10.0360\n",
      "Epoch 72/100\n",
      "2/2 [==============================] - 0s 6ms/step - loss: 10.0519 - mae: 10.0519\n",
      "Epoch 73/100\n",
      "2/2 [==============================] - 0s 6ms/step - loss: 12.6065 - mae: 12.6065\n",
      "Epoch 74/100\n",
      "2/2 [==============================] - 0s 5ms/step - loss: 10.4047 - mae: 10.4047\n",
      "Epoch 75/100\n",
      "2/2 [==============================] - 0s 6ms/step - loss: 9.7219 - mae: 9.7219\n",
      "Epoch 76/100\n",
      "2/2 [==============================] - 0s 6ms/step - loss: 11.2215 - mae: 11.2215\n",
      "Epoch 77/100\n",
      "2/2 [==============================] - 0s 7ms/step - loss: 8.3635 - mae: 8.3635\n",
      "Epoch 78/100\n",
      "2/2 [==============================] - 0s 6ms/step - loss: 9.1212 - mae: 9.1212\n",
      "Epoch 79/100\n",
      "2/2 [==============================] - 0s 5ms/step - loss: 19.5316 - mae: 19.5316\n",
      "Epoch 80/100\n",
      "2/2 [==============================] - 0s 6ms/step - loss: 14.8799 - mae: 14.8799\n",
      "Epoch 81/100\n",
      "2/2 [==============================] - 0s 6ms/step - loss: 9.0285 - mae: 9.0285\n",
      "Epoch 82/100\n",
      "2/2 [==============================] - 0s 7ms/step - loss: 13.0098 - mae: 13.0098\n",
      "Epoch 83/100\n",
      "2/2 [==============================] - 0s 6ms/step - loss: 7.9264 - mae: 7.9264\n",
      "Epoch 84/100\n",
      "2/2 [==============================] - 0s 5ms/step - loss: 7.6991 - mae: 7.6991\n",
      "Epoch 85/100\n",
      "2/2 [==============================] - 0s 6ms/step - loss: 10.0505 - mae: 10.0505\n",
      "Epoch 86/100\n",
      "2/2 [==============================] - 0s 7ms/step - loss: 9.2572 - mae: 9.2572\n",
      "Epoch 87/100\n",
      "2/2 [==============================] - 0s 6ms/step - loss: 12.0394 - mae: 12.0394\n",
      "Epoch 88/100\n"
     ]
    },
    {
     "name": "stdout",
     "output_type": "stream",
     "text": [
      "2/2 [==============================] - 0s 8ms/step - loss: 10.6587 - mae: 10.6587\n",
      "Epoch 89/100\n",
      "2/2 [==============================] - 0s 6ms/step - loss: 7.2751 - mae: 7.2751\n",
      "Epoch 90/100\n",
      "2/2 [==============================] - 0s 6ms/step - loss: 12.8000 - mae: 12.8000\n",
      "Epoch 91/100\n",
      "2/2 [==============================] - 0s 5ms/step - loss: 7.4827 - mae: 7.4827\n",
      "Epoch 92/100\n",
      "2/2 [==============================] - 0s 4ms/step - loss: 6.7614 - mae: 6.7614\n",
      "Epoch 93/100\n",
      "2/2 [==============================] - 0s 5ms/step - loss: 11.9506 - mae: 11.9506\n",
      "Epoch 94/100\n",
      "2/2 [==============================] - 0s 6ms/step - loss: 8.8845 - mae: 8.8845\n",
      "Epoch 95/100\n",
      "2/2 [==============================] - 0s 5ms/step - loss: 7.7258 - mae: 7.7258\n",
      "Epoch 96/100\n",
      "2/2 [==============================] - 0s 5ms/step - loss: 6.7576 - mae: 6.7576\n",
      "Epoch 97/100\n",
      "2/2 [==============================] - 0s 5ms/step - loss: 8.6349 - mae: 8.6349\n",
      "Epoch 98/100\n",
      "2/2 [==============================] - 0s 3ms/step - loss: 9.4036 - mae: 9.4036\n",
      "Epoch 99/100\n",
      "2/2 [==============================] - 0s 6ms/step - loss: 9.1386 - mae: 9.1386\n",
      "Epoch 100/100\n",
      "2/2 [==============================] - 0s 4ms/step - loss: 10.4971 - mae: 10.4971\n"
     ]
    },
    {
     "data": {
      "text/plain": [
       "<keras.src.callbacks.History at 0x2467563b1c0>"
      ]
     },
     "execution_count": 5,
     "metadata": {},
     "output_type": "execute_result"
    }
   ],
   "source": [
    "tf.random.set_seed(42)\n",
    "\n",
    "# 1. build the model\n",
    "model_1 = tf.keras.Sequential([\n",
    "    tf.keras.layers.Dense(1, input_shape=[1])\n",
    "])\n",
    "\n",
    "# 2. compile model\n",
    "model_1.compile(loss=tf.keras.losses.mae, \n",
    "                optimizer=tf.keras.optimizers.SGD(),\n",
    "                metrics=['mae']\n",
    "               )\n",
    "\n",
    "# 3. fit model\n",
    "model_1.fit(X_train, y_train, epochs=100)"
   ]
  },
  {
   "cell_type": "code",
   "execution_count": 6,
   "id": "f3e22425",
   "metadata": {},
   "outputs": [
    {
     "name": "stdout",
     "output_type": "stream",
     "text": [
      "1/1 [==============================] - 0s 79ms/step\n"
     ]
    },
    {
     "data": {
      "text/plain": [
       "array([[56.522926],\n",
       "       [60.20533 ],\n",
       "       [63.887733],\n",
       "       [67.57014 ],\n",
       "       [71.25254 ],\n",
       "       [74.934944],\n",
       "       [78.61735 ],\n",
       "       [82.29975 ],\n",
       "       [85.982155],\n",
       "       [89.66456 ]], dtype=float32)"
      ]
     },
     "execution_count": 6,
     "metadata": {},
     "output_type": "execute_result"
    }
   ],
   "source": [
    "y_pred_1 = model_1.predict(X_test)\n",
    "y_pred_1"
   ]
  },
  {
   "cell_type": "code",
   "execution_count": 7,
   "id": "58f8a4d0",
   "metadata": {},
   "outputs": [
    {
     "data": {
      "text/plain": [
       "<tf.Tensor: shape=(10,), dtype=int32, numpy=array([ 70,  74,  78,  82,  86,  90,  94,  98, 102, 106])>"
      ]
     },
     "execution_count": 7,
     "metadata": {},
     "output_type": "execute_result"
    }
   ],
   "source": [
    "y_test"
   ]
  },
  {
   "cell_type": "code",
   "execution_count": 12,
   "id": "edd082b9",
   "metadata": {},
   "outputs": [],
   "source": [
    "def plot_predictions(X_train,y_train,X_test,y_test,y_pred):\n",
    "    \"\"\"\n",
    "    plot training data, test data and compares prediction to ground truth\n",
    "    \"\"\"\n",
    "    plt.figure(figsize=(10,7))\n",
    "    # plot training data in blue\n",
    "    plt.scatter(X_train, y_train, c=\"b\", label=\"Training data\")\n",
    "    # plot testing data in green\n",
    "    plt.scatter(X_test, y_test, c=\"g\", label=\"Testing data\")\n",
    "    # plot model prediction\n",
    "    plt.scatter(y_test, y_pred, c=\"r\", label=\"Prediction\")\n",
    "    # show legend\n",
    "    plt.legend();"
   ]
  },
  {
   "cell_type": "code",
   "execution_count": 42,
   "id": "14979551",
   "metadata": {},
   "outputs": [
    {
     "data": {
      "image/png": "[encoded data removed]",
      "text/plain": [
       "<Figure size 1000x700 with 1 Axes>"
      ]
     },
     "metadata": {},
     "output_type": "display_data"
    }
   ],
   "source": [
    "# Visualize the prediction\n",
    "# visualize using a plotting function\n",
    "def plot_predictions(train_data=X_train, train_labels=y_train, test_data=X_test, test_labels=y_test, predictions=y_pred_1):\n",
    "    \"\"\"\n",
    "    plot training data, test data and compares predictions to ground truth\n",
    "    \"\"\"\n",
    "    plt.figure(figsize=(10,7))\n",
    "    # plot training data in blue\n",
    "    plt.scatter(train_data, train_labels, c=\"b\", label=\"Training data\")\n",
    "    # plot testing data in green\n",
    "    plt.scatter(test_data, test_labels, c=\"g\", label=\"Testing data\")\n",
    "    # plot model prediction\n",
    "    plt.scatter(test_data, predictions, c=\"r\", label=\"Prediction\")\n",
    "    # show legend\n",
    "    plt.legend();\n",
    "    \n",
    "plot_predictions()"
   ]
  },
  {
   "cell_type": "code",
   "execution_count": 15,
   "id": "22490d15",
   "metadata": {},
   "outputs": [
    {
     "data": {
      "text/plain": [
       "<tf.Tensor: shape=(10,), dtype=float32, numpy=\n",
       "array([56.522926, 60.20533 , 63.887733, 67.57014 , 71.25254 , 74.934944,\n",
       "       78.61735 , 82.29975 , 85.982155, 89.66456 ], dtype=float32)>"
      ]
     },
     "execution_count": 15,
     "metadata": {},
     "output_type": "execute_result"
    }
   ],
   "source": [
    "y_pred_1 = tf.squeeze(tf.constant(y_pred_1))\n",
    "y_pred_1"
   ]
  },
  {
   "cell_type": "code",
   "execution_count": 16,
   "id": "dcc03448",
   "metadata": {},
   "outputs": [
    {
     "data": {
      "text/plain": [
       "<tf.Tensor: shape=(), dtype=float32, numpy=14.906258>"
      ]
     },
     "execution_count": 16,
     "metadata": {},
     "output_type": "execute_result"
    }
   ],
   "source": [
    "mae_1 = tf.keras.losses.mae(y_test, y_pred_1)\n",
    "mae_1"
   ]
  },
  {
   "cell_type": "code",
   "execution_count": 51,
   "id": "090d4628",
   "metadata": {},
   "outputs": [
    {
     "data": {
      "text/plain": [
       "<tf.Tensor: shape=(), dtype=float32, numpy=223.02866>"
      ]
     },
     "execution_count": 51,
     "metadata": {},
     "output_type": "execute_result"
    }
   ],
   "source": [
    "mse_1 = tf.keras.losses.mse(y_test, y_pred_1)\n",
    "mse_1"
   ]
  },
  {
   "cell_type": "markdown",
   "id": "e49cf938",
   "metadata": {},
   "source": [
    "<div id=\"model_2\"></div>\n",
    "\n",
    "## Model 2"
   ]
  },
  {
   "cell_type": "code",
   "execution_count": 17,
   "id": "d84da9d2",
   "metadata": {},
   "outputs": [
    {
     "name": "stdout",
     "output_type": "stream",
     "text": [
      "Epoch 1/100\n",
      "2/2 [==============================] - 0s 6ms/step - loss: 40.1216 - mae: 40.1216\n",
      "Epoch 2/100\n",
      "2/2 [==============================] - 0s 7ms/step - loss: 10.5997 - mae: 10.5997\n",
      "Epoch 3/100\n",
      "2/2 [==============================] - 0s 6ms/step - loss: 25.2506 - mae: 25.2506\n",
      "Epoch 4/100\n",
      "2/2 [==============================] - 0s 5ms/step - loss: 13.0101 - mae: 13.0101\n",
      "Epoch 5/100\n",
      "2/2 [==============================] - 0s 5ms/step - loss: 16.4797 - mae: 16.4797\n",
      "Epoch 6/100\n",
      "2/2 [==============================] - 0s 5ms/step - loss: 11.1931 - mae: 11.1931\n",
      "Epoch 7/100\n",
      "2/2 [==============================] - 0s 5ms/step - loss: 12.2115 - mae: 12.2115\n",
      "Epoch 8/100\n",
      "2/2 [==============================] - 0s 6ms/step - loss: 10.9124 - mae: 10.9124\n",
      "Epoch 9/100\n",
      "2/2 [==============================] - 0s 5ms/step - loss: 38.2012 - mae: 38.2012\n",
      "Epoch 10/100\n",
      "2/2 [==============================] - 0s 5ms/step - loss: 25.7577 - mae: 25.7577\n",
      "Epoch 11/100\n",
      "2/2 [==============================] - 0s 5ms/step - loss: 10.2431 - mae: 10.2431\n",
      "Epoch 12/100\n",
      "2/2 [==============================] - 0s 6ms/step - loss: 25.2244 - mae: 25.2244\n",
      "Epoch 13/100\n",
      "2/2 [==============================] - 0s 6ms/step - loss: 17.1049 - mae: 17.1049\n",
      "Epoch 14/100\n",
      "2/2 [==============================] - 0s 5ms/step - loss: 26.1408 - mae: 26.1408\n",
      "Epoch 15/100\n",
      "2/2 [==============================] - 0s 5ms/step - loss: 18.1712 - mae: 18.1712\n",
      "Epoch 16/100\n",
      "2/2 [==============================] - 0s 6ms/step - loss: 7.8540 - mae: 7.8540\n",
      "Epoch 17/100\n",
      "2/2 [==============================] - 0s 5ms/step - loss: 22.2886 - mae: 22.2886\n",
      "Epoch 18/100\n",
      "2/2 [==============================] - 0s 5ms/step - loss: 10.8428 - mae: 10.8428\n",
      "Epoch 19/100\n",
      "2/2 [==============================] - 0s 5ms/step - loss: 10.7330 - mae: 10.7330\n",
      "Epoch 20/100\n",
      "2/2 [==============================] - 0s 4ms/step - loss: 12.0558 - mae: 12.0558\n",
      "Epoch 21/100\n",
      "2/2 [==============================] - 0s 5ms/step - loss: 20.2138 - mae: 20.2138\n",
      "Epoch 22/100\n",
      "2/2 [==============================] - 0s 4ms/step - loss: 13.8187 - mae: 13.8187\n",
      "Epoch 23/100\n",
      "2/2 [==============================] - 0s 5ms/step - loss: 9.5522 - mae: 9.5522\n",
      "Epoch 24/100\n",
      "2/2 [==============================] - 0s 5ms/step - loss: 11.9109 - mae: 11.9109\n",
      "Epoch 25/100\n",
      "2/2 [==============================] - 0s 4ms/step - loss: 16.2644 - mae: 16.2644\n",
      "Epoch 26/100\n",
      "2/2 [==============================] - 0s 6ms/step - loss: 16.4522 - mae: 16.4522\n",
      "Epoch 27/100\n",
      "2/2 [==============================] - 0s 5ms/step - loss: 11.5971 - mae: 11.5971\n",
      "Epoch 28/100\n",
      "2/2 [==============================] - 0s 5ms/step - loss: 30.0972 - mae: 30.0972\n",
      "Epoch 29/100\n",
      "2/2 [==============================] - 0s 3ms/step - loss: 9.2460 - mae: 9.2460\n",
      "Epoch 30/100\n",
      "2/2 [==============================] - 0s 5ms/step - loss: 30.6229 - mae: 30.6229\n",
      "Epoch 31/100\n",
      "2/2 [==============================] - 0s 5ms/step - loss: 55.6795 - mae: 55.6795\n",
      "Epoch 32/100\n",
      "2/2 [==============================] - 0s 5ms/step - loss: 9.7432 - mae: 9.7432\n",
      "Epoch 33/100\n",
      "2/2 [==============================] - 0s 6ms/step - loss: 12.3656 - mae: 12.3656\n",
      "Epoch 34/100\n",
      "2/2 [==============================] - 0s 5ms/step - loss: 24.8094 - mae: 24.8094\n",
      "Epoch 35/100\n",
      "2/2 [==============================] - 0s 5ms/step - loss: 11.9004 - mae: 11.9004\n",
      "Epoch 36/100\n",
      "2/2 [==============================] - 0s 4ms/step - loss: 22.0576 - mae: 22.0576\n",
      "Epoch 37/100\n",
      "2/2 [==============================] - 0s 5ms/step - loss: 17.9061 - mae: 17.9061\n",
      "Epoch 38/100\n",
      "2/2 [==============================] - 0s 5ms/step - loss: 9.9808 - mae: 9.9808\n",
      "Epoch 39/100\n",
      "2/2 [==============================] - 0s 6ms/step - loss: 10.5117 - mae: 10.5117\n",
      "Epoch 40/100\n",
      "2/2 [==============================] - 0s 6ms/step - loss: 15.6188 - mae: 15.6188\n",
      "Epoch 41/100\n",
      "2/2 [==============================] - 0s 5ms/step - loss: 11.8381 - mae: 11.8381\n",
      "Epoch 42/100\n",
      "2/2 [==============================] - 0s 6ms/step - loss: 9.9535 - mae: 9.9535\n",
      "Epoch 43/100\n",
      "2/2 [==============================] - 0s 4ms/step - loss: 9.7957 - mae: 9.7957\n",
      "Epoch 44/100\n",
      "2/2 [==============================] - 0s 4ms/step - loss: 30.6472 - mae: 30.6472\n",
      "Epoch 45/100\n",
      "2/2 [==============================] - 0s 5ms/step - loss: 11.9959 - mae: 11.9959\n",
      "Epoch 46/100\n",
      "2/2 [==============================] - 0s 4ms/step - loss: 16.1676 - mae: 16.1676\n",
      "Epoch 47/100\n",
      "2/2 [==============================] - 0s 6ms/step - loss: 15.0257 - mae: 15.0257\n",
      "Epoch 48/100\n",
      "2/2 [==============================] - 0s 5ms/step - loss: 14.2434 - mae: 14.2434\n",
      "Epoch 49/100\n",
      "2/2 [==============================] - 0s 4ms/step - loss: 13.7932 - mae: 13.7932\n",
      "Epoch 50/100\n",
      "2/2 [==============================] - 0s 6ms/step - loss: 12.6626 - mae: 12.6626\n",
      "Epoch 51/100\n",
      "2/2 [==============================] - 0s 4ms/step - loss: 14.7098 - mae: 14.7098\n",
      "Epoch 52/100\n",
      "2/2 [==============================] - 0s 5ms/step - loss: 18.6181 - mae: 18.6181\n",
      "Epoch 53/100\n",
      "2/2 [==============================] - 0s 8ms/step - loss: 23.9465 - mae: 23.9465\n",
      "Epoch 54/100\n",
      "2/2 [==============================] - 0s 6ms/step - loss: 23.9255 - mae: 23.9255\n",
      "Epoch 55/100\n",
      "2/2 [==============================] - 0s 5ms/step - loss: 23.1422 - mae: 23.1422\n",
      "Epoch 56/100\n",
      "2/2 [==============================] - 0s 5ms/step - loss: 10.8600 - mae: 10.8600\n",
      "Epoch 57/100\n",
      "2/2 [==============================] - 0s 6ms/step - loss: 12.7160 - mae: 12.7160\n",
      "Epoch 58/100\n",
      "2/2 [==============================] - 0s 5ms/step - loss: 9.5811 - mae: 9.5811\n",
      "Epoch 59/100\n",
      "2/2 [==============================] - 0s 5ms/step - loss: 12.4929 - mae: 12.4929\n",
      "Epoch 60/100\n",
      "2/2 [==============================] - 0s 7ms/step - loss: 12.2982 - mae: 12.2982\n",
      "Epoch 61/100\n",
      "2/2 [==============================] - 0s 7ms/step - loss: 17.4290 - mae: 17.4290\n",
      "Epoch 62/100\n",
      "2/2 [==============================] - 0s 7ms/step - loss: 10.5862 - mae: 10.5862\n",
      "Epoch 63/100\n",
      "2/2 [==============================] - 0s 6ms/step - loss: 10.4745 - mae: 10.4745\n",
      "Epoch 64/100\n",
      "2/2 [==============================] - 0s 7ms/step - loss: 24.8113 - mae: 24.8113\n",
      "Epoch 65/100\n",
      "2/2 [==============================] - 0s 6ms/step - loss: 10.6611 - mae: 10.6611\n",
      "Epoch 66/100\n",
      "2/2 [==============================] - 0s 6ms/step - loss: 21.7520 - mae: 21.7520\n",
      "Epoch 67/100\n",
      "2/2 [==============================] - 0s 6ms/step - loss: 10.6970 - mae: 10.6970\n",
      "Epoch 68/100\n",
      "2/2 [==============================] - 0s 6ms/step - loss: 10.6259 - mae: 10.6259\n",
      "Epoch 69/100\n",
      "2/2 [==============================] - 0s 5ms/step - loss: 22.6651 - mae: 22.6651\n",
      "Epoch 70/100\n",
      "2/2 [==============================] - 0s 5ms/step - loss: 9.3326 - mae: 9.3326\n",
      "Epoch 71/100\n",
      "2/2 [==============================] - 0s 6ms/step - loss: 15.4397 - mae: 15.4397\n",
      "Epoch 72/100\n",
      "2/2 [==============================] - 0s 7ms/step - loss: 7.0080 - mae: 7.0080\n",
      "Epoch 73/100\n",
      "2/2 [==============================] - 0s 5ms/step - loss: 12.2047 - mae: 12.2047\n",
      "Epoch 74/100\n",
      "2/2 [==============================] - 0s 4ms/step - loss: 17.3415 - mae: 17.3415\n",
      "Epoch 75/100\n",
      "2/2 [==============================] - 0s 5ms/step - loss: 7.2065 - mae: 7.2065\n",
      "Epoch 76/100\n",
      "2/2 [==============================] - 0s 5ms/step - loss: 9.4489 - mae: 9.4489\n",
      "Epoch 77/100\n",
      "2/2 [==============================] - 0s 6ms/step - loss: 22.1683 - mae: 22.1683\n",
      "Epoch 78/100\n",
      "2/2 [==============================] - 0s 7ms/step - loss: 17.4868 - mae: 17.4868\n",
      "Epoch 79/100\n",
      "2/2 [==============================] - 0s 4ms/step - loss: 14.7139 - mae: 14.7139\n",
      "Epoch 80/100\n",
      "2/2 [==============================] - 0s 6ms/step - loss: 24.9016 - mae: 24.9016\n",
      "Epoch 81/100\n",
      "2/2 [==============================] - 0s 6ms/step - loss: 10.7832 - mae: 10.7832\n",
      "Epoch 82/100\n",
      "2/2 [==============================] - 0s 6ms/step - loss: 12.8135 - mae: 12.8135\n",
      "Epoch 83/100\n",
      "2/2 [==============================] - 0s 5ms/step - loss: 17.6053 - mae: 17.6053\n",
      "Epoch 84/100\n",
      "2/2 [==============================] - 0s 4ms/step - loss: 7.2837 - mae: 7.2837\n",
      "Epoch 85/100\n",
      "2/2 [==============================] - 0s 6ms/step - loss: 15.0985 - mae: 15.0985\n",
      "Epoch 86/100\n",
      "2/2 [==============================] - 0s 5ms/step - loss: 15.3907 - mae: 15.3907\n",
      "Epoch 87/100\n"
     ]
    },
    {
     "name": "stdout",
     "output_type": "stream",
     "text": [
      "2/2 [==============================] - 0s 5ms/step - loss: 19.3247 - mae: 19.3247\n",
      "Epoch 88/100\n",
      "2/2 [==============================] - 0s 5ms/step - loss: 29.2524 - mae: 29.2524\n",
      "Epoch 89/100\n",
      "2/2 [==============================] - 0s 4ms/step - loss: 10.0771 - mae: 10.0771\n",
      "Epoch 90/100\n",
      "2/2 [==============================] - 0s 6ms/step - loss: 21.0636 - mae: 21.0636\n",
      "Epoch 91/100\n",
      "2/2 [==============================] - 0s 5ms/step - loss: 10.4486 - mae: 10.4486\n",
      "Epoch 92/100\n",
      "2/2 [==============================] - 0s 4ms/step - loss: 17.9891 - mae: 17.9891\n",
      "Epoch 93/100\n",
      "2/2 [==============================] - 0s 5ms/step - loss: 6.5352 - mae: 6.5352\n",
      "Epoch 94/100\n",
      "2/2 [==============================] - 0s 4ms/step - loss: 11.1106 - mae: 11.1106\n",
      "Epoch 95/100\n",
      "2/2 [==============================] - 0s 5ms/step - loss: 24.4073 - mae: 24.4073\n",
      "Epoch 96/100\n",
      "2/2 [==============================] - 0s 4ms/step - loss: 10.7177 - mae: 10.7177\n",
      "Epoch 97/100\n",
      "2/2 [==============================] - 0s 5ms/step - loss: 15.3788 - mae: 15.3788\n",
      "Epoch 98/100\n",
      "2/2 [==============================] - 0s 4ms/step - loss: 8.2337 - mae: 8.2337\n",
      "Epoch 99/100\n",
      "2/2 [==============================] - 0s 4ms/step - loss: 16.5638 - mae: 16.5638\n",
      "Epoch 100/100\n",
      "2/2 [==============================] - 0s 5ms/step - loss: 14.3257 - mae: 14.3257\n"
     ]
    },
    {
     "data": {
      "text/plain": [
       "<keras.src.callbacks.History at 0x24676e2cca0>"
      ]
     },
     "execution_count": 17,
     "metadata": {},
     "output_type": "execute_result"
    }
   ],
   "source": [
    "# improve the model, add another model\n",
    "\n",
    "# 1. build the model\n",
    "model_2 = tf.keras.Sequential([\n",
    "    tf.keras.layers.Dense(10, input_shape=[1]),\n",
    "    tf.keras.layers.Dense(1)\n",
    "])\n",
    "\n",
    "# 2. compile model\n",
    "model_2.compile(loss=tf.keras.losses.mae, \n",
    "                optimizer=tf.keras.optimizers.SGD(),\n",
    "                metrics=['mae']\n",
    "               )\n",
    "\n",
    "# 3. fit model\n",
    "model_2.fit(X_train, y_train, epochs=100)"
   ]
  },
  {
   "cell_type": "code",
   "execution_count": 18,
   "id": "1a2dd7be",
   "metadata": {},
   "outputs": [
    {
     "name": "stdout",
     "output_type": "stream",
     "text": [
      "1/1 [==============================] - 0s 54ms/step\n"
     ]
    },
    {
     "data": {
      "text/plain": [
       "array([[ 76.5822  ],\n",
       "       [ 81.56985 ],\n",
       "       [ 86.5575  ],\n",
       "       [ 91.54515 ],\n",
       "       [ 96.5328  ],\n",
       "       [101.52045 ],\n",
       "       [106.508095],\n",
       "       [111.49574 ],\n",
       "       [116.4834  ],\n",
       "       [121.47104 ]], dtype=float32)"
      ]
     },
     "execution_count": 18,
     "metadata": {},
     "output_type": "execute_result"
    }
   ],
   "source": [
    "y_pred_2= model_2.predict(X_test)\n",
    "y_pred_2"
   ]
  },
  {
   "cell_type": "code",
   "execution_count": 19,
   "id": "d285869b",
   "metadata": {},
   "outputs": [
    {
     "data": {
      "text/plain": [
       "<tf.Tensor: shape=(10,), dtype=int32, numpy=array([ 70,  74,  78,  82,  86,  90,  94,  98, 102, 106])>"
      ]
     },
     "execution_count": 19,
     "metadata": {},
     "output_type": "execute_result"
    }
   ],
   "source": [
    "y_test"
   ]
  },
  {
   "cell_type": "code",
   "execution_count": 41,
   "id": "c7b43e7d",
   "metadata": {},
   "outputs": [
    {
     "data": {
      "image/png": "[encoded data removed]",
      "text/plain": [
       "<Figure size 1000x700 with 1 Axes>"
      ]
     },
     "metadata": {},
     "output_type": "display_data"
    }
   ],
   "source": [
    "# Visualize the prediction\n",
    "# visualize using a plotting function\n",
    "def plot_predictions(train_data=X_train, train_labels=y_train, test_data=X_test, test_labels=y_test, predictions=y_pred_2):\n",
    "    \"\"\"\n",
    "    plot training data, test data and compares predictions to ground truth\n",
    "    \"\"\"\n",
    "    plt.figure(figsize=(10,7))\n",
    "    # plot training data in blue\n",
    "    plt.scatter(train_data, train_labels, c=\"b\", label=\"Training data\")\n",
    "    # plot testing data in green\n",
    "    plt.scatter(test_data, test_labels, c=\"g\", label=\"Testing data\")\n",
    "    # plot model prediction\n",
    "    plt.scatter(test_data, predictions, c=\"r\", label=\"Prediction\")\n",
    "    # show legend\n",
    "    plt.legend();\n",
    "    \n",
    "plot_predictions()"
   ]
  },
  {
   "cell_type": "code",
   "execution_count": 22,
   "id": "0327b801",
   "metadata": {},
   "outputs": [
    {
     "name": "stdout",
     "output_type": "stream",
     "text": [
      "1/1 [==============================] - 0s 24ms/step\n"
     ]
    },
    {
     "data": {
      "text/plain": [
       "<tf.Tensor: shape=(10,), dtype=float32, numpy=\n",
       "array([ 76.5822  ,  81.56985 ,  86.5575  ,  91.54515 ,  96.5328  ,\n",
       "       101.52045 , 106.508095, 111.49574 , 116.4834  , 121.47104 ],\n",
       "      dtype=float32)>"
      ]
     },
     "execution_count": 22,
     "metadata": {},
     "output_type": "execute_result"
    }
   ],
   "source": [
    "y_pred_2 = model_2.predict(X_test)\n",
    "y_pred_2 = tf.squeeze(tf.constant(y_pred_2))\n",
    "y_pred_2"
   ]
  },
  {
   "cell_type": "code",
   "execution_count": 23,
   "id": "3a3603c9",
   "metadata": {},
   "outputs": [
    {
     "data": {
      "text/plain": [
       "<tf.Tensor: shape=(), dtype=float32, numpy=11.026622>"
      ]
     },
     "execution_count": 23,
     "metadata": {},
     "output_type": "execute_result"
    }
   ],
   "source": [
    "mae_2 = tf.keras.losses.mae(y_test, y_pred_2)\n",
    "mae_2"
   ]
  },
  {
   "cell_type": "code",
   "execution_count": 50,
   "id": "e6ed38f7",
   "metadata": {},
   "outputs": [
    {
     "data": {
      "text/plain": [
       "<tf.Tensor: shape=(), dtype=float32, numpy=129.63387>"
      ]
     },
     "execution_count": 50,
     "metadata": {},
     "output_type": "execute_result"
    }
   ],
   "source": [
    "mse_2 = tf.keras.losses.mse(y_test, y_pred_2)\n",
    "mse_2"
   ]
  },
  {
   "cell_type": "markdown",
   "id": "293f33dd",
   "metadata": {},
   "source": [
    "<div id=\"model_3\"></div>\n",
    "\n",
    "## Model 3"
   ]
  },
  {
   "cell_type": "code",
   "execution_count": 24,
   "id": "323fadcf",
   "metadata": {},
   "outputs": [
    {
     "name": "stdout",
     "output_type": "stream",
     "text": [
      "Epoch 1/100\n",
      "2/2 [==============================] - 0s 7ms/step - loss: 32.0816 - mae: 32.0816\n",
      "Epoch 2/100\n",
      "2/2 [==============================] - 0s 6ms/step - loss: 25.6920 - mae: 25.6920\n",
      "Epoch 3/100\n",
      "2/2 [==============================] - 0s 6ms/step - loss: 19.5958 - mae: 19.5958\n",
      "Epoch 4/100\n",
      "2/2 [==============================] - 0s 6ms/step - loss: 13.6257 - mae: 13.6257\n",
      "Epoch 5/100\n",
      "2/2 [==============================] - 0s 5ms/step - loss: 8.8140 - mae: 8.8140\n",
      "Epoch 6/100\n",
      "2/2 [==============================] - 0s 4ms/step - loss: 9.2227 - mae: 9.2227\n",
      "Epoch 7/100\n",
      "2/2 [==============================] - 0s 5ms/step - loss: 11.0800 - mae: 11.0800\n",
      "Epoch 8/100\n",
      "2/2 [==============================] - 0s 5ms/step - loss: 11.9354 - mae: 11.9354\n",
      "Epoch 9/100\n",
      "2/2 [==============================] - 0s 4ms/step - loss: 11.7875 - mae: 11.7875\n",
      "Epoch 10/100\n",
      "2/2 [==============================] - 0s 5ms/step - loss: 11.0788 - mae: 11.0788\n",
      "Epoch 11/100\n",
      "2/2 [==============================] - 0s 5ms/step - loss: 9.9135 - mae: 9.9135\n",
      "Epoch 12/100\n",
      "2/2 [==============================] - 0s 4ms/step - loss: 8.7120 - mae: 8.7120\n",
      "Epoch 13/100\n",
      "2/2 [==============================] - 0s 6ms/step - loss: 7.3852 - mae: 7.3852\n",
      "Epoch 14/100\n",
      "2/2 [==============================] - 0s 4ms/step - loss: 7.7257 - mae: 7.7257\n",
      "Epoch 15/100\n",
      "2/2 [==============================] - 0s 5ms/step - loss: 7.9750 - mae: 7.9750\n",
      "Epoch 16/100\n",
      "2/2 [==============================] - 0s 6ms/step - loss: 7.6469 - mae: 7.6469\n",
      "Epoch 17/100\n",
      "2/2 [==============================] - 0s 5ms/step - loss: 6.9945 - mae: 6.9945\n",
      "Epoch 18/100\n",
      "2/2 [==============================] - 0s 4ms/step - loss: 7.1037 - mae: 7.1037\n",
      "Epoch 19/100\n",
      "2/2 [==============================] - 0s 4ms/step - loss: 7.2286 - mae: 7.2286\n",
      "Epoch 20/100\n",
      "2/2 [==============================] - 0s 5ms/step - loss: 6.8165 - mae: 6.8165\n",
      "Epoch 21/100\n",
      "2/2 [==============================] - 0s 5ms/step - loss: 6.7760 - mae: 6.7760\n",
      "Epoch 22/100\n",
      "2/2 [==============================] - 0s 4ms/step - loss: 6.9173 - mae: 6.9173\n",
      "Epoch 23/100\n",
      "2/2 [==============================] - 0s 4ms/step - loss: 6.7745 - mae: 6.7745\n",
      "Epoch 24/100\n",
      "2/2 [==============================] - 0s 4ms/step - loss: 6.4473 - mae: 6.4473\n",
      "Epoch 25/100\n",
      "2/2 [==============================] - 0s 13ms/step - loss: 6.5580 - mae: 6.5580\n",
      "Epoch 26/100\n",
      "2/2 [==============================] - 0s 5ms/step - loss: 6.5009 - mae: 6.5009\n",
      "Epoch 27/100\n",
      "2/2 [==============================] - 0s 5ms/step - loss: 6.2715 - mae: 6.2715\n",
      "Epoch 28/100\n",
      "2/2 [==============================] - 0s 4ms/step - loss: 6.4080 - mae: 6.4080\n",
      "Epoch 29/100\n",
      "2/2 [==============================] - 0s 5ms/step - loss: 6.4699 - mae: 6.4699\n",
      "Epoch 30/100\n",
      "2/2 [==============================] - 0s 6ms/step - loss: 6.2212 - mae: 6.2212\n",
      "Epoch 31/100\n",
      "2/2 [==============================] - 0s 4ms/step - loss: 6.0469 - mae: 6.0469\n",
      "Epoch 32/100\n",
      "2/2 [==============================] - 0s 5ms/step - loss: 6.1399 - mae: 6.1399\n",
      "Epoch 33/100\n",
      "2/2 [==============================] - 0s 5ms/step - loss: 5.8890 - mae: 5.8890\n",
      "Epoch 34/100\n",
      "2/2 [==============================] - 0s 5ms/step - loss: 5.7848 - mae: 5.7848\n",
      "Epoch 35/100\n",
      "2/2 [==============================] - 0s 4ms/step - loss: 5.9131 - mae: 5.9131\n",
      "Epoch 36/100\n",
      "2/2 [==============================] - 0s 4ms/step - loss: 5.9266 - mae: 5.9266\n",
      "Epoch 37/100\n",
      "2/2 [==============================] - 0s 7ms/step - loss: 5.7153 - mae: 5.7153\n",
      "Epoch 38/100\n",
      "2/2 [==============================] - 0s 8ms/step - loss: 5.4863 - mae: 5.4863\n",
      "Epoch 39/100\n",
      "2/2 [==============================] - 0s 8ms/step - loss: 5.4340 - mae: 5.4340\n",
      "Epoch 40/100\n",
      "2/2 [==============================] - 0s 8ms/step - loss: 5.3418 - mae: 5.3418\n",
      "Epoch 41/100\n",
      "2/2 [==============================] - 0s 7ms/step - loss: 5.2458 - mae: 5.2458\n",
      "Epoch 42/100\n",
      "2/2 [==============================] - 0s 6ms/step - loss: 5.1679 - mae: 5.1679\n",
      "Epoch 43/100\n",
      "2/2 [==============================] - 0s 5ms/step - loss: 5.0864 - mae: 5.0864\n",
      "Epoch 44/100\n",
      "2/2 [==============================] - 0s 7ms/step - loss: 5.0243 - mae: 5.0243\n",
      "Epoch 45/100\n",
      "2/2 [==============================] - 0s 7ms/step - loss: 4.9064 - mae: 4.9064\n",
      "Epoch 46/100\n",
      "2/2 [==============================] - 0s 5ms/step - loss: 4.9222 - mae: 4.9222\n",
      "Epoch 47/100\n",
      "2/2 [==============================] - 0s 5ms/step - loss: 4.8424 - mae: 4.8424\n",
      "Epoch 48/100\n",
      "2/2 [==============================] - 0s 6ms/step - loss: 4.7022 - mae: 4.7022\n",
      "Epoch 49/100\n",
      "2/2 [==============================] - 0s 7ms/step - loss: 4.6148 - mae: 4.6148\n",
      "Epoch 50/100\n",
      "2/2 [==============================] - 0s 7ms/step - loss: 4.4859 - mae: 4.4859\n",
      "Epoch 51/100\n",
      "2/2 [==============================] - 0s 6ms/step - loss: 4.5060 - mae: 4.5060\n",
      "Epoch 52/100\n",
      "2/2 [==============================] - 0s 6ms/step - loss: 4.3999 - mae: 4.3999\n",
      "Epoch 53/100\n",
      "2/2 [==============================] - 0s 5ms/step - loss: 4.2185 - mae: 4.2185\n",
      "Epoch 54/100\n",
      "2/2 [==============================] - 0s 7ms/step - loss: 4.2141 - mae: 4.2141\n",
      "Epoch 55/100\n",
      "2/2 [==============================] - 0s 6ms/step - loss: 4.0991 - mae: 4.0991\n",
      "Epoch 56/100\n",
      "2/2 [==============================] - 0s 5ms/step - loss: 4.0002 - mae: 4.0002\n",
      "Epoch 57/100\n",
      "2/2 [==============================] - 0s 6ms/step - loss: 4.1401 - mae: 4.1401\n",
      "Epoch 58/100\n",
      "2/2 [==============================] - 0s 6ms/step - loss: 3.7679 - mae: 3.7679\n",
      "Epoch 59/100\n",
      "2/2 [==============================] - 0s 6ms/step - loss: 3.6987 - mae: 3.6987\n",
      "Epoch 60/100\n",
      "2/2 [==============================] - 0s 5ms/step - loss: 3.5960 - mae: 3.5960\n",
      "Epoch 61/100\n",
      "2/2 [==============================] - 0s 5ms/step - loss: 3.4557 - mae: 3.4557\n",
      "Epoch 62/100\n",
      "2/2 [==============================] - 0s 5ms/step - loss: 3.4059 - mae: 3.4059\n",
      "Epoch 63/100\n",
      "2/2 [==============================] - 0s 4ms/step - loss: 3.2812 - mae: 3.2812\n",
      "Epoch 64/100\n",
      "2/2 [==============================] - 0s 6ms/step - loss: 3.1999 - mae: 3.1999\n",
      "Epoch 65/100\n",
      "2/2 [==============================] - 0s 5ms/step - loss: 3.1293 - mae: 3.1293\n",
      "Epoch 66/100\n",
      "2/2 [==============================] - 0s 6ms/step - loss: 2.9190 - mae: 2.9190\n",
      "Epoch 67/100\n",
      "2/2 [==============================] - 0s 6ms/step - loss: 3.0492 - mae: 3.0492\n",
      "Epoch 68/100\n",
      "2/2 [==============================] - 0s 5ms/step - loss: 2.7814 - mae: 2.7814\n",
      "Epoch 69/100\n",
      "2/2 [==============================] - 0s 4ms/step - loss: 2.8271 - mae: 2.8271\n",
      "Epoch 70/100\n",
      "2/2 [==============================] - 0s 7ms/step - loss: 2.9303 - mae: 2.9303\n",
      "Epoch 71/100\n",
      "2/2 [==============================] - 0s 6ms/step - loss: 2.4090 - mae: 2.4090\n",
      "Epoch 72/100\n",
      "2/2 [==============================] - 0s 5ms/step - loss: 2.5566 - mae: 2.5566\n",
      "Epoch 73/100\n",
      "2/2 [==============================] - 0s 6ms/step - loss: 1.9790 - mae: 1.9790\n",
      "Epoch 74/100\n",
      "2/2 [==============================] - 0s 5ms/step - loss: 2.1187 - mae: 2.1187\n",
      "Epoch 75/100\n",
      "2/2 [==============================] - 0s 6ms/step - loss: 1.7495 - mae: 1.7495\n",
      "Epoch 76/100\n",
      "2/2 [==============================] - 0s 5ms/step - loss: 1.7552 - mae: 1.7552\n",
      "Epoch 77/100\n",
      "2/2 [==============================] - 0s 6ms/step - loss: 1.6282 - mae: 1.6282\n",
      "Epoch 78/100\n",
      "2/2 [==============================] - 0s 5ms/step - loss: 1.6965 - mae: 1.6965\n",
      "Epoch 79/100\n",
      "2/2 [==============================] - 0s 4ms/step - loss: 1.2467 - mae: 1.2467\n",
      "Epoch 80/100\n",
      "2/2 [==============================] - 0s 5ms/step - loss: 1.0888 - mae: 1.0888\n",
      "Epoch 81/100\n",
      "2/2 [==============================] - 0s 5ms/step - loss: 1.3130 - mae: 1.3130\n",
      "Epoch 82/100\n",
      "2/2 [==============================] - 0s 4ms/step - loss: 1.2841 - mae: 1.2841\n",
      "Epoch 83/100\n",
      "2/2 [==============================] - 0s 5ms/step - loss: 0.4310 - mae: 0.4310\n",
      "Epoch 84/100\n",
      "2/2 [==============================] - 0s 5ms/step - loss: 0.5359 - mae: 0.5359\n",
      "Epoch 85/100\n",
      "2/2 [==============================] - 0s 4ms/step - loss: 0.2539 - mae: 0.2539\n",
      "Epoch 86/100\n",
      "2/2 [==============================] - 0s 5ms/step - loss: 0.1599 - mae: 0.1599\n",
      "Epoch 87/100\n",
      "2/2 [==============================] - 0s 5ms/step - loss: 0.2054 - mae: 0.2054\n",
      "Epoch 88/100\n",
      "2/2 [==============================] - 0s 5ms/step - loss: 0.3911 - mae: 0.3911\n",
      "Epoch 89/100\n"
     ]
    },
    {
     "name": "stdout",
     "output_type": "stream",
     "text": [
      "2/2 [==============================] - 0s 5ms/step - loss: 0.3060 - mae: 0.3060\n",
      "Epoch 90/100\n",
      "2/2 [==============================] - 0s 5ms/step - loss: 0.2525 - mae: 0.2525\n",
      "Epoch 91/100\n",
      "2/2 [==============================] - 0s 4ms/step - loss: 0.2170 - mae: 0.2170\n",
      "Epoch 92/100\n",
      "2/2 [==============================] - 0s 7ms/step - loss: 0.2262 - mae: 0.2262\n",
      "Epoch 93/100\n",
      "2/2 [==============================] - 0s 5ms/step - loss: 0.4588 - mae: 0.4588\n",
      "Epoch 94/100\n",
      "2/2 [==============================] - 0s 5ms/step - loss: 0.3356 - mae: 0.3356\n",
      "Epoch 95/100\n",
      "2/2 [==============================] - 0s 4ms/step - loss: 0.2818 - mae: 0.2818\n",
      "Epoch 96/100\n",
      "2/2 [==============================] - 0s 4ms/step - loss: 0.2169 - mae: 0.2169\n",
      "Epoch 97/100\n",
      "2/2 [==============================] - 0s 5ms/step - loss: 0.2985 - mae: 0.2985\n",
      "Epoch 98/100\n",
      "2/2 [==============================] - 0s 4ms/step - loss: 0.4402 - mae: 0.4402\n",
      "Epoch 99/100\n",
      "2/2 [==============================] - 0s 5ms/step - loss: 0.5221 - mae: 0.5221\n",
      "Epoch 100/100\n",
      "2/2 [==============================] - 0s 5ms/step - loss: 0.8487 - mae: 0.8487\n"
     ]
    },
    {
     "data": {
      "text/plain": [
       "<keras.src.callbacks.History at 0x246783e2880>"
      ]
     },
     "execution_count": 24,
     "metadata": {},
     "output_type": "execute_result"
    }
   ],
   "source": [
    "# improve the model, add another model\n",
    "tf.random.set_seed(42)\n",
    "\n",
    "# 1. build the model\n",
    "model_3 = tf.keras.Sequential([\n",
    "    tf.keras.layers.Dense(10, input_shape=[1]),\n",
    "    tf.keras.layers.Dense(1)\n",
    "])\n",
    "\n",
    "# 2. compile model\n",
    "model_3.compile(loss=tf.keras.losses.mae, \n",
    "                optimizer=tf.keras.optimizers.Adam(learning_rate=0.01),\n",
    "                metrics=['mae']\n",
    "               )\n",
    "\n",
    "# 3. fit model\n",
    "model_3.fit(X_train, y_train, epochs=100)"
   ]
  },
  {
   "cell_type": "code",
   "execution_count": 25,
   "id": "d7fd63b4",
   "metadata": {},
   "outputs": [
    {
     "name": "stdout",
     "output_type": "stream",
     "text": [
      "1/1 [==============================] - 0s 55ms/step\n"
     ]
    },
    {
     "data": {
      "text/plain": [
       "array([[ 69.17097 ],\n",
       "       [ 73.11818 ],\n",
       "       [ 77.06541 ],\n",
       "       [ 81.01263 ],\n",
       "       [ 84.95984 ],\n",
       "       [ 88.90704 ],\n",
       "       [ 92.85426 ],\n",
       "       [ 96.801476],\n",
       "       [100.74869 ],\n",
       "       [104.695915]], dtype=float32)"
      ]
     },
     "execution_count": 25,
     "metadata": {},
     "output_type": "execute_result"
    }
   ],
   "source": [
    "y_pred_3 = model_3.predict(X_test)\n",
    "y_pred_3"
   ]
  },
  {
   "cell_type": "code",
   "execution_count": 26,
   "id": "04f0ac04",
   "metadata": {},
   "outputs": [
    {
     "data": {
      "text/plain": [
       "<tf.Tensor: shape=(10,), dtype=int32, numpy=array([ 70,  74,  78,  82,  86,  90,  94,  98, 102, 106])>"
      ]
     },
     "execution_count": 26,
     "metadata": {},
     "output_type": "execute_result"
    }
   ],
   "source": [
    "y_test"
   ]
  },
  {
   "cell_type": "code",
   "execution_count": 40,
   "id": "9c433341",
   "metadata": {},
   "outputs": [
    {
     "data": {
      "image/png": "[encoded data removed]",
      "text/plain": [
       "<Figure size 1000x700 with 1 Axes>"
      ]
     },
     "metadata": {},
     "output_type": "display_data"
    }
   ],
   "source": [
    "# Visualize the prediction\n",
    "# visualize using a plotting function\n",
    "def plot_predictions(train_data=X_train, train_labels=y_train, test_data=X_test, test_labels=y_test, predictions=y_pred_3):\n",
    "    \"\"\"\n",
    "    plot training data, test data and compares predictions to ground truth\n",
    "    \"\"\"\n",
    "    plt.figure(figsize=(10,7))\n",
    "    # plot training data in blue\n",
    "    plt.scatter(train_data, train_labels, c=\"b\", label=\"Training data\")\n",
    "    # plot testing data in green\n",
    "    plt.scatter(test_data, test_labels, c=\"g\", label=\"Testing data\")\n",
    "    # plot model prediction\n",
    "    plt.scatter(test_data, predictions, c=\"r\", label=\"Prediction\")\n",
    "    # show legend\n",
    "    plt.legend();\n",
    "    \n",
    "plot_predictions()"
   ]
  },
  {
   "cell_type": "code",
   "execution_count": 28,
   "id": "2eb6698b",
   "metadata": {},
   "outputs": [
    {
     "name": "stdout",
     "output_type": "stream",
     "text": [
      "1/1 [==============================] - 0s 23ms/step\n"
     ]
    },
    {
     "data": {
      "text/plain": [
       "<tf.Tensor: shape=(10,), dtype=float32, numpy=\n",
       "array([ 69.17097 ,  73.11818 ,  77.06541 ,  81.01263 ,  84.95984 ,\n",
       "        88.90704 ,  92.85426 ,  96.801476, 100.74869 , 104.695915],\n",
       "      dtype=float32)>"
      ]
     },
     "execution_count": 28,
     "metadata": {},
     "output_type": "execute_result"
    }
   ],
   "source": [
    "y_pred_3 = model_3.predict(X_test)\n",
    "y_pred_3 = tf.squeeze(tf.constant(y_pred_3))\n",
    "y_pred_3"
   ]
  },
  {
   "cell_type": "code",
   "execution_count": 29,
   "id": "f849e4f8",
   "metadata": {},
   "outputs": [
    {
     "data": {
      "text/plain": [
       "<tf.Tensor: shape=(), dtype=float32, numpy=1.0665596>"
      ]
     },
     "execution_count": 29,
     "metadata": {},
     "output_type": "execute_result"
    }
   ],
   "source": [
    "mae_3 = tf.keras.losses.mae(y_test, y_pred_3)\n",
    "mae_3"
   ]
  },
  {
   "cell_type": "code",
   "execution_count": 49,
   "id": "0f258906",
   "metadata": {},
   "outputs": [
    {
     "data": {
      "text/plain": [
       "<tf.Tensor: shape=(), dtype=float32, numpy=1.1605356>"
      ]
     },
     "execution_count": 49,
     "metadata": {},
     "output_type": "execute_result"
    }
   ],
   "source": [
    "mse_3 = tf.keras.losses.mse(y_test, y_pred_3)\n",
    "mse_3"
   ]
  },
  {
   "cell_type": "markdown",
   "id": "529b1c70",
   "metadata": {},
   "source": [
    "<div id=\"model_4\"></div>\n",
    "\n",
    "## Model 4"
   ]
  },
  {
   "cell_type": "code",
   "execution_count": 36,
   "id": "ecc0fc6e",
   "metadata": {},
   "outputs": [
    {
     "name": "stdout",
     "output_type": "stream",
     "text": [
      "Epoch 1/100\n",
      "2/2 [==============================] - 1s 10ms/step - loss: 29.3287 - mae: 29.3287\n",
      "Epoch 2/100\n",
      "2/2 [==============================] - 0s 5ms/step - loss: 20.6124 - mae: 20.6124\n",
      "Epoch 3/100\n",
      "2/2 [==============================] - 0s 6ms/step - loss: 12.6122 - mae: 12.6122\n",
      "Epoch 4/100\n",
      "2/2 [==============================] - 0s 5ms/step - loss: 7.7517 - mae: 7.7517\n",
      "Epoch 5/100\n",
      "2/2 [==============================] - 0s 6ms/step - loss: 11.0089 - mae: 11.0089\n",
      "Epoch 6/100\n",
      "2/2 [==============================] - 0s 6ms/step - loss: 13.1044 - mae: 13.1044\n",
      "Epoch 7/100\n",
      "2/2 [==============================] - 0s 9ms/step - loss: 13.7117 - mae: 13.7117\n",
      "Epoch 8/100\n",
      "2/2 [==============================] - 0s 4ms/step - loss: 13.1240 - mae: 13.1240\n",
      "Epoch 9/100\n",
      "2/2 [==============================] - 0s 5ms/step - loss: 11.9640 - mae: 11.9640\n",
      "Epoch 10/100\n",
      "2/2 [==============================] - 0s 6ms/step - loss: 10.0904 - mae: 10.0904\n",
      "Epoch 11/100\n",
      "2/2 [==============================] - 0s 5ms/step - loss: 7.7234 - mae: 7.7234\n",
      "Epoch 12/100\n",
      "2/2 [==============================] - 0s 6ms/step - loss: 7.7190 - mae: 7.7190\n",
      "Epoch 13/100\n",
      "2/2 [==============================] - 0s 5ms/step - loss: 8.6424 - mae: 8.6424\n",
      "Epoch 14/100\n",
      "2/2 [==============================] - 0s 5ms/step - loss: 8.0691 - mae: 8.0691\n",
      "Epoch 15/100\n",
      "2/2 [==============================] - 0s 5ms/step - loss: 6.9824 - mae: 6.9824\n",
      "Epoch 16/100\n",
      "2/2 [==============================] - 0s 6ms/step - loss: 7.6869 - mae: 7.6869\n",
      "Epoch 17/100\n",
      "2/2 [==============================] - 0s 6ms/step - loss: 8.2068 - mae: 8.2068\n",
      "Epoch 18/100\n",
      "2/2 [==============================] - 0s 5ms/step - loss: 8.1290 - mae: 8.1290\n",
      "Epoch 19/100\n",
      "2/2 [==============================] - 0s 5ms/step - loss: 7.4132 - mae: 7.4132\n",
      "Epoch 20/100\n",
      "2/2 [==============================] - 0s 6ms/step - loss: 6.6099 - mae: 6.6099\n",
      "Epoch 21/100\n",
      "2/2 [==============================] - 0s 6ms/step - loss: 7.2200 - mae: 7.2200\n",
      "Epoch 22/100\n",
      "2/2 [==============================] - 0s 5ms/step - loss: 7.2956 - mae: 7.2956\n",
      "Epoch 23/100\n",
      "2/2 [==============================] - 0s 4ms/step - loss: 6.7143 - mae: 6.7143\n",
      "Epoch 24/100\n",
      "2/2 [==============================] - 0s 5ms/step - loss: 6.2682 - mae: 6.2682\n",
      "Epoch 25/100\n",
      "2/2 [==============================] - 0s 5ms/step - loss: 6.5476 - mae: 6.5476\n",
      "Epoch 26/100\n",
      "2/2 [==============================] - 0s 6ms/step - loss: 6.1561 - mae: 6.1561\n",
      "Epoch 27/100\n",
      "2/2 [==============================] - 0s 5ms/step - loss: 6.1248 - mae: 6.1248\n",
      "Epoch 28/100\n",
      "2/2 [==============================] - 0s 6ms/step - loss: 6.3016 - mae: 6.3016\n",
      "Epoch 29/100\n",
      "2/2 [==============================] - 0s 6ms/step - loss: 6.1309 - mae: 6.1309\n",
      "Epoch 30/100\n",
      "2/2 [==============================] - 0s 5ms/step - loss: 5.7558 - mae: 5.7558\n",
      "Epoch 31/100\n",
      "2/2 [==============================] - 0s 5ms/step - loss: 5.7027 - mae: 5.7027\n",
      "Epoch 32/100\n",
      "2/2 [==============================] - 0s 5ms/step - loss: 5.5779 - mae: 5.5779\n",
      "Epoch 33/100\n",
      "2/2 [==============================] - 0s 5ms/step - loss: 5.5583 - mae: 5.5583\n",
      "Epoch 34/100\n",
      "2/2 [==============================] - 0s 5ms/step - loss: 5.5490 - mae: 5.5490\n",
      "Epoch 35/100\n",
      "2/2 [==============================] - 0s 5ms/step - loss: 5.3996 - mae: 5.3996\n",
      "Epoch 36/100\n",
      "2/2 [==============================] - 0s 5ms/step - loss: 5.2855 - mae: 5.2855\n",
      "Epoch 37/100\n",
      "2/2 [==============================] - 0s 5ms/step - loss: 5.2351 - mae: 5.2351\n",
      "Epoch 38/100\n",
      "2/2 [==============================] - 0s 5ms/step - loss: 5.0677 - mae: 5.0677\n",
      "Epoch 39/100\n",
      "2/2 [==============================] - 0s 5ms/step - loss: 4.9182 - mae: 4.9182\n",
      "Epoch 40/100\n",
      "2/2 [==============================] - 0s 5ms/step - loss: 4.8306 - mae: 4.8306\n",
      "Epoch 41/100\n",
      "2/2 [==============================] - 0s 5ms/step - loss: 4.6755 - mae: 4.6755\n",
      "Epoch 42/100\n",
      "2/2 [==============================] - 0s 5ms/step - loss: 4.6006 - mae: 4.6006\n",
      "Epoch 43/100\n",
      "2/2 [==============================] - 0s 6ms/step - loss: 4.4606 - mae: 4.4606\n",
      "Epoch 44/100\n",
      "2/2 [==============================] - 0s 5ms/step - loss: 4.3543 - mae: 4.3543\n",
      "Epoch 45/100\n",
      "2/2 [==============================] - 0s 5ms/step - loss: 4.1619 - mae: 4.1619\n",
      "Epoch 46/100\n",
      "2/2 [==============================] - 0s 4ms/step - loss: 4.2476 - mae: 4.2476\n",
      "Epoch 47/100\n",
      "2/2 [==============================] - 0s 6ms/step - loss: 4.1554 - mae: 4.1554\n",
      "Epoch 48/100\n",
      "2/2 [==============================] - 0s 6ms/step - loss: 3.7946 - mae: 3.7946\n",
      "Epoch 49/100\n",
      "2/2 [==============================] - 0s 6ms/step - loss: 3.8454 - mae: 3.8454\n",
      "Epoch 50/100\n",
      "2/2 [==============================] - 0s 4ms/step - loss: 3.4653 - mae: 3.4653\n",
      "Epoch 51/100\n",
      "2/2 [==============================] - 0s 6ms/step - loss: 3.7804 - mae: 3.7804\n",
      "Epoch 52/100\n",
      "2/2 [==============================] - 0s 4ms/step - loss: 3.4119 - mae: 3.4119\n",
      "Epoch 53/100\n",
      "2/2 [==============================] - 0s 4ms/step - loss: 3.5549 - mae: 3.5549\n",
      "Epoch 54/100\n",
      "2/2 [==============================] - 0s 5ms/step - loss: 2.9470 - mae: 2.9470\n",
      "Epoch 55/100\n",
      "2/2 [==============================] - 0s 6ms/step - loss: 3.1379 - mae: 3.1379\n",
      "Epoch 56/100\n",
      "2/2 [==============================] - 0s 5ms/step - loss: 2.4986 - mae: 2.4986\n",
      "Epoch 57/100\n",
      "2/2 [==============================] - 0s 6ms/step - loss: 2.6148 - mae: 2.6148\n",
      "Epoch 58/100\n",
      "2/2 [==============================] - 0s 7ms/step - loss: 2.1556 - mae: 2.1556\n",
      "Epoch 59/100\n",
      "2/2 [==============================] - 0s 5ms/step - loss: 2.0646 - mae: 2.0646\n",
      "Epoch 60/100\n",
      "2/2 [==============================] - 0s 5ms/step - loss: 1.9005 - mae: 1.9005\n",
      "Epoch 61/100\n",
      "2/2 [==============================] - 0s 5ms/step - loss: 1.7696 - mae: 1.7696\n",
      "Epoch 62/100\n",
      "2/2 [==============================] - 0s 5ms/step - loss: 1.4080 - mae: 1.4080\n",
      "Epoch 63/100\n",
      "2/2 [==============================] - 0s 5ms/step - loss: 1.6331 - mae: 1.6331\n",
      "Epoch 64/100\n",
      "2/2 [==============================] - 0s 5ms/step - loss: 1.0525 - mae: 1.0525\n",
      "Epoch 65/100\n",
      "2/2 [==============================] - 0s 6ms/step - loss: 1.5684 - mae: 1.5684\n",
      "Epoch 66/100\n",
      "2/2 [==============================] - 0s 5ms/step - loss: 1.5309 - mae: 1.5309\n",
      "Epoch 67/100\n",
      "2/2 [==============================] - 0s 5ms/step - loss: 1.3943 - mae: 1.3943\n",
      "Epoch 68/100\n",
      "2/2 [==============================] - 0s 5ms/step - loss: 1.9573 - mae: 1.9573\n",
      "Epoch 69/100\n",
      "2/2 [==============================] - 0s 5ms/step - loss: 1.9090 - mae: 1.9090\n",
      "Epoch 70/100\n",
      "2/2 [==============================] - 0s 5ms/step - loss: 1.5188 - mae: 1.5188\n",
      "Epoch 71/100\n",
      "2/2 [==============================] - 0s 6ms/step - loss: 1.5249 - mae: 1.5249\n",
      "Epoch 72/100\n",
      "2/2 [==============================] - 0s 4ms/step - loss: 1.8971 - mae: 1.8971\n",
      "Epoch 73/100\n",
      "2/2 [==============================] - 0s 5ms/step - loss: 2.3774 - mae: 2.3774\n",
      "Epoch 74/100\n",
      "2/2 [==============================] - 0s 5ms/step - loss: 0.5936 - mae: 0.5936\n",
      "Epoch 75/100\n",
      "2/2 [==============================] - 0s 5ms/step - loss: 1.3438 - mae: 1.3438\n",
      "Epoch 76/100\n",
      "2/2 [==============================] - 0s 6ms/step - loss: 1.0482 - mae: 1.0482\n",
      "Epoch 77/100\n",
      "2/2 [==============================] - 0s 6ms/step - loss: 0.9022 - mae: 0.9022\n",
      "Epoch 78/100\n",
      "2/2 [==============================] - 0s 7ms/step - loss: 1.3071 - mae: 1.3071\n",
      "Epoch 79/100\n",
      "2/2 [==============================] - 0s 6ms/step - loss: 0.6802 - mae: 0.6802\n",
      "Epoch 80/100\n",
      "2/2 [==============================] - 0s 5ms/step - loss: 1.1170 - mae: 1.1170\n",
      "Epoch 81/100\n",
      "2/2 [==============================] - 0s 5ms/step - loss: 0.7695 - mae: 0.7695\n",
      "Epoch 82/100\n",
      "2/2 [==============================] - 0s 5ms/step - loss: 0.8616 - mae: 0.8616\n",
      "Epoch 83/100\n",
      "2/2 [==============================] - 0s 6ms/step - loss: 1.1925 - mae: 1.1925\n",
      "Epoch 84/100\n",
      "2/2 [==============================] - 0s 5ms/step - loss: 1.0010 - mae: 1.0010\n",
      "Epoch 85/100\n",
      "2/2 [==============================] - 0s 5ms/step - loss: 1.6904 - mae: 1.6904\n",
      "Epoch 86/100\n",
      "2/2 [==============================] - 0s 4ms/step - loss: 2.1095 - mae: 2.1095\n",
      "Epoch 87/100\n",
      "2/2 [==============================] - 0s 6ms/step - loss: 0.3408 - mae: 0.3408\n",
      "Epoch 88/100\n",
      "2/2 [==============================] - 0s 5ms/step - loss: 0.6902 - mae: 0.6902\n"
     ]
    },
    {
     "name": "stdout",
     "output_type": "stream",
     "text": [
      "Epoch 89/100\n",
      "2/2 [==============================] - 0s 5ms/step - loss: 0.3884 - mae: 0.3884\n",
      "Epoch 90/100\n",
      "2/2 [==============================] - 0s 5ms/step - loss: 1.1106 - mae: 1.1106\n",
      "Epoch 91/100\n",
      "2/2 [==============================] - 0s 5ms/step - loss: 0.7493 - mae: 0.7493\n",
      "Epoch 92/100\n",
      "2/2 [==============================] - 0s 4ms/step - loss: 0.2804 - mae: 0.2804\n",
      "Epoch 93/100\n",
      "2/2 [==============================] - 0s 4ms/step - loss: 0.3508 - mae: 0.3508\n",
      "Epoch 94/100\n",
      "2/2 [==============================] - 0s 4ms/step - loss: 0.3779 - mae: 0.3779\n",
      "Epoch 95/100\n",
      "2/2 [==============================] - 0s 5ms/step - loss: 0.2321 - mae: 0.2321\n",
      "Epoch 96/100\n",
      "2/2 [==============================] - 0s 5ms/step - loss: 0.4673 - mae: 0.4673\n",
      "Epoch 97/100\n",
      "2/2 [==============================] - 0s 5ms/step - loss: 0.0319 - mae: 0.0319\n",
      "Epoch 98/100\n",
      "2/2 [==============================] - 0s 5ms/step - loss: 0.5153 - mae: 0.5153\n",
      "Epoch 99/100\n",
      "2/2 [==============================] - 0s 4ms/step - loss: 0.4920 - mae: 0.4920\n",
      "Epoch 100/100\n",
      "2/2 [==============================] - 0s 5ms/step - loss: 0.2059 - mae: 0.2059\n"
     ]
    },
    {
     "data": {
      "text/plain": [
       "<keras.src.callbacks.History at 0x24678ae4640>"
      ]
     },
     "execution_count": 36,
     "metadata": {},
     "output_type": "execute_result"
    }
   ],
   "source": [
    "# improve the model, add another model\n",
    "tf.random.set_seed(42)\n",
    "\n",
    "# 1. build the model\n",
    "model_4 = tf.keras.Sequential([\n",
    "    tf.keras.layers.Dense(20, input_shape=[1]),\n",
    "    tf.keras.layers.Dense(1)\n",
    "])\n",
    "\n",
    "# 2. compile model\n",
    "model_4.compile(loss=tf.keras.losses.mae, \n",
    "                optimizer=tf.keras.optimizers.Adam(learning_rate=0.01),\n",
    "                metrics=['mae']\n",
    "               )\n",
    "\n",
    "# 3. fit model\n",
    "model_4.fit(X_train, y_train, epochs=100)"
   ]
  },
  {
   "cell_type": "code",
   "execution_count": 37,
   "id": "632e00c7",
   "metadata": {},
   "outputs": [
    {
     "name": "stdout",
     "output_type": "stream",
     "text": [
      "WARNING:tensorflow:6 out of the last 9 calls to <function Model.make_predict_function.<locals>.predict_function at 0x0000024678AF95E0> triggered tf.function retracing. Tracing is expensive and the excessive number of tracings could be due to (1) creating @tf.function repeatedly in a loop, (2) passing tensors with different shapes, (3) passing Python objects instead of tensors. For (1), please define your @tf.function outside of the loop. For (2), @tf.function has reduce_retracing=True option that can avoid unnecessary retracing. For (3), please refer to https://www.tensorflow.org/guide/function#controlling_retracing and https://www.tensorflow.org/api_docs/python/tf/function for  more details.\n",
      "1/1 [==============================] - 0s 82ms/step\n"
     ]
    },
    {
     "data": {
      "text/plain": [
       "array([[ 70.56745 ],\n",
       "       [ 74.61038 ],\n",
       "       [ 78.6533  ],\n",
       "       [ 82.69623 ],\n",
       "       [ 86.73915 ],\n",
       "       [ 90.782074],\n",
       "       [ 94.825   ],\n",
       "       [ 98.86792 ],\n",
       "       [102.91084 ],\n",
       "       [106.95378 ]], dtype=float32)"
      ]
     },
     "execution_count": 37,
     "metadata": {},
     "output_type": "execute_result"
    }
   ],
   "source": [
    "# 4. predict\n",
    "y_pred_4 = model_4.predict(X_test)\n",
    "y_pred_4"
   ]
  },
  {
   "cell_type": "code",
   "execution_count": 39,
   "id": "22bb8b49",
   "metadata": {},
   "outputs": [
    {
     "data": {
      "image/png": "[encoded data removed]",
      "text/plain": [
       "<Figure size 1000x700 with 1 Axes>"
      ]
     },
     "metadata": {},
     "output_type": "display_data"
    }
   ],
   "source": [
    "# Visualize the prediction\n",
    "# visualize using a plotting function\n",
    "def plot_predictions(train_data=X_train, train_labels=y_train, test_data=X_test, test_labels=y_test, predictions=y_pred_4):\n",
    "    \"\"\"\n",
    "    plot training data, test data and compares predictions to ground truth\n",
    "    \"\"\"\n",
    "    plt.figure(figsize=(10,7))\n",
    "    # plot training data in blue\n",
    "    plt.scatter(train_data, train_labels, c=\"b\", label=\"Training data\")\n",
    "    # plot testing data in green\n",
    "    plt.scatter(test_data, test_labels, c=\"g\", label=\"Testing data\")\n",
    "    # plot model prediction\n",
    "    plt.scatter(test_data, predictions, c=\"r\", label=\"Prediction\")\n",
    "    # show legend\n",
    "    plt.legend();\n",
    "    \n",
    "plot_predictions()"
   ]
  },
  {
   "cell_type": "code",
   "execution_count": 44,
   "id": "135b0cc5",
   "metadata": {},
   "outputs": [
    {
     "name": "stdout",
     "output_type": "stream",
     "text": [
      "1/1 [==============================] - 0s 23ms/step\n"
     ]
    },
    {
     "data": {
      "text/plain": [
       "<tf.Tensor: shape=(10,), dtype=float32, numpy=\n",
       "array([ 70.56745 ,  74.61038 ,  78.6533  ,  82.69623 ,  86.73915 ,\n",
       "        90.782074,  94.825   ,  98.86792 , 102.91084 , 106.95378 ],\n",
       "      dtype=float32)>"
      ]
     },
     "execution_count": 44,
     "metadata": {},
     "output_type": "execute_result"
    }
   ],
   "source": [
    "y_pred_4 = model_4.predict(X_test)\n",
    "y_pred_4 = tf.squeeze(tf.constant(y_pred_4))\n",
    "y_pred_4"
   ]
  },
  {
   "cell_type": "code",
   "execution_count": 45,
   "id": "9f281b63",
   "metadata": {},
   "outputs": [
    {
     "data": {
      "text/plain": [
       "<tf.Tensor: shape=(), dtype=float32, numpy=0.7606125>"
      ]
     },
     "execution_count": 45,
     "metadata": {},
     "output_type": "execute_result"
    }
   ],
   "source": [
    "mae_4 = tf.keras.losses.mae(y_test, y_pred_4)\n",
    "mae_4"
   ]
  },
  {
   "cell_type": "code",
   "execution_count": 46,
   "id": "5aac4aa3",
   "metadata": {},
   "outputs": [
    {
     "data": {
      "text/plain": [
       "<tf.Tensor: shape=(), dtype=float32, numpy=0.59373206>"
      ]
     },
     "execution_count": 46,
     "metadata": {},
     "output_type": "execute_result"
    }
   ],
   "source": [
    "mse_4 = tf.keras.losses.mse(y_test, y_pred_4)\n",
    "mse_4"
   ]
  },
  {
   "cell_type": "markdown",
   "id": "5f6fdbec",
   "metadata": {},
   "source": [
    "## Comparing Models"
   ]
  },
  {
   "cell_type": "code",
   "execution_count": 43,
   "id": "da8d1010",
   "metadata": {},
   "outputs": [],
   "source": [
    "import pandas as pd"
   ]
  },
  {
   "cell_type": "code",
   "execution_count": 52,
   "id": "96ee68b0",
   "metadata": {},
   "outputs": [
    {
     "data": {
      "text/html": [
       "<div>\n",
       "<style scoped>\n",
       "    .dataframe tbody tr th:only-of-type {\n",
       "        vertical-align: middle;\n",
       "    }\n",
       "\n",
       "    .dataframe tbody tr th {\n",
       "        vertical-align: top;\n",
       "    }\n",
       "\n",
       "    .dataframe thead th {\n",
       "        text-align: right;\n",
       "    }\n",
       "</style>\n",
       "<table border=\"1\" class=\"dataframe\">\n",
       "  <thead>\n",
       "    <tr style=\"text-align: right;\">\n",
       "      <th></th>\n",
       "      <th>Model</th>\n",
       "      <th>MAE</th>\n",
       "      <th>MSE</th>\n",
       "    </tr>\n",
       "  </thead>\n",
       "  <tbody>\n",
       "    <tr>\n",
       "      <th>0</th>\n",
       "      <td>model_1</td>\n",
       "      <td>14.906258</td>\n",
       "      <td>223.028656</td>\n",
       "    </tr>\n",
       "    <tr>\n",
       "      <th>1</th>\n",
       "      <td>model_2</td>\n",
       "      <td>11.026622</td>\n",
       "      <td>129.633865</td>\n",
       "    </tr>\n",
       "    <tr>\n",
       "      <th>2</th>\n",
       "      <td>model_3</td>\n",
       "      <td>1.066560</td>\n",
       "      <td>1.160536</td>\n",
       "    </tr>\n",
       "    <tr>\n",
       "      <th>3</th>\n",
       "      <td>model_4</td>\n",
       "      <td>0.760612</td>\n",
       "      <td>0.593732</td>\n",
       "    </tr>\n",
       "  </tbody>\n",
       "</table>\n",
       "</div>"
      ],
      "text/plain": [
       "     Model        MAE         MSE\n",
       "0  model_1  14.906258  223.028656\n",
       "1  model_2  11.026622  129.633865\n",
       "2  model_3   1.066560    1.160536\n",
       "3  model_4   0.760612    0.593732"
      ]
     },
     "execution_count": 52,
     "metadata": {},
     "output_type": "execute_result"
    }
   ],
   "source": [
    "model_results = [[\"model_1\", mae_1.numpy(), mse_1.numpy()],\n",
    "                 [\"model_2\", mae_2.numpy(), mse_2.numpy()],\n",
    "                 [\"model_3\", mae_3.numpy(), mse_3.numpy()],\n",
    "                 [\"model_4\", mae_4.numpy(), mse_4.numpy()]]\n",
    "\n",
    "all_results = pd.DataFrame(model_results, columns=[\"Model\", \"MAE\", \"MSE\"])\n",
    "all_results"
   ]
  },
  {
   "cell_type": "markdown",
   "id": "57c96fa7",
   "metadata": {},
   "source": [
    "**Model 4 perform the best**"
   ]
  },
  {
   "cell_type": "code",
   "execution_count": 53,
   "id": "d68c3af8",
   "metadata": {},
   "outputs": [
    {
     "name": "stdout",
     "output_type": "stream",
     "text": [
      "Model: \"sequential_5\"\n",
      "_________________________________________________________________\n",
      " Layer (type)                Output Shape              Param #   \n",
      "=================================================================\n",
      " dense_9 (Dense)             (None, 20)                40        \n",
      "                                                                 \n",
      " dense_10 (Dense)            (None, 1)                 21        \n",
      "                                                                 \n",
      "=================================================================\n",
      "Total params: 61 (244.00 Byte)\n",
      "Trainable params: 61 (244.00 Byte)\n",
      "Non-trainable params: 0 (0.00 Byte)\n",
      "_________________________________________________________________\n"
     ]
    }
   ],
   "source": [
    "model_4.summary()"
   ]
  },
  {
   "cell_type": "markdown",
   "id": "51f7d5ad",
   "metadata": {},
   "source": [
    "> One of the main goals is to minimize the time between your experiments. It takes a lot of trial and error. Remember the machine learning pratictioner's motto: `Experiment! Experiment!! Experiment!!!`"
   ]
  },
  {
   "cell_type": "markdown",
   "id": "295ec50c",
   "metadata": {},
   "source": [
    "## Tracking your Experiments\n",
    "\n",
    "One good habit in machine learning modelling is to track the results of your experiments. When doing so, it can be tedious if you're lots of experiments.\n",
    "\n",
    "Luckily, there are tools to use to track models.\n",
    "- **TensorBoard:** a component of tensorflow library to help track modelling experiments.\n",
    "- **Weights & Biases:** a tool for tracking all kinds of machine learning experiments (plugged in TensorBoard)."
   ]
  },
  {
   "cell_type": "markdown",
   "id": "1028dc7a",
   "metadata": {},
   "source": [
    "## Saving a Model. Click <a href=\"06 - Saving Model.ipynb\">here</a>"
   ]
  }
 ],
 "metadata": {
  "kernelspec": {
   "display_name": "Python 3 (ipykernel)",
   "language": "python",
   "name": "python3"
  },
  "language_info": {
   "codemirror_mode": {
    "name": "ipython",
    "version": 3
   },
   "file_extension": ".py",
   "mimetype": "text/x-python",
   "name": "python",
   "nbconvert_exporter": "python",
   "pygments_lexer": "ipython3",
   "version": "3.9.13"
  }
 },
 "nbformat": 4,
 "nbformat_minor": 5
}
