{
 "cells": [
  {
   "cell_type": "markdown",
   "id": "42f59516",
   "metadata": {},
   "source": [
    "# Classification Evaluation Methods\n",
    "<hr>\n",
    "\n",
    "* **Accuracy:** Default metric for classification problems.\n",
    "* **Precision:** Higher precision leads to less false positive.\n",
    "* **Recall:** Higher recall leads to less false negative.\n",
    "* **F1-score:** Combination of precision and recall.\n",
    "* **Confusion matrix:** When comparing predictions with truth labels."
   ]
  },
  {
   "cell_type": "markdown",
   "id": "9223edb9",
   "metadata": {},
   "source": [
    "![Eval](../images/eval.JPG)"
   ]
  },
  {
   "cell_type": "code",
   "execution_count": null,
   "id": "89284e7c",
   "metadata": {},
   "outputs": [],
   "source": []
  }
 ],
 "metadata": {
  "kernelspec": {
   "display_name": "Python 3 (ipykernel)",
   "language": "python",
   "name": "python3"
  },
  "language_info": {
   "codemirror_mode": {
    "name": "ipython",
    "version": 3
   },
   "file_extension": ".py",
   "mimetype": "text/x-python",
   "name": "python",
   "nbconvert_exporter": "python",
   "pygments_lexer": "ipython3",
   "version": "3.9.13"
  }
 },
 "nbformat": 4,
 "nbformat_minor": 5
}
