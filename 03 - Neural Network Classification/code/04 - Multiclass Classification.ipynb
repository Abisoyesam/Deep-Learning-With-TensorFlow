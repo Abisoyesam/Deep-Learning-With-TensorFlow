{
 "cells": [
  {
   "cell_type": "markdown",
   "id": "5a07d867",
   "metadata": {},
   "source": [
    "# Multiclass Neural Network\n",
    "<hr>\n",
    "\n",
    "To practice multi-class classification, we are going to build a neural network to classify images of different items of clothings.\n",
    "\n",
    "**Contents:**\n",
    "- Getting familiar with the data\n",
    "- Building multi-class model\n",
    "- Normalizing data\n",
    "- Plotting History\n",
    "- Finding the ideal learning rate\n",
    "- Evaluation method\n",
    "- Confusion Matrix"
   ]
  },
  {
   "cell_type": "code",
   "execution_count": 3,
   "id": "f46ee793",
   "metadata": {},
   "outputs": [
    {
     "name": "stdout",
     "output_type": "stream",
     "text": [
      "Downloading data from https://storage.googleapis.com/tensorflow/tf-keras-datasets/train-labels-idx1-ubyte.gz\n",
      "29515/29515 [==============================] - 0s 6us/step\n",
      "Downloading data from https://storage.googleapis.com/tensorflow/tf-keras-datasets/train-images-idx3-ubyte.gz\n",
      "26421880/26421880 [==============================] - 8s 0us/step\n",
      "Downloading data from https://storage.googleapis.com/tensorflow/tf-keras-datasets/t10k-labels-idx1-ubyte.gz\n",
      "5148/5148 [==============================] - 0s 0s/step\n",
      "Downloading data from https://storage.googleapis.com/tensorflow/tf-keras-datasets/t10k-images-idx3-ubyte.gz\n",
      "4422102/4422102 [==============================] - 2s 0us/step\n"
     ]
    }
   ],
   "source": [
    "import tensorflow as tf\n",
    "from tensorflow.keras.datasets import fashion_mnist\n",
    "\n",
    "# The data has already been sorted into training and testing\n",
    "(X_train, y_train), (X_test, y_test) = fashion_mnist.load_data() "
   ]
  },
  {
   "cell_type": "markdown",
   "id": "c13b22a2",
   "metadata": {},
   "source": [
    "## Getting Familiar with the data"
   ]
  },
  {
   "cell_type": "code",
   "execution_count": 4,
   "id": "9049ce87",
   "metadata": {
    "scrolled": true
   },
   "outputs": [
    {
     "name": "stdout",
     "output_type": "stream",
     "text": [
      "Training Sample: [[  0   0   0   0   0   0   0   0   0   0   0   0   0   0   0   0   0   0\n",
      "    0   0   0   0   0   0   0   0   0   0]\n",
      " [  0   0   0   0   0   0   0   0   0   0   0   0   0   0   0   0   0   0\n",
      "    0   0   0   0   0   0   0   0   0   0]\n",
      " [  0   0   0   0   0   0   0   0   0   0   0   0   0   0   0   0   0   0\n",
      "    0   0   0   0   0   0   0   0   0   0]\n",
      " [  0   0   0   0   0   0   0   0   0   0   0   0   1   0   0  13  73   0\n",
      "    0   1   4   0   0   0   0   1   1   0]\n",
      " [  0   0   0   0   0   0   0   0   0   0   0   0   3   0  36 136 127  62\n",
      "   54   0   0   0   1   3   4   0   0   3]\n",
      " [  0   0   0   0   0   0   0   0   0   0   0   0   6   0 102 204 176 134\n",
      "  144 123  23   0   0   0   0  12  10   0]\n",
      " [  0   0   0   0   0   0   0   0   0   0   0   0   0   0 155 236 207 178\n",
      "  107 156 161 109  64  23  77 130  72  15]\n",
      " [  0   0   0   0   0   0   0   0   0   0   0   1   0  69 207 223 218 216\n",
      "  216 163 127 121 122 146 141  88 172  66]\n",
      " [  0   0   0   0   0   0   0   0   0   1   1   1   0 200 232 232 233 229\n",
      "  223 223 215 213 164 127 123 196 229   0]\n",
      " [  0   0   0   0   0   0   0   0   0   0   0   0   0 183 225 216 223 228\n",
      "  235 227 224 222 224 221 223 245 173   0]\n",
      " [  0   0   0   0   0   0   0   0   0   0   0   0   0 193 228 218 213 198\n",
      "  180 212 210 211 213 223 220 243 202   0]\n",
      " [  0   0   0   0   0   0   0   0   0   1   3   0  12 219 220 212 218 192\n",
      "  169 227 208 218 224 212 226 197 209  52]\n",
      " [  0   0   0   0   0   0   0   0   0   0   6   0  99 244 222 220 218 203\n",
      "  198 221 215 213 222 220 245 119 167  56]\n",
      " [  0   0   0   0   0   0   0   0   0   4   0   0  55 236 228 230 228 240\n",
      "  232 213 218 223 234 217 217 209  92   0]\n",
      " [  0   0   1   4   6   7   2   0   0   0   0   0 237 226 217 223 222 219\n",
      "  222 221 216 223 229 215 218 255  77   0]\n",
      " [  0   3   0   0   0   0   0   0   0  62 145 204 228 207 213 221 218 208\n",
      "  211 218 224 223 219 215 224 244 159   0]\n",
      " [  0   0   0   0  18  44  82 107 189 228 220 222 217 226 200 205 211 230\n",
      "  224 234 176 188 250 248 233 238 215   0]\n",
      " [  0  57 187 208 224 221 224 208 204 214 208 209 200 159 245 193 206 223\n",
      "  255 255 221 234 221 211 220 232 246   0]\n",
      " [  3 202 228 224 221 211 211 214 205 205 205 220 240  80 150 255 229 221\n",
      "  188 154 191 210 204 209 222 228 225   0]\n",
      " [ 98 233 198 210 222 229 229 234 249 220 194 215 217 241  65  73 106 117\n",
      "  168 219 221 215 217 223 223 224 229  29]\n",
      " [ 75 204 212 204 193 205 211 225 216 185 197 206 198 213 240 195 227 245\n",
      "  239 223 218 212 209 222 220 221 230  67]\n",
      " [ 48 203 183 194 213 197 185 190 194 192 202 214 219 221 220 236 225 216\n",
      "  199 206 186 181 177 172 181 205 206 115]\n",
      " [  0 122 219 193 179 171 183 196 204 210 213 207 211 210 200 196 194 191\n",
      "  195 191 198 192 176 156 167 177 210  92]\n",
      " [  0   0  74 189 212 191 175 172 175 181 185 188 189 188 193 198 204 209\n",
      "  210 210 211 188 188 194 192 216 170   0]\n",
      " [  2   0   0   0  66 200 222 237 239 242 246 243 244 221 220 193 191 179\n",
      "  182 182 181 176 166 168  99  58   0   0]\n",
      " [  0   0   0   0   0   0   0  40  61  44  72  41  35   0   0   0   0   0\n",
      "    0   0   0   0   0   0   0   0   0   0]\n",
      " [  0   0   0   0   0   0   0   0   0   0   0   0   0   0   0   0   0   0\n",
      "    0   0   0   0   0   0   0   0   0   0]\n",
      " [  0   0   0   0   0   0   0   0   0   0   0   0   0   0   0   0   0   0\n",
      "    0   0   0   0   0   0   0   0   0   0]]\n",
      "Training label: 9\n"
     ]
    }
   ],
   "source": [
    "# Show the first training example\n",
    "print(f'Training Sample: {X_train[0]}\\nTraining label: {y_train[0]}')"
   ]
  },
  {
   "cell_type": "markdown",
   "id": "37e68a3a",
   "metadata": {},
   "source": [
    "> The labels are: **0 -> T-shirt/top, 1 -> Trouser, 2 -> Pullover, 3 -> Dress, 4 -> Coat, 5 -> Sandal, 6 -> Shirt, 7 -> Sneaker, 8 -> Bag, 9 -> Ankle boot**"
   ]
  },
  {
   "cell_type": "code",
   "execution_count": 5,
   "id": "84291140",
   "metadata": {},
   "outputs": [
    {
     "data": {
      "text/plain": [
       "((28, 28), ())"
      ]
     },
     "execution_count": 5,
     "metadata": {},
     "output_type": "execute_result"
    }
   ],
   "source": [
    "# check the shape of simple example\n",
    "\n",
    "X_train[0].shape, y_train[0].shape"
   ]
  },
  {
   "cell_type": "code",
   "execution_count": 7,
   "id": "d756bb1c",
   "metadata": {},
   "outputs": [
    {
     "data": {
      "image/png": "[encoded data removed]",
      "text/plain": [
       "<Figure size 640x480 with 1 Axes>"
      ]
     },
     "metadata": {},
     "output_type": "display_data"
    }
   ],
   "source": [
    "# Plot a single sample\n",
    "import matplotlib.pyplot as plt\n",
    "\n",
    "plt.imshow(X_train[7]);"
   ]
  },
  {
   "cell_type": "code",
   "execution_count": 8,
   "id": "f0815213",
   "metadata": {},
   "outputs": [
    {
     "data": {
      "text/plain": [
       "2"
      ]
     },
     "execution_count": 8,
     "metadata": {},
     "output_type": "execute_result"
    }
   ],
   "source": [
    "# Check out sample label\n",
    "y_train[7]"
   ]
  },
  {
   "cell_type": "code",
   "execution_count": 9,
   "id": "5554a0a6",
   "metadata": {},
   "outputs": [
    {
     "data": {
      "text/plain": [
       "10"
      ]
     },
     "execution_count": 9,
     "metadata": {},
     "output_type": "execute_result"
    }
   ],
   "source": [
    "# Create readable of training label\n",
    "class_names = [\"T-shirt/top\", \"Trouser\", \"Pullover\", \"Dress\", \"Coat\", \"Sandal\", \"Shirt\", \"Sneaker\", \"Bag\", \"Ankle boot\"]\n",
    "len(class_names)"
   ]
  },
  {
   "cell_type": "code",
   "execution_count": 14,
   "id": "9551a356",
   "metadata": {},
   "outputs": [
    {
     "data": {
      "image/png": "[encoded data removed]",
      "text/plain": [
       "<Figure size 640x480 with 1 Axes>"
      ]
     },
     "metadata": {},
     "output_type": "display_data"
    }
   ],
   "source": [
    "# Plot an example image and its label\n",
    "index_of_choice = 100\n",
    "plt.imshow(X_train[index_of_choice], cmap=plt.cm.binary)\n",
    "plt.title(class_names[y_train[index_of_choice]]);"
   ]
  },
  {
   "cell_type": "code",
   "execution_count": 20,
   "id": "8b6457a1",
   "metadata": {},
   "outputs": [
    {
     "data": {
      "image/png": "[encoded data removed]",
      "text/plain": [
       "<Figure size 700x700 with 4 Axes>"
      ]
     },
     "metadata": {},
     "output_type": "display_data"
    }
   ],
   "source": [
    "# Plot multiple random images of fashion MNIST\n",
    "import random\n",
    "plt.figure(figsize=(7,7))\n",
    "for i in range(4):\n",
    "    ax = plt.subplot(2,2,i+1)\n",
    "    rand_indx = random.choice(range(len(X_train)))\n",
    "    plt.imshow(X_train[rand_indx ], cmap=plt.cm.binary)\n",
    "    plt.title(class_names[y_train[rand_indx]])\n",
    "    plt.axis(False)"
   ]
  },
  {
   "cell_type": "markdown",
   "id": "780f69d8",
   "metadata": {},
   "source": [
    "## Building a Multi-Class Model\n",
    "\n",
    "- Input Shape: 28 x 28 (the shape of one image)\n",
    "- Output Shape: 10 (one per class of clothing)\n",
    "- Loss function: `tf.keras.losses.CategoricalCrossentropy()`\n",
    "    - If your labels are one-hot encoded, use CategoricalCrossentropy()\n",
    "    - If your labels are integer form use SparseCategoricalCrossentropy()\n",
    "- Output layer activation: `softmax`"
   ]
  },
  {
   "cell_type": "code",
   "execution_count": 21,
   "id": "203eb97e",
   "metadata": {},
   "outputs": [
    {
     "data": {
      "text/plain": [
       "(28, 28)"
      ]
     },
     "execution_count": 21,
     "metadata": {},
     "output_type": "execute_result"
    }
   ],
   "source": [
    "# Check the input shape\n",
    "X_train[0].shape"
   ]
  },
  {
   "cell_type": "code",
   "execution_count": 22,
   "id": "304330ba",
   "metadata": {},
   "outputs": [
    {
     "data": {
      "text/plain": [
       "10"
      ]
     },
     "execution_count": 22,
     "metadata": {},
     "output_type": "execute_result"
    }
   ],
   "source": [
    "# Output shape (i.e) how many classes\n",
    "len(class_names)"
   ]
  },
  {
   "cell_type": "markdown",
   "id": "ef43719a",
   "metadata": {},
   "source": [
    "**Flatten**"
   ]
  },
  {
   "cell_type": "code",
   "execution_count": 28,
   "id": "29af671f",
   "metadata": {},
   "outputs": [
    {
     "data": {
      "text/plain": [
       "(None, 784)"
      ]
     },
     "execution_count": 28,
     "metadata": {},
     "output_type": "execute_result"
    }
   ],
   "source": [
    "# Data needs to be flattened\n",
    "flatten_model = tf.keras.Sequential([tf.keras.layers.Flatten(input_shape=(28,28))])\n",
    "flatten_model.output_shape"
   ]
  },
  {
   "cell_type": "code",
   "execution_count": 29,
   "id": "35003128",
   "metadata": {},
   "outputs": [
    {
     "data": {
      "text/plain": [
       "784"
      ]
     },
     "execution_count": 29,
     "metadata": {},
     "output_type": "execute_result"
    }
   ],
   "source": [
    "28 * 28"
   ]
  },
  {
   "cell_type": "code",
   "execution_count": 34,
   "id": "3e039840",
   "metadata": {},
   "outputs": [
    {
     "name": "stdout",
     "output_type": "stream",
     "text": [
      "Epoch 1/10\n",
      "1875/1875 [==============================] - 4s 2ms/step - loss: 2.4497 - accuracy: 0.0995 - val_loss: 2.3028 - val_accuracy: 0.0999\n",
      "Epoch 2/10\n",
      "1875/1875 [==============================] - 3s 2ms/step - loss: 2.3029 - accuracy: 0.0981 - val_loss: 2.3027 - val_accuracy: 0.0999\n",
      "Epoch 3/10\n",
      "1875/1875 [==============================] - 3s 2ms/step - loss: 2.3027 - accuracy: 0.1002 - val_loss: 2.3027 - val_accuracy: 0.1000\n",
      "Epoch 4/10\n",
      "1875/1875 [==============================] - 3s 2ms/step - loss: 2.3026 - accuracy: 0.0977 - val_loss: 2.3026 - val_accuracy: 0.1000\n",
      "Epoch 5/10\n",
      "1875/1875 [==============================] - 3s 2ms/step - loss: 2.3028 - accuracy: 0.0976 - val_loss: 2.3026 - val_accuracy: 0.1000\n",
      "Epoch 6/10\n",
      "1875/1875 [==============================] - 3s 2ms/step - loss: 2.3021 - accuracy: 0.0993 - val_loss: 2.2816 - val_accuracy: 0.1000\n",
      "Epoch 7/10\n",
      "1875/1875 [==============================] - 3s 2ms/step - loss: 2.3014 - accuracy: 0.0989 - val_loss: 2.2711 - val_accuracy: 0.1178\n",
      "Epoch 8/10\n",
      "1875/1875 [==============================] - 3s 2ms/step - loss: 1.8377 - accuracy: 0.2518 - val_loss: 1.6612 - val_accuracy: 0.3315\n",
      "Epoch 9/10\n",
      "1875/1875 [==============================] - 3s 2ms/step - loss: 1.5711 - accuracy: 0.3346 - val_loss: 1.5425 - val_accuracy: 0.3275\n",
      "Epoch 10/10\n",
      "1875/1875 [==============================] - 3s 2ms/step - loss: 1.4890 - accuracy: 0.3496 - val_loss: 1.4691 - val_accuracy: 0.3425\n"
     ]
    }
   ],
   "source": [
    "# Set random seed\n",
    "tf.random.set_seed(42)\n",
    "\n",
    "# 1. Create Model\n",
    "model_1 = tf.keras.Sequential([\n",
    "    tf.keras.layers.Flatten(input_shape=(28,28)),\n",
    "    tf.keras.layers.Dense(4, activation=\"relu\"),\n",
    "    tf.keras.layers.Dense(4, activation='relu'),\n",
    "    tf.keras.layers.Dense(10, activation='softmax')\n",
    "])\n",
    "\n",
    "# 2. Compile the model\n",
    "model_1.compile(loss=tf.keras.losses.SparseCategoricalCrossentropy(), \n",
    "              optimizer=tf.keras.optimizers.Adam(), \n",
    "              metrics=['accuracy'])\n",
    "\n",
    "# 3. Fit the model\n",
    "non_norm_history = model_1.fit(X_train, y_train, epochs=10, validation_data=(X_test, y_test))"
   ]
  },
  {
   "cell_type": "markdown",
   "id": "b19b01c8",
   "metadata": {},
   "source": [
    "> **CategoricalCrossentropy** is used when the labels are `hot-encoded` if they are`integers` please use **SparseCategoricalCrossentropy**."
   ]
  },
  {
   "cell_type": "markdown",
   "id": "5f55880b",
   "metadata": {},
   "source": [
    "**One hot the training labels (y_train)**"
   ]
  },
  {
   "cell_type": "code",
   "execution_count": 31,
   "id": "04915f2a",
   "metadata": {},
   "outputs": [
    {
     "data": {
      "text/plain": [
       "<tf.Tensor: shape=(10, 10), dtype=float32, numpy=\n",
       "array([[0., 0., 0., 0., 0., 0., 0., 0., 0., 1.],\n",
       "       [1., 0., 0., 0., 0., 0., 0., 0., 0., 0.],\n",
       "       [1., 0., 0., 0., 0., 0., 0., 0., 0., 0.],\n",
       "       [0., 0., 0., 1., 0., 0., 0., 0., 0., 0.],\n",
       "       [1., 0., 0., 0., 0., 0., 0., 0., 0., 0.],\n",
       "       [0., 0., 1., 0., 0., 0., 0., 0., 0., 0.],\n",
       "       [0., 0., 0., 0., 0., 0., 0., 1., 0., 0.],\n",
       "       [0., 0., 1., 0., 0., 0., 0., 0., 0., 0.],\n",
       "       [0., 0., 0., 0., 0., 1., 0., 0., 0., 0.],\n",
       "       [0., 0., 0., 0., 0., 1., 0., 0., 0., 0.]], dtype=float32)>"
      ]
     },
     "execution_count": 31,
     "metadata": {},
     "output_type": "execute_result"
    }
   ],
   "source": [
    "tf.one_hot(y_train[:10], depth=10)"
   ]
  },
  {
   "cell_type": "code",
   "execution_count": 35,
   "id": "e8b797a3",
   "metadata": {},
   "outputs": [
    {
     "name": "stdout",
     "output_type": "stream",
     "text": [
      "Epoch 1/10\n",
      "1875/1875 [==============================] - 4s 2ms/step - loss: 2.2677 - accuracy: 0.1265 - val_loss: 2.1286 - val_accuracy: 0.1888\n",
      "Epoch 2/10\n",
      "1875/1875 [==============================] - 3s 2ms/step - loss: 2.0928 - accuracy: 0.1946 - val_loss: 2.0175 - val_accuracy: 0.2284\n",
      "Epoch 3/10\n",
      "1875/1875 [==============================] - 3s 2ms/step - loss: 1.7142 - accuracy: 0.2988 - val_loss: 1.6473 - val_accuracy: 0.3320\n",
      "Epoch 4/10\n",
      "1875/1875 [==============================] - 3s 2ms/step - loss: 1.5072 - accuracy: 0.3803 - val_loss: 1.4597 - val_accuracy: 0.3947\n",
      "Epoch 5/10\n",
      "1875/1875 [==============================] - 3s 2ms/step - loss: 1.4061 - accuracy: 0.4027 - val_loss: 1.4394 - val_accuracy: 0.4170\n",
      "Epoch 6/10\n",
      "1875/1875 [==============================] - 3s 2ms/step - loss: 1.3538 - accuracy: 0.4132 - val_loss: 1.3558 - val_accuracy: 0.4165\n",
      "Epoch 7/10\n",
      "1875/1875 [==============================] - 3s 2ms/step - loss: 1.3559 - accuracy: 0.4162 - val_loss: 1.3450 - val_accuracy: 0.4245\n",
      "Epoch 8/10\n",
      "1875/1875 [==============================] - 3s 2ms/step - loss: 1.3201 - accuracy: 0.4218 - val_loss: 1.3619 - val_accuracy: 0.4143\n",
      "Epoch 9/10\n",
      "1875/1875 [==============================] - 3s 2ms/step - loss: 1.3167 - accuracy: 0.4270 - val_loss: 1.3457 - val_accuracy: 0.4349\n",
      "Epoch 10/10\n",
      "1875/1875 [==============================] - 3s 2ms/step - loss: 1.2969 - accuracy: 0.4360 - val_loss: 1.3217 - val_accuracy: 0.4427\n"
     ]
    }
   ],
   "source": [
    "# Set random seed\n",
    "tf.random.set_seed(42)\n",
    "\n",
    "# 1. Create Model\n",
    "model_2 = tf.keras.Sequential([\n",
    "    tf.keras.layers.Flatten(input_shape=(28,28)),\n",
    "    tf.keras.layers.Dense(4, activation=\"relu\"),\n",
    "    tf.keras.layers.Dense(4, activation='relu'),\n",
    "    tf.keras.layers.Dense(10, activation='softmax')\n",
    "])\n",
    "\n",
    "# 2. Compile the model\n",
    "model_2.compile(loss=tf.keras.losses.CategoricalCrossentropy(), \n",
    "              optimizer=tf.keras.optimizers.Adam(), \n",
    "              metrics=['accuracy'])\n",
    "\n",
    "# 3. Fit the model\n",
    "non_norm_history = model_2.fit(X_train, tf.one_hot(y_train, depth=10), \n",
    "                             epochs=10, validation_data=(X_test, tf.one_hot(y_test, depth=10)))"
   ]
  },
  {
   "cell_type": "markdown",
   "id": "7852aa11",
   "metadata": {},
   "source": [
    "**NOTE:** The training and validation accuracy of 43% and 44% is still better than guessing. Had it been the model was guess, it would be around **10%**. $100 / 10 = 10$ "
   ]
  },
  {
   "cell_type": "code",
   "execution_count": 36,
   "id": "0fdc9427",
   "metadata": {},
   "outputs": [
    {
     "name": "stdout",
     "output_type": "stream",
     "text": [
      "Model: \"sequential_7\"\n",
      "_________________________________________________________________\n",
      " Layer (type)                Output Shape              Param #   \n",
      "=================================================================\n",
      " flatten_5 (Flatten)         (None, 784)               0         \n",
      "                                                                 \n",
      " dense_18 (Dense)            (None, 4)                 3140      \n",
      "                                                                 \n",
      " dense_19 (Dense)            (None, 4)                 20        \n",
      "                                                                 \n",
      " dense_20 (Dense)            (None, 10)                50        \n",
      "                                                                 \n",
      "=================================================================\n",
      "Total params: 3210 (12.54 KB)\n",
      "Trainable params: 3210 (12.54 KB)\n",
      "Non-trainable params: 0 (0.00 Byte)\n",
      "_________________________________________________________________\n"
     ]
    }
   ],
   "source": [
    "# Check the model summary\n",
    "model_2.summary()"
   ]
  },
  {
   "cell_type": "code",
   "execution_count": 37,
   "id": "4cef2a64",
   "metadata": {},
   "outputs": [
    {
     "data": {
      "text/plain": [
       "(0, 255)"
      ]
     },
     "execution_count": 37,
     "metadata": {},
     "output_type": "execute_result"
    }
   ],
   "source": [
    "# Check the min and max values of the training data\n",
    "X_train.min(), X_train.max()"
   ]
  },
  {
   "cell_type": "markdown",
   "id": "53df44f6",
   "metadata": {},
   "source": [
    "## Normalizing the data\n",
    "\n",
    "- Range of 0 and 1\n",
    "- We can the training and testing data in the above range by dividing by the maximum"
   ]
  },
  {
   "cell_type": "code",
   "execution_count": 39,
   "id": "7b49b361",
   "metadata": {},
   "outputs": [
    {
     "data": {
      "text/plain": [
       "(0.0, 1.0)"
      ]
     },
     "execution_count": 39,
     "metadata": {},
     "output_type": "execute_result"
    }
   ],
   "source": [
    "X_train_norm = X_train/255.0\n",
    "X_test_norm = X_test/255.0\n",
    "\n",
    "# Check the min and max\n",
    "X_train_norm.min(), X_train_norm.max()"
   ]
  },
  {
   "cell_type": "code",
   "execution_count": 41,
   "id": "2c975b9f",
   "metadata": {},
   "outputs": [
    {
     "name": "stdout",
     "output_type": "stream",
     "text": [
      "Epoch 1/10\n",
      "1875/1875 [==============================] - 4s 2ms/step - loss: 1.1741 - accuracy: 0.5239 - val_loss: 0.8536 - val_accuracy: 0.6675\n",
      "Epoch 2/10\n",
      "1875/1875 [==============================] - 3s 2ms/step - loss: 0.8122 - accuracy: 0.6827 - val_loss: 0.8051 - val_accuracy: 0.6847\n",
      "Epoch 3/10\n",
      "1875/1875 [==============================] - 3s 2ms/step - loss: 0.7744 - accuracy: 0.6962 - val_loss: 0.7961 - val_accuracy: 0.6918\n",
      "Epoch 4/10\n",
      "1875/1875 [==============================] - 3s 2ms/step - loss: 0.7507 - accuracy: 0.7088 - val_loss: 0.7607 - val_accuracy: 0.7120\n",
      "Epoch 5/10\n",
      "1875/1875 [==============================] - 3s 2ms/step - loss: 0.7234 - accuracy: 0.7290 - val_loss: 0.7273 - val_accuracy: 0.7346\n",
      "Epoch 6/10\n",
      "1875/1875 [==============================] - 3s 2ms/step - loss: 0.6764 - accuracy: 0.7524 - val_loss: 0.6994 - val_accuracy: 0.7495\n",
      "Epoch 7/10\n",
      "1875/1875 [==============================] - 3s 2ms/step - loss: 0.6420 - accuracy: 0.7625 - val_loss: 0.6675 - val_accuracy: 0.7529\n",
      "Epoch 8/10\n",
      "1875/1875 [==============================] - 3s 2ms/step - loss: 0.6218 - accuracy: 0.7691 - val_loss: 0.6571 - val_accuracy: 0.7627\n",
      "Epoch 9/10\n",
      "1875/1875 [==============================] - 3s 2ms/step - loss: 0.6107 - accuracy: 0.7736 - val_loss: 0.6356 - val_accuracy: 0.7688\n",
      "Epoch 10/10\n",
      "1875/1875 [==============================] - 3s 2ms/step - loss: 0.6013 - accuracy: 0.7785 - val_loss: 0.6281 - val_accuracy: 0.7709\n"
     ]
    }
   ],
   "source": [
    "# Set random seed\n",
    "tf.random.set_seed(42)\n",
    "\n",
    "# 1. Create Model\n",
    "model_3 = tf.keras.Sequential([\n",
    "    tf.keras.layers.Flatten(input_shape=(28,28)),\n",
    "    tf.keras.layers.Dense(4, activation=\"relu\"),\n",
    "    tf.keras.layers.Dense(4, activation='relu'),\n",
    "    tf.keras.layers.Dense(10, activation='softmax')\n",
    "])\n",
    "\n",
    "# 2. Compile the model\n",
    "model_3.compile(loss=tf.keras.losses.CategoricalCrossentropy(), \n",
    "              optimizer=tf.keras.optimizers.Adam(), \n",
    "              metrics=['accuracy'])\n",
    "\n",
    "# 3. Fit the model\n",
    "norm_history = model_3.fit(X_train_norm, tf.one_hot(y_train, depth=10), \n",
    "                             epochs=10, validation_data=(X_test_norm, tf.one_hot(y_test, depth=10)))"
   ]
  },
  {
   "cell_type": "markdown",
   "id": "589d24ce",
   "metadata": {},
   "source": [
    "## Ploting data history"
   ]
  },
  {
   "cell_type": "code",
   "execution_count": 43,
   "id": "652165f6",
   "metadata": {},
   "outputs": [
    {
     "data": {
      "text/html": [
       "<div>\n",
       "<style scoped>\n",
       "    .dataframe tbody tr th:only-of-type {\n",
       "        vertical-align: middle;\n",
       "    }\n",
       "\n",
       "    .dataframe tbody tr th {\n",
       "        vertical-align: top;\n",
       "    }\n",
       "\n",
       "    .dataframe thead th {\n",
       "        text-align: right;\n",
       "    }\n",
       "</style>\n",
       "<table border=\"1\" class=\"dataframe\">\n",
       "  <thead>\n",
       "    <tr style=\"text-align: right;\">\n",
       "      <th></th>\n",
       "      <th>loss</th>\n",
       "      <th>accuracy</th>\n",
       "      <th>val_loss</th>\n",
       "      <th>val_accuracy</th>\n",
       "    </tr>\n",
       "  </thead>\n",
       "  <tbody>\n",
       "    <tr>\n",
       "      <th>0</th>\n",
       "      <td>2.267704</td>\n",
       "      <td>0.126500</td>\n",
       "      <td>2.128598</td>\n",
       "      <td>0.1888</td>\n",
       "    </tr>\n",
       "    <tr>\n",
       "      <th>1</th>\n",
       "      <td>2.092751</td>\n",
       "      <td>0.194650</td>\n",
       "      <td>2.017521</td>\n",
       "      <td>0.2284</td>\n",
       "    </tr>\n",
       "    <tr>\n",
       "      <th>2</th>\n",
       "      <td>1.714240</td>\n",
       "      <td>0.298850</td>\n",
       "      <td>1.647280</td>\n",
       "      <td>0.3320</td>\n",
       "    </tr>\n",
       "    <tr>\n",
       "      <th>3</th>\n",
       "      <td>1.507167</td>\n",
       "      <td>0.380300</td>\n",
       "      <td>1.459700</td>\n",
       "      <td>0.3947</td>\n",
       "    </tr>\n",
       "    <tr>\n",
       "      <th>4</th>\n",
       "      <td>1.406056</td>\n",
       "      <td>0.402700</td>\n",
       "      <td>1.439396</td>\n",
       "      <td>0.4170</td>\n",
       "    </tr>\n",
       "    <tr>\n",
       "      <th>5</th>\n",
       "      <td>1.353839</td>\n",
       "      <td>0.413167</td>\n",
       "      <td>1.355821</td>\n",
       "      <td>0.4165</td>\n",
       "    </tr>\n",
       "    <tr>\n",
       "      <th>6</th>\n",
       "      <td>1.355852</td>\n",
       "      <td>0.416183</td>\n",
       "      <td>1.344976</td>\n",
       "      <td>0.4245</td>\n",
       "    </tr>\n",
       "    <tr>\n",
       "      <th>7</th>\n",
       "      <td>1.320109</td>\n",
       "      <td>0.421783</td>\n",
       "      <td>1.361876</td>\n",
       "      <td>0.4143</td>\n",
       "    </tr>\n",
       "    <tr>\n",
       "      <th>8</th>\n",
       "      <td>1.316701</td>\n",
       "      <td>0.426983</td>\n",
       "      <td>1.345742</td>\n",
       "      <td>0.4349</td>\n",
       "    </tr>\n",
       "    <tr>\n",
       "      <th>9</th>\n",
       "      <td>1.296949</td>\n",
       "      <td>0.436000</td>\n",
       "      <td>1.321653</td>\n",
       "      <td>0.4427</td>\n",
       "    </tr>\n",
       "  </tbody>\n",
       "</table>\n",
       "</div>"
      ],
      "text/plain": [
       "       loss  accuracy  val_loss  val_accuracy\n",
       "0  2.267704  0.126500  2.128598        0.1888\n",
       "1  2.092751  0.194650  2.017521        0.2284\n",
       "2  1.714240  0.298850  1.647280        0.3320\n",
       "3  1.507167  0.380300  1.459700        0.3947\n",
       "4  1.406056  0.402700  1.439396        0.4170\n",
       "5  1.353839  0.413167  1.355821        0.4165\n",
       "6  1.355852  0.416183  1.344976        0.4245\n",
       "7  1.320109  0.421783  1.361876        0.4143\n",
       "8  1.316701  0.426983  1.345742        0.4349\n",
       "9  1.296949  0.436000  1.321653        0.4427"
      ]
     },
     "execution_count": 43,
     "metadata": {},
     "output_type": "execute_result"
    }
   ],
   "source": [
    "import pandas as pd\n",
    "pd.DataFrame(non_norm_history.history)"
   ]
  },
  {
   "cell_type": "code",
   "execution_count": 44,
   "id": "b44d4dfa",
   "metadata": {},
   "outputs": [
    {
     "data": {
      "text/html": [
       "<div>\n",
       "<style scoped>\n",
       "    .dataframe tbody tr th:only-of-type {\n",
       "        vertical-align: middle;\n",
       "    }\n",
       "\n",
       "    .dataframe tbody tr th {\n",
       "        vertical-align: top;\n",
       "    }\n",
       "\n",
       "    .dataframe thead th {\n",
       "        text-align: right;\n",
       "    }\n",
       "</style>\n",
       "<table border=\"1\" class=\"dataframe\">\n",
       "  <thead>\n",
       "    <tr style=\"text-align: right;\">\n",
       "      <th></th>\n",
       "      <th>loss</th>\n",
       "      <th>accuracy</th>\n",
       "      <th>val_loss</th>\n",
       "      <th>val_accuracy</th>\n",
       "    </tr>\n",
       "  </thead>\n",
       "  <tbody>\n",
       "    <tr>\n",
       "      <th>0</th>\n",
       "      <td>1.174076</td>\n",
       "      <td>0.523917</td>\n",
       "      <td>0.853609</td>\n",
       "      <td>0.6675</td>\n",
       "    </tr>\n",
       "    <tr>\n",
       "      <th>1</th>\n",
       "      <td>0.812228</td>\n",
       "      <td>0.682700</td>\n",
       "      <td>0.805120</td>\n",
       "      <td>0.6847</td>\n",
       "    </tr>\n",
       "    <tr>\n",
       "      <th>2</th>\n",
       "      <td>0.774427</td>\n",
       "      <td>0.696183</td>\n",
       "      <td>0.796102</td>\n",
       "      <td>0.6918</td>\n",
       "    </tr>\n",
       "    <tr>\n",
       "      <th>3</th>\n",
       "      <td>0.750683</td>\n",
       "      <td>0.708817</td>\n",
       "      <td>0.760693</td>\n",
       "      <td>0.7120</td>\n",
       "    </tr>\n",
       "    <tr>\n",
       "      <th>4</th>\n",
       "      <td>0.723353</td>\n",
       "      <td>0.728967</td>\n",
       "      <td>0.727296</td>\n",
       "      <td>0.7346</td>\n",
       "    </tr>\n",
       "    <tr>\n",
       "      <th>5</th>\n",
       "      <td>0.676375</td>\n",
       "      <td>0.752433</td>\n",
       "      <td>0.699378</td>\n",
       "      <td>0.7495</td>\n",
       "    </tr>\n",
       "    <tr>\n",
       "      <th>6</th>\n",
       "      <td>0.641984</td>\n",
       "      <td>0.762500</td>\n",
       "      <td>0.667491</td>\n",
       "      <td>0.7529</td>\n",
       "    </tr>\n",
       "    <tr>\n",
       "      <th>7</th>\n",
       "      <td>0.621762</td>\n",
       "      <td>0.769050</td>\n",
       "      <td>0.657057</td>\n",
       "      <td>0.7627</td>\n",
       "    </tr>\n",
       "    <tr>\n",
       "      <th>8</th>\n",
       "      <td>0.610660</td>\n",
       "      <td>0.773567</td>\n",
       "      <td>0.635636</td>\n",
       "      <td>0.7688</td>\n",
       "    </tr>\n",
       "    <tr>\n",
       "      <th>9</th>\n",
       "      <td>0.601292</td>\n",
       "      <td>0.778467</td>\n",
       "      <td>0.628106</td>\n",
       "      <td>0.7709</td>\n",
       "    </tr>\n",
       "  </tbody>\n",
       "</table>\n",
       "</div>"
      ],
      "text/plain": [
       "       loss  accuracy  val_loss  val_accuracy\n",
       "0  1.174076  0.523917  0.853609        0.6675\n",
       "1  0.812228  0.682700  0.805120        0.6847\n",
       "2  0.774427  0.696183  0.796102        0.6918\n",
       "3  0.750683  0.708817  0.760693        0.7120\n",
       "4  0.723353  0.728967  0.727296        0.7346\n",
       "5  0.676375  0.752433  0.699378        0.7495\n",
       "6  0.641984  0.762500  0.667491        0.7529\n",
       "7  0.621762  0.769050  0.657057        0.7627\n",
       "8  0.610660  0.773567  0.635636        0.7688\n",
       "9  0.601292  0.778467  0.628106        0.7709"
      ]
     },
     "execution_count": 44,
     "metadata": {},
     "output_type": "execute_result"
    }
   ],
   "source": [
    "# Normalized Data model history\n",
    "pd.DataFrame(norm_history.history)"
   ]
  },
  {
   "cell_type": "code",
   "execution_count": 51,
   "id": "ff4aba9f",
   "metadata": {},
   "outputs": [
    {
     "data": {
      "image/png": "[encoded data removed]",
      "text/plain": [
       "<Figure size 640x480 with 1 Axes>"
      ]
     },
     "metadata": {},
     "output_type": "display_data"
    }
   ],
   "source": [
    "pd.DataFrame(norm_history.history).plot(title=\"Normalized data\");"
   ]
  },
  {
   "cell_type": "code",
   "execution_count": 50,
   "id": "ac896928",
   "metadata": {},
   "outputs": [
    {
     "data": {
      "image/png": "[encoded data removed]",
      "text/plain": [
       "<Figure size 640x480 with 1 Axes>"
      ]
     },
     "metadata": {},
     "output_type": "display_data"
    }
   ],
   "source": [
    "# Non-normalized Data model history\n",
    "pd.DataFrame(non_norm_history.history).plot(title=\"Non-normalized data\");"
   ]
  },
  {
   "cell_type": "markdown",
   "id": "a7a493f1",
   "metadata": {},
   "source": [
    "> **Note:** The same model with even slightly different data can produce *dramatically* different results. So, when you are comparing models, it's important to make sure you're comparing them on the same criteria (e.g same architecture but different data or same data but different architecture.)"
   ]
  },
  {
   "cell_type": "markdown",
   "id": "64a61f22",
   "metadata": {},
   "source": [
    "## Finding the ideal learning rate"
   ]
  },
  {
   "cell_type": "code",
   "execution_count": 53,
   "id": "9aaaea0b",
   "metadata": {},
   "outputs": [
    {
     "name": "stdout",
     "output_type": "stream",
     "text": [
      "Epoch 1/40\n",
      "1875/1875 [==============================] - 4s 2ms/step - loss: 1.1397 - accuracy: 0.5652 - val_loss: 0.7814 - val_accuracy: 0.7299 - lr: 0.0010\n",
      "Epoch 2/40\n",
      "1875/1875 [==============================] - 3s 2ms/step - loss: 0.6999 - accuracy: 0.7552 - val_loss: 0.7001 - val_accuracy: 0.7454 - lr: 0.0011\n",
      "Epoch 3/40\n",
      "1875/1875 [==============================] - 3s 2ms/step - loss: 0.6454 - accuracy: 0.7707 - val_loss: 0.6495 - val_accuracy: 0.7696 - lr: 0.0013\n",
      "Epoch 4/40\n",
      "1875/1875 [==============================] - 3s 2ms/step - loss: 0.6244 - accuracy: 0.7771 - val_loss: 0.6332 - val_accuracy: 0.7748 - lr: 0.0014\n",
      "Epoch 5/40\n",
      "1875/1875 [==============================] - 3s 2ms/step - loss: 0.6134 - accuracy: 0.7807 - val_loss: 0.6210 - val_accuracy: 0.7739 - lr: 0.0016\n",
      "Epoch 6/40\n",
      "1875/1875 [==============================] - 3s 2ms/step - loss: 0.6047 - accuracy: 0.7846 - val_loss: 0.6367 - val_accuracy: 0.7754 - lr: 0.0018\n",
      "Epoch 7/40\n",
      "1875/1875 [==============================] - 3s 2ms/step - loss: 0.5984 - accuracy: 0.7874 - val_loss: 0.6153 - val_accuracy: 0.7833 - lr: 0.0020\n",
      "Epoch 8/40\n",
      "1875/1875 [==============================] - 3s 2ms/step - loss: 0.5940 - accuracy: 0.7887 - val_loss: 0.6113 - val_accuracy: 0.7856 - lr: 0.0022\n",
      "Epoch 9/40\n",
      "1875/1875 [==============================] - 3s 2ms/step - loss: 0.5873 - accuracy: 0.7941 - val_loss: 0.6288 - val_accuracy: 0.7795 - lr: 0.0025\n",
      "Epoch 10/40\n",
      "1875/1875 [==============================] - 3s 2ms/step - loss: 0.5872 - accuracy: 0.7946 - val_loss: 0.6385 - val_accuracy: 0.7728 - lr: 0.0028\n",
      "Epoch 11/40\n",
      "1875/1875 [==============================] - 3s 2ms/step - loss: 0.5827 - accuracy: 0.7982 - val_loss: 0.6129 - val_accuracy: 0.7867 - lr: 0.0032\n",
      "Epoch 12/40\n",
      "1875/1875 [==============================] - 3s 2ms/step - loss: 0.5798 - accuracy: 0.8005 - val_loss: 0.6417 - val_accuracy: 0.7800 - lr: 0.0035\n",
      "Epoch 13/40\n",
      "1875/1875 [==============================] - 3s 2ms/step - loss: 0.5788 - accuracy: 0.8015 - val_loss: 0.6263 - val_accuracy: 0.7859 - lr: 0.0040\n",
      "Epoch 14/40\n",
      "1875/1875 [==============================] - 3s 2ms/step - loss: 0.5792 - accuracy: 0.7993 - val_loss: 0.5990 - val_accuracy: 0.7940 - lr: 0.0045\n",
      "Epoch 15/40\n",
      "1875/1875 [==============================] - 3s 2ms/step - loss: 0.5816 - accuracy: 0.8000 - val_loss: 0.5979 - val_accuracy: 0.7947 - lr: 0.0050\n",
      "Epoch 16/40\n",
      "1875/1875 [==============================] - 3s 2ms/step - loss: 0.5830 - accuracy: 0.8003 - val_loss: 0.5931 - val_accuracy: 0.7961 - lr: 0.0056\n",
      "Epoch 17/40\n",
      "1875/1875 [==============================] - 3s 2ms/step - loss: 0.5805 - accuracy: 0.8011 - val_loss: 0.6327 - val_accuracy: 0.7833 - lr: 0.0063\n",
      "Epoch 18/40\n",
      "1875/1875 [==============================] - 3s 2ms/step - loss: 0.5854 - accuracy: 0.7978 - val_loss: 0.6031 - val_accuracy: 0.7952 - lr: 0.0071\n",
      "Epoch 19/40\n",
      "1875/1875 [==============================] - 3s 2ms/step - loss: 0.5825 - accuracy: 0.7989 - val_loss: 0.6509 - val_accuracy: 0.7775 - lr: 0.0079\n",
      "Epoch 20/40\n",
      "1875/1875 [==============================] - 3s 2ms/step - loss: 0.5888 - accuracy: 0.7989 - val_loss: 0.6137 - val_accuracy: 0.7866 - lr: 0.0089\n",
      "Epoch 21/40\n",
      "1875/1875 [==============================] - 3s 2ms/step - loss: 0.5911 - accuracy: 0.7965 - val_loss: 0.6898 - val_accuracy: 0.7622 - lr: 0.0100\n",
      "Epoch 22/40\n",
      "1875/1875 [==============================] - 3s 2ms/step - loss: 0.5964 - accuracy: 0.7948 - val_loss: 0.6409 - val_accuracy: 0.7814 - lr: 0.0112\n",
      "Epoch 23/40\n",
      "1875/1875 [==============================] - 3s 2ms/step - loss: 0.6104 - accuracy: 0.7904 - val_loss: 0.6753 - val_accuracy: 0.7549 - lr: 0.0126\n",
      "Epoch 24/40\n",
      "1875/1875 [==============================] - 3s 2ms/step - loss: 0.6155 - accuracy: 0.7896 - val_loss: 0.6370 - val_accuracy: 0.7899 - lr: 0.0141\n",
      "Epoch 25/40\n",
      "1875/1875 [==============================] - 3s 2ms/step - loss: 0.6206 - accuracy: 0.7873 - val_loss: 0.7202 - val_accuracy: 0.7553 - lr: 0.0158\n",
      "Epoch 26/40\n",
      "1875/1875 [==============================] - 3s 2ms/step - loss: 0.6330 - accuracy: 0.7841 - val_loss: 0.7729 - val_accuracy: 0.7392 - lr: 0.0178\n",
      "Epoch 27/40\n",
      "1875/1875 [==============================] - 3s 2ms/step - loss: 0.6464 - accuracy: 0.7820 - val_loss: 0.6271 - val_accuracy: 0.7926 - lr: 0.0200\n",
      "Epoch 28/40\n",
      "1875/1875 [==============================] - 3s 2ms/step - loss: 0.6566 - accuracy: 0.7769 - val_loss: 0.6774 - val_accuracy: 0.7692 - lr: 0.0224\n",
      "Epoch 29/40\n",
      "1875/1875 [==============================] - 3s 2ms/step - loss: 0.6724 - accuracy: 0.7717 - val_loss: 0.6568 - val_accuracy: 0.7867 - lr: 0.0251\n",
      "Epoch 30/40\n",
      "1875/1875 [==============================] - 3s 2ms/step - loss: 0.6935 - accuracy: 0.7625 - val_loss: 0.7475 - val_accuracy: 0.7558 - lr: 0.0282\n",
      "Epoch 31/40\n",
      "1875/1875 [==============================] - 3s 2ms/step - loss: 0.7217 - accuracy: 0.7516 - val_loss: 0.7266 - val_accuracy: 0.7517 - lr: 0.0316\n",
      "Epoch 32/40\n",
      "1875/1875 [==============================] - 3s 2ms/step - loss: 0.7408 - accuracy: 0.7488 - val_loss: 0.7787 - val_accuracy: 0.7357 - lr: 0.0355\n",
      "Epoch 33/40\n",
      "1875/1875 [==============================] - 3s 2ms/step - loss: 0.7791 - accuracy: 0.7316 - val_loss: 0.9386 - val_accuracy: 0.6418 - lr: 0.0398\n",
      "Epoch 34/40\n",
      "1875/1875 [==============================] - 3s 2ms/step - loss: 0.8114 - accuracy: 0.7178 - val_loss: 0.8139 - val_accuracy: 0.7394 - lr: 0.0447\n",
      "Epoch 35/40\n",
      "1875/1875 [==============================] - 3s 2ms/step - loss: 0.8594 - accuracy: 0.7010 - val_loss: 1.0011 - val_accuracy: 0.6669 - lr: 0.0501\n",
      "Epoch 36/40\n",
      "1875/1875 [==============================] - 3s 2ms/step - loss: 1.1208 - accuracy: 0.5252 - val_loss: 1.0240 - val_accuracy: 0.5792 - lr: 0.0562\n",
      "Epoch 37/40\n",
      "1875/1875 [==============================] - 3s 2ms/step - loss: 1.3652 - accuracy: 0.4516 - val_loss: 1.7182 - val_accuracy: 0.3145 - lr: 0.0631\n",
      "Epoch 38/40\n",
      "1875/1875 [==============================] - 3s 2ms/step - loss: 1.6508 - accuracy: 0.3233 - val_loss: 1.5286 - val_accuracy: 0.3390 - lr: 0.0708\n",
      "Epoch 39/40\n",
      "1875/1875 [==============================] - 3s 2ms/step - loss: 1.7914 - accuracy: 0.2435 - val_loss: 2.1141 - val_accuracy: 0.1653 - lr: 0.0794\n",
      "Epoch 40/40\n",
      "1875/1875 [==============================] - 3s 2ms/step - loss: 1.9865 - accuracy: 0.1823 - val_loss: 1.9743 - val_accuracy: 0.1925 - lr: 0.0891\n"
     ]
    }
   ],
   "source": [
    "# Set the random seed\n",
    "tf.random.set_seed(42)\n",
    "\n",
    "# 1. Create the model\n",
    "model_4 = tf.keras.Sequential([\n",
    "    tf.keras.layers.Flatten(input_shape=(28,28)),\n",
    "    tf.keras.layers.Dense(4, activation='relu'),\n",
    "    tf.keras.layers.Dense(4, activation='relu'),\n",
    "    # output layer\n",
    "    tf.keras.layers.Dense(10, activation='softmax'),\n",
    "])\n",
    "\n",
    "# 2. Compile the model\n",
    "model_4.compile(loss=\"sparse_categorical_crossentropy\", optimizer=\"adam\", metrics=['accuracy'])\n",
    "\n",
    "# 3. Create the learning rate callback\n",
    "lr_scheduler = tf.keras.callbacks.LearningRateScheduler(lambda epoch: 1e-3 * 10**(epoch/20))\n",
    "\n",
    "# 4. Fit the model\n",
    "find_lr_history = model_4.fit(X_train_norm, \n",
    "                              y_train, \n",
    "                              epochs=40, \n",
    "                              validation_data=(X_test_norm, y_test), \n",
    "                              callbacks=[lr_scheduler])"
   ]
  },
  {
   "cell_type": "markdown",
   "id": "7bbc2c3d",
   "metadata": {},
   "source": [
    "**Plot the learning rate decay curve**"
   ]
  },
  {
   "cell_type": "code",
   "execution_count": 54,
   "id": "c3eda261",
   "metadata": {},
   "outputs": [
    {
     "data": {
      "text/plain": [
       "Text(0.5, 1.0, 'Finding the ideal learning rate')"
      ]
     },
     "execution_count": 54,
     "metadata": {},
     "output_type": "execute_result"
    },
    {
     "data": {
      "image/png": "[encoded data removed]",
      "text/plain": [
       "<Figure size 640x480 with 1 Axes>"
      ]
     },
     "metadata": {},
     "output_type": "display_data"
    }
   ],
   "source": [
    "import matplotlib.pyplot as plt\n",
    "\n",
    "lrs = 1e-3 * (10**(tf.range(40)/20))\n",
    "plt.semilogx(lrs, find_lr_history.history[\"loss\"])\n",
    "plt.xlabel(\"Learning rate\")\n",
    "plt.ylabel(\"Loss\")\n",
    "plt.title(\"Finding the ideal learning rate\")"
   ]
  },
  {
   "cell_type": "markdown",
   "id": "9b7ab9ab",
   "metadata": {},
   "source": [
    "> The **ideal learning rate** is where (region) the loss decrease sharply and the lowest point at the region."
   ]
  },
  {
   "cell_type": "code",
   "execution_count": 56,
   "id": "7f1e7fba",
   "metadata": {},
   "outputs": [
    {
     "data": {
      "text/plain": [
       "0.001"
      ]
     },
     "execution_count": 56,
     "metadata": {},
     "output_type": "execute_result"
    }
   ],
   "source": [
    "# For this problem, the ideal learning rate is the default `Adam` learning rate\n",
    "10**-3"
   ]
  },
  {
   "cell_type": "code",
   "execution_count": 58,
   "id": "0f4a7d0d",
   "metadata": {},
   "outputs": [
    {
     "name": "stdout",
     "output_type": "stream",
     "text": [
      "Epoch 1/20\n",
      "1875/1875 [==============================] - 4s 2ms/step - loss: 1.3265 - accuracy: 0.4882 - val_loss: 1.0222 - val_accuracy: 0.5944\n",
      "Epoch 2/20\n",
      "1875/1875 [==============================] - 3s 2ms/step - loss: 0.9033 - accuracy: 0.6457 - val_loss: 0.8601 - val_accuracy: 0.6647\n",
      "Epoch 3/20\n",
      "1875/1875 [==============================] - 3s 2ms/step - loss: 0.8177 - accuracy: 0.6773 - val_loss: 0.7958 - val_accuracy: 0.7108\n",
      "Epoch 4/20\n",
      "1875/1875 [==============================] - 3s 2ms/step - loss: 0.7530 - accuracy: 0.7245 - val_loss: 0.7611 - val_accuracy: 0.7353\n",
      "Epoch 5/20\n",
      "1875/1875 [==============================] - 3s 2ms/step - loss: 0.7140 - accuracy: 0.7468 - val_loss: 0.7218 - val_accuracy: 0.7514\n",
      "Epoch 6/20\n",
      "1875/1875 [==============================] - 3s 2ms/step - loss: 0.6921 - accuracy: 0.7552 - val_loss: 0.7160 - val_accuracy: 0.7501\n",
      "Epoch 7/20\n",
      "1875/1875 [==============================] - 3s 2ms/step - loss: 0.6791 - accuracy: 0.7581 - val_loss: 0.7052 - val_accuracy: 0.7513\n",
      "Epoch 8/20\n",
      "1875/1875 [==============================] - 3s 2ms/step - loss: 0.6692 - accuracy: 0.7616 - val_loss: 0.6913 - val_accuracy: 0.7596\n",
      "Epoch 9/20\n",
      "1875/1875 [==============================] - 3s 2ms/step - loss: 0.6608 - accuracy: 0.7654 - val_loss: 0.6950 - val_accuracy: 0.7578\n",
      "Epoch 10/20\n",
      "1875/1875 [==============================] - 3s 2ms/step - loss: 0.6554 - accuracy: 0.7670 - val_loss: 0.6911 - val_accuracy: 0.7586\n",
      "Epoch 11/20\n",
      "1875/1875 [==============================] - 3s 2ms/step - loss: 0.6516 - accuracy: 0.7670 - val_loss: 0.6830 - val_accuracy: 0.7626\n",
      "Epoch 12/20\n",
      "1875/1875 [==============================] - 3s 2ms/step - loss: 0.6461 - accuracy: 0.7697 - val_loss: 0.6858 - val_accuracy: 0.7612\n",
      "Epoch 13/20\n",
      "1875/1875 [==============================] - 3s 2ms/step - loss: 0.6436 - accuracy: 0.7698 - val_loss: 0.6808 - val_accuracy: 0.7644\n",
      "Epoch 14/20\n",
      "1875/1875 [==============================] - 3s 2ms/step - loss: 0.6400 - accuracy: 0.7723 - val_loss: 0.6743 - val_accuracy: 0.7650\n",
      "Epoch 15/20\n",
      "1875/1875 [==============================] - 3s 2ms/step - loss: 0.6372 - accuracy: 0.7733 - val_loss: 0.6724 - val_accuracy: 0.7660\n",
      "Epoch 16/20\n",
      "1875/1875 [==============================] - 3s 2ms/step - loss: 0.6336 - accuracy: 0.7736 - val_loss: 0.6880 - val_accuracy: 0.7599\n",
      "Epoch 17/20\n",
      "1875/1875 [==============================] - 3s 2ms/step - loss: 0.6327 - accuracy: 0.7735 - val_loss: 0.6757 - val_accuracy: 0.7651\n",
      "Epoch 18/20\n",
      "1875/1875 [==============================] - 3s 2ms/step - loss: 0.6296 - accuracy: 0.7745 - val_loss: 0.6711 - val_accuracy: 0.7674\n",
      "Epoch 19/20\n",
      "1875/1875 [==============================] - 3s 2ms/step - loss: 0.6282 - accuracy: 0.7766 - val_loss: 0.6788 - val_accuracy: 0.7632\n",
      "Epoch 20/20\n",
      "1875/1875 [==============================] - 3s 2ms/step - loss: 0.6267 - accuracy: 0.7774 - val_loss: 0.6833 - val_accuracy: 0.7620\n"
     ]
    }
   ],
   "source": [
    "# Refit a model with the ideal learning rate\n",
    "\n",
    "# Set the random seed\n",
    "tf.random.set_seed(42)\n",
    "\n",
    "# 1. Create the model\n",
    "model_5 = tf.keras.Sequential([\n",
    "    tf.keras.layers.Flatten(input_shape=(28,28)),\n",
    "    tf.keras.layers.Dense(4, activation='relu'),\n",
    "    tf.keras.layers.Dense(4, activation='relu'),\n",
    "    # output layer\n",
    "    tf.keras.layers.Dense(10, activation='softmax'),\n",
    "])\n",
    "\n",
    "# 2. Compile the model\n",
    "model_5.compile(loss=\"sparse_categorical_crossentropy\", \n",
    "                optimizer=tf.keras.optimizers.Adam(learning_rate=0.001), metrics=['accuracy'])\n",
    "\n",
    "# 3. Fit the model\n",
    "ideal_lr_history = model_5.fit(X_train_norm, \n",
    "                              y_train, \n",
    "                              epochs=20, \n",
    "                              validation_data=(X_test_norm, y_test))"
   ]
  },
  {
   "cell_type": "markdown",
   "id": "5712f5fe",
   "metadata": {},
   "source": [
    "## Evaluate Multi-class classification model\n",
    "To evaluate our multi-class classification model we could:\n",
    "- Evaluate its performance using other classification metrics (such as a confusion matrix)\n",
    "- Assess some of its predictions (through visualizations)\n",
    "- Improve its results (by training it for longer or changing the architecture)\n",
    "- Save and export it for use in an application"
   ]
  },
  {
   "cell_type": "code",
   "execution_count": null,
   "id": "41d5d759",
   "metadata": {},
   "outputs": [],
   "source": []
  }
 ],
 "metadata": {
  "kernelspec": {
   "display_name": "Python 3 (ipykernel)",
   "language": "python",
   "name": "python3"
  },
  "language_info": {
   "codemirror_mode": {
    "name": "ipython",
    "version": 3
   },
   "file_extension": ".py",
   "mimetype": "text/x-python",
   "name": "python",
   "nbconvert_exporter": "python",
   "pygments_lexer": "ipython3",
   "version": "3.9.13"
  }
 },
 "nbformat": 4,
 "nbformat_minor": 5
}
