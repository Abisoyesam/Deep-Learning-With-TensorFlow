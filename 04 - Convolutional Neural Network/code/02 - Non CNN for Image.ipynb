{
 "cells": [
  {
   "cell_type": "markdown",
   "id": "093b5a42",
   "metadata": {},
   "source": [
    "# Non CNN Model for Image data\n",
    "\n",
    "Fitting image data to Non CNN model. It works well but the accuracy isn't as good as CNN model."
   ]
  },
  {
   "cell_type": "code",
   "execution_count": 1,
   "id": "8e46538a",
   "metadata": {},
   "outputs": [],
   "source": [
    "import tensorflow as tf"
   ]
  },
  {
   "cell_type": "code",
   "execution_count": 8,
   "id": "397dfe2f",
   "metadata": {},
   "outputs": [],
   "source": [
    "ImageDataGenerator = tf.keras.preprocessing.image.ImageDataGenerator"
   ]
  },
  {
   "cell_type": "code",
   "execution_count": 10,
   "id": "f38527b3",
   "metadata": {},
   "outputs": [
    {
     "name": "stdout",
     "output_type": "stream",
     "text": [
      "Found 1500 images belonging to 2 classes.\n",
      "Found 500 images belonging to 2 classes.\n"
     ]
    }
   ],
   "source": [
    "# Preprocess the data\n",
    "train_datagen = ImageDataGenerator(rescale=1./255)\n",
    "test_datagen = ImageDataGenerator(rescale=1./255)\n",
    "\n",
    "# Set path to the data directory\n",
    "train_dir = \"../pizza_steak/train\"\n",
    "test_dir = \"../pizza_steak/test\"\n",
    "\n",
    "# Import data from directory\n",
    "train_data = train_datagen.flow_from_directory(train_dir, target_size=(224, 224), class_mode=\"binary\", seed=42)\n",
    "test_data = test_datagen.flow_from_directory(test_dir, target_size=(224, 224), class_mode=\"binary\", seed=42)"
   ]
  },
  {
   "cell_type": "code",
   "execution_count": 12,
   "id": "80c4dace",
   "metadata": {},
   "outputs": [
    {
     "data": {
      "text/plain": [
       "<keras.src.preprocessing.image.DirectoryIterator at 0x2af836fff70>"
      ]
     },
     "execution_count": 12,
     "metadata": {},
     "output_type": "execute_result"
    }
   ],
   "source": [
    "train_data"
   ]
  },
  {
   "cell_type": "code",
   "execution_count": 13,
   "id": "4c93fa29",
   "metadata": {
    "scrolled": true
   },
   "outputs": [
    {
     "name": "stdout",
     "output_type": "stream",
     "text": [
      "Epoch 1/5\n",
      "47/47 [==============================] - 20s 387ms/step - loss: 0.8169 - accuracy: 0.5187 - val_loss: 0.6932 - val_accuracy: 0.5000\n",
      "Epoch 2/5\n",
      "47/47 [==============================] - 18s 390ms/step - loss: 0.6932 - accuracy: 0.5000 - val_loss: 0.6932 - val_accuracy: 0.5000\n",
      "Epoch 3/5\n",
      "47/47 [==============================] - 16s 345ms/step - loss: 0.6932 - accuracy: 0.5000 - val_loss: 0.6932 - val_accuracy: 0.5000\n",
      "Epoch 4/5\n",
      "47/47 [==============================] - 19s 402ms/step - loss: 0.6932 - accuracy: 0.5000 - val_loss: 0.6932 - val_accuracy: 0.5000\n",
      "Epoch 5/5\n",
      "47/47 [==============================] - 16s 340ms/step - loss: 0.6932 - accuracy: 0.5000 - val_loss: 0.6932 - val_accuracy: 0.5000\n"
     ]
    }
   ],
   "source": [
    "# Set random seed\n",
    "tf.random.set_seed(42)\n",
    "\n",
    "# Create a model to replicate tensorflow playground\n",
    "model_1 = tf.keras.Sequential([\n",
    "    tf.keras.layers.Flatten(input_shape=(224, 224, 3)),\n",
    "    tf.keras.layers.Dense(4, activation=\"relu\"),\n",
    "    tf.keras.layers.Dense(4, activation=\"relu\"),\n",
    "    tf.keras.layers.Dense(1, activation=\"sigmoid\")\n",
    "])\n",
    "\n",
    "# Compile the model\n",
    "model_1.compile(loss=\"binary_crossentropy\", \n",
    "                optimizer=\"adam\", metrics=['accuracy'])\n",
    "\n",
    "# Fit the model\n",
    "history_1 = model_1.fit(train_data, epochs=5, \n",
    "                        steps_per_epoch=len(train_data), \n",
    "                        validation_data=test_data, validation_steps=len(test_data))"
   ]
  },
  {
   "cell_type": "code",
   "execution_count": 15,
   "id": "a95725aa",
   "metadata": {},
   "outputs": [
    {
     "name": "stdout",
     "output_type": "stream",
     "text": [
      "Model: \"sequential_1\"\n",
      "_________________________________________________________________\n",
      " Layer (type)                Output Shape              Param #   \n",
      "=================================================================\n",
      " flatten_1 (Flatten)         (None, 150528)            0         \n",
      "                                                                 \n",
      " dense (Dense)               (None, 4)                 602116    \n",
      "                                                                 \n",
      " dense_1 (Dense)             (None, 4)                 20        \n",
      "                                                                 \n",
      " dense_2 (Dense)             (None, 1)                 5         \n",
      "                                                                 \n",
      "=================================================================\n",
      "Total params: 602141 (2.30 MB)\n",
      "Trainable params: 602141 (2.30 MB)\n",
      "Non-trainable params: 0 (0.00 Byte)\n",
      "_________________________________________________________________\n"
     ]
    }
   ],
   "source": [
    "model_1.summary()"
   ]
  },
  {
   "cell_type": "markdown",
   "id": "67489139",
   "metadata": {},
   "source": [
    "**Model 2: Increase the learning rate**"
   ]
  },
  {
   "cell_type": "code",
   "execution_count": 14,
   "id": "496c13dc",
   "metadata": {},
   "outputs": [
    {
     "name": "stdout",
     "output_type": "stream",
     "text": [
      "Epoch 1/5\n",
      "47/47 [==============================] - 18s 353ms/step - loss: 7.2869 - accuracy: 0.5020 - val_loss: 0.6936 - val_accuracy: 0.5000\n",
      "Epoch 2/5\n",
      "47/47 [==============================] - 16s 349ms/step - loss: 0.6934 - accuracy: 0.4867 - val_loss: 0.6932 - val_accuracy: 0.5000\n",
      "Epoch 3/5\n",
      "47/47 [==============================] - 18s 381ms/step - loss: 0.6933 - accuracy: 0.4773 - val_loss: 0.6931 - val_accuracy: 0.5000\n",
      "Epoch 4/5\n",
      "47/47 [==============================] - 17s 364ms/step - loss: 0.6934 - accuracy: 0.4947 - val_loss: 0.6932 - val_accuracy: 0.5000\n",
      "Epoch 5/5\n",
      "47/47 [==============================] - 18s 376ms/step - loss: 0.6936 - accuracy: 0.4800 - val_loss: 0.6931 - val_accuracy: 0.5000\n"
     ]
    }
   ],
   "source": [
    "# Set random seed\n",
    "tf.random.set_seed(42)\n",
    "\n",
    "# Create a model to replicate tensorflow playground\n",
    "model_2 = tf.keras.Sequential([\n",
    "    tf.keras.layers.Flatten(input_shape=(224, 224, 3)),\n",
    "    tf.keras.layers.Dense(4, activation=\"relu\"),\n",
    "    tf.keras.layers.Dense(4, activation=\"relu\"),\n",
    "    tf.keras.layers.Dense(1, activation=\"sigmoid\")\n",
    "])\n",
    "\n",
    "# Compile the model\n",
    "model_2.compile(loss=\"binary_crossentropy\", \n",
    "                optimizer=tf.keras.optimizers.Adam(learning_rate=0.01), \n",
    "                metrics=['accuracy'])\n",
    "\n",
    "# Fit the model\n",
    "history_2 = model_2.fit(train_data, epochs=5, \n",
    "                        steps_per_epoch=len(train_data), \n",
    "                        validation_data=test_data, validation_steps=len(test_data))"
   ]
  },
  {
   "cell_type": "markdown",
   "id": "dcd880e1",
   "metadata": {},
   "source": [
    "**Model 3: Increase number of hidden units (x25) and add another hidden layer**"
   ]
  },
  {
   "cell_type": "code",
   "execution_count": 16,
   "id": "f0b039cd",
   "metadata": {},
   "outputs": [
    {
     "name": "stdout",
     "output_type": "stream",
     "text": [
      "Epoch 1/5\n",
      "47/47 [==============================] - 21s 418ms/step - loss: 66.6460 - accuracy: 0.5853 - val_loss: 1.1211 - val_accuracy: 0.7560\n",
      "Epoch 2/5\n",
      "47/47 [==============================] - 19s 398ms/step - loss: 0.6786 - accuracy: 0.7373 - val_loss: 1.6209 - val_accuracy: 0.5100\n",
      "Epoch 3/5\n",
      "47/47 [==============================] - 19s 401ms/step - loss: 0.7097 - accuracy: 0.6973 - val_loss: 0.6030 - val_accuracy: 0.7100\n",
      "Epoch 4/5\n",
      "47/47 [==============================] - 19s 412ms/step - loss: 0.6919 - accuracy: 0.6867 - val_loss: 0.5248 - val_accuracy: 0.7560\n",
      "Epoch 5/5\n",
      "47/47 [==============================] - 19s 400ms/step - loss: 0.5284 - accuracy: 0.7487 - val_loss: 0.4666 - val_accuracy: 0.7820\n"
     ]
    }
   ],
   "source": [
    "# Set random seed\n",
    "tf.random.set_seed(42)\n",
    "\n",
    "# Create a model to replicate tensorflow playground\n",
    "model_3 = tf.keras.Sequential([\n",
    "    tf.keras.layers.Flatten(input_shape=(224, 224, 3)),\n",
    "    tf.keras.layers.Dense(100, activation=\"relu\"),\n",
    "    tf.keras.layers.Dense(100, activation=\"relu\"),\n",
    "    tf.keras.layers.Dense(100, activation=\"relu\"),\n",
    "    tf.keras.layers.Dense(1, activation=\"sigmoid\")\n",
    "])\n",
    "\n",
    "# Compile the model\n",
    "model_3.compile(loss=\"binary_crossentropy\", \n",
    "                optimizer=tf.keras.optimizers.Adam(learning_rate=0.01), \n",
    "                metrics=['accuracy'])\n",
    "\n",
    "# Fit the model\n",
    "history_3 = model_3.fit(train_data, epochs=5, \n",
    "                        steps_per_epoch=len(train_data), \n",
    "                        validation_data=test_data, validation_steps=len(test_data))"
   ]
  },
  {
   "cell_type": "markdown",
   "id": "7007ace6",
   "metadata": {},
   "source": [
    "**Model 3 is much better. The accuracy is `~75%` and the validation accuracy is `~78%`. Nonetheless, the model is not as good as training with CNN which has an accuracy of `86%`...**"
   ]
  },
  {
   "cell_type": "code",
   "execution_count": 17,
   "id": "fef0bb6a",
   "metadata": {},
   "outputs": [
    {
     "name": "stdout",
     "output_type": "stream",
     "text": [
      "Model: \"sequential_3\"\n",
      "_________________________________________________________________\n",
      " Layer (type)                Output Shape              Param #   \n",
      "=================================================================\n",
      " flatten_3 (Flatten)         (None, 150528)            0         \n",
      "                                                                 \n",
      " dense_6 (Dense)             (None, 100)               15052900  \n",
      "                                                                 \n",
      " dense_7 (Dense)             (None, 100)               10100     \n",
      "                                                                 \n",
      " dense_8 (Dense)             (None, 100)               10100     \n",
      "                                                                 \n",
      " dense_9 (Dense)             (None, 1)                 101       \n",
      "                                                                 \n",
      "=================================================================\n",
      "Total params: 15073201 (57.50 MB)\n",
      "Trainable params: 15073201 (57.50 MB)\n",
      "Non-trainable params: 0 (0.00 Byte)\n",
      "_________________________________________________________________\n"
     ]
    }
   ],
   "source": [
    "model_3.summary()"
   ]
  },
  {
   "cell_type": "markdown",
   "id": "90fb8051",
   "metadata": {},
   "source": [
    "> From `model 3` summary, even with over 15 million trainable parameters, the model perform not really great compared to CNN model of over 31 thousand trainable parameters."
   ]
  },
  {
   "cell_type": "markdown",
   "id": "8ce23484",
   "metadata": {},
   "source": [
    "## Breakdown of CNN model? Click <a href=\"./03 - Breaking down CNN model.ipynb\">here</a>"
   ]
  }
 ],
 "metadata": {
  "kernelspec": {
   "display_name": "Python 3 (ipykernel)",
   "language": "python",
   "name": "python3"
  },
  "language_info": {
   "codemirror_mode": {
    "name": "ipython",
    "version": 3
   },
   "file_extension": ".py",
   "mimetype": "text/x-python",
   "name": "python",
   "nbconvert_exporter": "python",
   "pygments_lexer": "ipython3",
   "version": "3.9.13"
  }
 },
 "nbformat": 4,
 "nbformat_minor": 5
}
