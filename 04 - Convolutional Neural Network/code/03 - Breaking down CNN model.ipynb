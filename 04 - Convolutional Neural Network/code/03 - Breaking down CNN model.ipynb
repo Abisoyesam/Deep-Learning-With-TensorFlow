{
 "cells": [
  {
   "cell_type": "markdown",
   "id": "67bc3d54",
   "metadata": {},
   "source": [
    "# Breaking down CNN model\n",
    "\n",
    "## Binary Classification Explanation\n",
    "- Become one with the data (visualize, visualize, visualize)\n",
    "- Preprocess the data (prepared it for our model, by scaling - normalization)\n",
    "- Create a model (start with a baseline)\n",
    "- Fit the model\n",
    "- Evaluate the model\n",
    "- Adjust different parameters and improve the model (try to beat our baseline)\n",
    "- Repeat until satisfied "
   ]
  }
 ],
 "metadata": {
  "kernelspec": {
   "display_name": "Python 3 (ipykernel)",
   "language": "python",
   "name": "python3"
  },
  "language_info": {
   "codemirror_mode": {
    "name": "ipython",
    "version": 3
   },
   "file_extension": ".py",
   "mimetype": "text/x-python",
   "name": "python",
   "nbconvert_exporter": "python",
   "pygments_lexer": "ipython3",
   "version": "3.9.13"
  }
 },
 "nbformat": 4,
 "nbformat_minor": 5
}
