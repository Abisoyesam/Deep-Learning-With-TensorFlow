{
 "cells": [
  {
   "cell_type": "markdown",
   "id": "5b651895",
   "metadata": {},
   "source": [
    "# Tensor Manipulations\n",
    "<hr>\n",
    "\n",
    "- Change datatype of tensor"
   ]
  },
  {
   "cell_type": "code",
   "execution_count": 1,
   "id": "3675769d",
   "metadata": {},
   "outputs": [],
   "source": [
    "import tensorflow as tf"
   ]
  },
  {
   "cell_type": "code",
   "execution_count": 6,
   "id": "e31d0855",
   "metadata": {},
   "outputs": [
    {
     "data": {
      "text/plain": [
       "tf.float32"
      ]
     },
     "execution_count": 6,
     "metadata": {},
     "output_type": "execute_result"
    }
   ],
   "source": [
    "# change the datatype of a tensor\n",
    "\n",
    "B = tf.constant([1.7, 7.4])\n",
    "B.dtype\n",
    "\n",
    "# by default it is always 32bits. By keeping certain parts of the model in the\n",
    "# 32 bit type for numerical stability and metrics accuracy."
   ]
  },
  {
   "cell_type": "code",
   "execution_count": 7,
   "id": "2f3152d9",
   "metadata": {},
   "outputs": [
    {
     "data": {
      "text/plain": [
       "tf.int32"
      ]
     },
     "execution_count": 7,
     "metadata": {},
     "output_type": "execute_result"
    }
   ],
   "source": [
    "C = tf.constant([5, 10])\n",
    "C.dtype"
   ]
  },
  {
   "cell_type": "markdown",
   "id": "de3fa8ba",
   "metadata": {},
   "source": [
    "`tf.cast()`"
   ]
  },
  {
   "cell_type": "code",
   "execution_count": 8,
   "id": "c86b024b",
   "metadata": {},
   "outputs": [
    {
     "data": {
      "text/plain": [
       "(<tf.Tensor: shape=(2,), dtype=float16, numpy=array([1.7, 7.4], dtype=float16)>,\n",
       " tf.float16)"
      ]
     },
     "execution_count": 8,
     "metadata": {},
     "output_type": "execute_result"
    }
   ],
   "source": [
    "# change from float32 to float16 (reduce precision)\n",
    "# modern accelerators can run operations faster in the 16-bit dtypes\n",
    "\n",
    "D = tf.cast(B, dtype=tf.float16)\n",
    "D, D.dtype"
   ]
  },
  {
   "cell_type": "code",
   "execution_count": 9,
   "id": "6355f8c3",
   "metadata": {},
   "outputs": [
    {
     "data": {
      "text/plain": [
       "<tf.Tensor: shape=(2,), dtype=float32, numpy=array([ 5., 10.], dtype=float32)>"
      ]
     },
     "execution_count": 9,
     "metadata": {},
     "output_type": "execute_result"
    }
   ],
   "source": [
    "# change from int32 to float32\n",
    "\n",
    "E = tf.cast(C, dtype=tf.float32)\n",
    "E"
   ]
  },
  {
   "cell_type": "code",
   "execution_count": null,
   "id": "403131d4",
   "metadata": {},
   "outputs": [],
   "source": []
  }
 ],
 "metadata": {
  "kernelspec": {
   "display_name": "Python 3 (ipykernel)",
   "language": "python",
   "name": "python3"
  },
  "language_info": {
   "codemirror_mode": {
    "name": "ipython",
    "version": 3
   },
   "file_extension": ".py",
   "mimetype": "text/x-python",
   "name": "python",
   "nbconvert_exporter": "python",
   "pygments_lexer": "ipython3",
   "version": "3.9.13"
  }
 },
 "nbformat": 4,
 "nbformat_minor": 5
}
