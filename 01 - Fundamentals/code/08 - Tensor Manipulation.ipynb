{
 "cells": [
  {
   "cell_type": "markdown",
   "id": "581f9b65",
   "metadata": {},
   "source": [
    "# Tensor Manipulations\n",
    "<hr>\n",
    "\n",
    "- <a href=\"#dtype\">Change datatype of tensor</a>\n",
    "- <a href=\"#aggregate\">Aggregating tensor</a>\n",
    "- <a href=\"#position\">Positional max and min</a>\n",
    "- <a href=\"#squeeze\">Squeezing tensor</a>\n",
    "- <a href=\"#one-hot\">One-hot encoding</a>"
   ]
  },
  {
   "cell_type": "code",
   "execution_count": 1,
   "id": "32079044",
   "metadata": {},
   "outputs": [],
   "source": [
    "import tensorflow as tf"
   ]
  },
  {
   "cell_type": "markdown",
   "id": "209c35f9",
   "metadata": {},
   "source": [
    "<div id='dtype'></div>\n",
    "\n",
    "## Change datatype\n",
    "`tf.cast()`"
   ]
  },
  {
   "cell_type": "code",
   "execution_count": 6,
   "id": "4addf617",
   "metadata": {},
   "outputs": [
    {
     "data": {
      "text/plain": [
       "tf.float32"
      ]
     },
     "execution_count": 6,
     "metadata": {},
     "output_type": "execute_result"
    }
   ],
   "source": [
    "# change the datatype of a tensor\n",
    "\n",
    "B = tf.constant([1.7, 7.4])\n",
    "B.dtype\n",
    "\n",
    "# by default it is always 32bits. By keeping certain parts of the model in the\n",
    "# 32 bit type for numerical stability and metrics accuracy."
   ]
  },
  {
   "cell_type": "code",
   "execution_count": 7,
   "id": "6364e9a5",
   "metadata": {},
   "outputs": [
    {
     "data": {
      "text/plain": [
       "tf.int32"
      ]
     },
     "execution_count": 7,
     "metadata": {},
     "output_type": "execute_result"
    }
   ],
   "source": [
    "C = tf.constant([5, 10])\n",
    "C.dtype"
   ]
  },
  {
   "cell_type": "markdown",
   "id": "d3002b06",
   "metadata": {},
   "source": [
    "`tf.cast()`"
   ]
  },
  {
   "cell_type": "code",
   "execution_count": 8,
   "id": "28191d20",
   "metadata": {},
   "outputs": [
    {
     "data": {
      "text/plain": [
       "(<tf.Tensor: shape=(2,), dtype=float16, numpy=array([1.7, 7.4], dtype=float16)>,\n",
       " tf.float16)"
      ]
     },
     "execution_count": 8,
     "metadata": {},
     "output_type": "execute_result"
    }
   ],
   "source": [
    "# change from float32 to float16 (reduce precision)\n",
    "# modern accelerators can run operations faster in the 16-bit dtypes\n",
    "\n",
    "D = tf.cast(B, dtype=tf.float16)\n",
    "D, D.dtype"
   ]
  },
  {
   "cell_type": "code",
   "execution_count": 9,
   "id": "cc8e528e",
   "metadata": {},
   "outputs": [
    {
     "data": {
      "text/plain": [
       "<tf.Tensor: shape=(2,), dtype=float32, numpy=array([ 5., 10.], dtype=float32)>"
      ]
     },
     "execution_count": 9,
     "metadata": {},
     "output_type": "execute_result"
    }
   ],
   "source": [
    "# change from int32 to float32\n",
    "\n",
    "E = tf.cast(C, dtype=tf.float32)\n",
    "E"
   ]
  },
  {
   "cell_type": "markdown",
   "id": "bd672510",
   "metadata": {},
   "source": [
    "<div id='aggregate'></div>\n",
    "\n",
    "## Aggregating tensors\n",
    "\n",
    "Aggregating tensors = condensing them from multiple values down to smaller amount of values\n",
    "\n",
    "- Getting absolute value\n",
    "- Getting mean value\n",
    "- Getting minimum value\n",
    "- Getting maximum value"
   ]
  },
  {
   "cell_type": "code",
   "execution_count": 10,
   "id": "ad6d57ce",
   "metadata": {},
   "outputs": [
    {
     "data": {
      "text/plain": [
       "<tf.Tensor: shape=(2,), dtype=int32, numpy=array([ -7, -10])>"
      ]
     },
     "execution_count": 10,
     "metadata": {},
     "output_type": "execute_result"
    }
   ],
   "source": [
    "# get the absolute values\n",
    "\n",
    "D = tf.constant([-7, -10])\n",
    "D"
   ]
  },
  {
   "cell_type": "code",
   "execution_count": 11,
   "id": "2416359b",
   "metadata": {},
   "outputs": [
    {
     "data": {
      "text/plain": [
       "<tf.Tensor: shape=(2,), dtype=int32, numpy=array([ 7, 10])>"
      ]
     },
     "execution_count": 11,
     "metadata": {},
     "output_type": "execute_result"
    }
   ],
   "source": [
    "# turn negative to positive\n",
    "tf.abs(D)"
   ]
  },
  {
   "cell_type": "code",
   "execution_count": 15,
   "id": "e1603f67",
   "metadata": {},
   "outputs": [
    {
     "data": {
      "text/plain": [
       "<tf.Tensor: shape=(50,), dtype=int32, numpy=\n",
       "array([ 1, 32, 99, 93, 74,  1, 33, 71, 32, 77, 65, 56, 74, 52, 69, 89, 47,\n",
       "       17, 37, 80, 83, 36, 57, 88, 43, 41, 30, 28,  4, 28, 15, 21, 58, 42,\n",
       "       34, 17, 64, 16, 47, 44, 74, 85, 98, 74, 71, 98, 81, 94, 71, 33])>"
      ]
     },
     "execution_count": 15,
     "metadata": {},
     "output_type": "execute_result"
    }
   ],
   "source": [
    "# create random tensor\n",
    "import numpy as np\n",
    "\n",
    "E = tf.constant(np.random.randint(0, 100, size=50))\n",
    "E"
   ]
  },
  {
   "cell_type": "code",
   "execution_count": 17,
   "id": "4a8782ca",
   "metadata": {},
   "outputs": [
    {
     "data": {
      "text/plain": [
       "(<tf.Tensor: shape=(), dtype=int32, numpy=50>,\n",
       " <tf.Tensor: shape=(1,), dtype=int32, numpy=array([50])>,\n",
       " 1)"
      ]
     },
     "execution_count": 17,
     "metadata": {},
     "output_type": "execute_result"
    }
   ],
   "source": [
    "tf.size(E), tf.shape(E), E.ndim"
   ]
  },
  {
   "cell_type": "markdown",
   "id": "189120eb",
   "metadata": {},
   "source": [
    "`tf.reduce_min()`"
   ]
  },
  {
   "cell_type": "code",
   "execution_count": 18,
   "id": "f59b33d6",
   "metadata": {},
   "outputs": [
    {
     "data": {
      "text/plain": [
       "<tf.Tensor: shape=(), dtype=int32, numpy=1>"
      ]
     },
     "execution_count": 18,
     "metadata": {},
     "output_type": "execute_result"
    }
   ],
   "source": [
    "# get the min\n",
    "\n",
    "tf.reduce_min(E)"
   ]
  },
  {
   "cell_type": "markdown",
   "id": "9064a037",
   "metadata": {},
   "source": [
    "`tf.reduce_max()`"
   ]
  },
  {
   "cell_type": "code",
   "execution_count": 19,
   "id": "80935226",
   "metadata": {},
   "outputs": [
    {
     "data": {
      "text/plain": [
       "<tf.Tensor: shape=(), dtype=int32, numpy=99>"
      ]
     },
     "execution_count": 19,
     "metadata": {},
     "output_type": "execute_result"
    }
   ],
   "source": [
    "# get the maximum value\n",
    "tf.reduce_max(E)"
   ]
  },
  {
   "cell_type": "markdown",
   "id": "a0eba072",
   "metadata": {},
   "source": [
    "`tf.reduce_mean()`"
   ]
  },
  {
   "cell_type": "code",
   "execution_count": 20,
   "id": "221e6c28",
   "metadata": {},
   "outputs": [
    {
     "data": {
      "text/plain": [
       "<tf.Tensor: shape=(), dtype=int32, numpy=53>"
      ]
     },
     "execution_count": 20,
     "metadata": {},
     "output_type": "execute_result"
    }
   ],
   "source": [
    "# find the mean\n",
    "tf.reduce_mean(E)"
   ]
  },
  {
   "cell_type": "markdown",
   "id": "ddedb51e",
   "metadata": {},
   "source": [
    "`tf.reduce_sum()`"
   ]
  },
  {
   "cell_type": "code",
   "execution_count": 21,
   "id": "92b21187",
   "metadata": {},
   "outputs": [
    {
     "data": {
      "text/plain": [
       "<tf.Tensor: shape=(), dtype=int32, numpy=2674>"
      ]
     },
     "execution_count": 21,
     "metadata": {},
     "output_type": "execute_result"
    }
   ],
   "source": [
    "tf.reduce_sum(E)"
   ]
  },
  {
   "cell_type": "markdown",
   "id": "80b865d5",
   "metadata": {},
   "source": [
    "**Note:** To find the standard deviation and variance, you may have to import `tensorflow_probability` as in:\n",
    "\n",
    "```py\n",
    "import tensorflow_probability as tfp\n",
    "```"
   ]
  },
  {
   "cell_type": "code",
   "execution_count": 29,
   "id": "24cd778d",
   "metadata": {},
   "outputs": [
    {
     "data": {
      "text/plain": [
       "<tf.Tensor: shape=(), dtype=float64, numpy=27.71298612564153>"
      ]
     },
     "execution_count": 29,
     "metadata": {},
     "output_type": "execute_result"
    }
   ],
   "source": [
    "# another way to find standard deviation\n",
    "\n",
    "tf.math.reduce_std(tf.cast(E, dtype=tf.float64))"
   ]
  },
  {
   "cell_type": "code",
   "execution_count": 31,
   "id": "cfc1b947",
   "metadata": {},
   "outputs": [
    {
     "data": {
      "text/plain": [
       "<tf.Tensor: shape=(), dtype=float64, numpy=768.0096000000001>"
      ]
     },
     "execution_count": 31,
     "metadata": {},
     "output_type": "execute_result"
    }
   ],
   "source": [
    "# another way to find variance of a tensor\n",
    "\n",
    "tf.math.reduce_variance(tf.cast(E, dtype=tf.float64))"
   ]
  },
  {
   "cell_type": "markdown",
   "id": "fed76858",
   "metadata": {},
   "source": [
    "**N.B:** Without converting the dytpe from `int` to `float` it won't work!"
   ]
  },
  {
   "cell_type": "markdown",
   "id": "f4fefa56",
   "metadata": {},
   "source": [
    "<div id='position'></div>\n",
    "\n",
    "## Positional Max and Min\n",
    "\n",
    "At what index the max or min occurs using `tf.argmax()` and `tf.argmin()` respectively."
   ]
  },
  {
   "cell_type": "code",
   "execution_count": 33,
   "id": "d25ff36a",
   "metadata": {},
   "outputs": [
    {
     "data": {
      "text/plain": [
       "<tf.Tensor: shape=(50,), dtype=float32, numpy=\n",
       "array([0.6645621 , 0.44100678, 0.3528825 , 0.46448255, 0.03366041,\n",
       "       0.68467236, 0.74011743, 0.8724445 , 0.22632635, 0.22319686,\n",
       "       0.3103881 , 0.7223358 , 0.13318717, 0.5480639 , 0.5746088 ,\n",
       "       0.8996835 , 0.00946367, 0.5212307 , 0.6345445 , 0.1993283 ,\n",
       "       0.72942245, 0.54583454, 0.10756552, 0.6767061 , 0.6602763 ,\n",
       "       0.33695042, 0.60141766, 0.21062577, 0.8527372 , 0.44062173,\n",
       "       0.9485276 , 0.23752594, 0.81179297, 0.5263394 , 0.494308  ,\n",
       "       0.21612847, 0.8457197 , 0.8718841 , 0.3083862 , 0.6868038 ,\n",
       "       0.23764038, 0.7817228 , 0.9671384 , 0.06870162, 0.79873943,\n",
       "       0.66028714, 0.5871513 , 0.16461694, 0.7381023 , 0.32054043],\n",
       "      dtype=float32)>"
      ]
     },
     "execution_count": 33,
     "metadata": {},
     "output_type": "execute_result"
    }
   ],
   "source": [
    "tf.random.set_seed(42)\n",
    "F = tf.random.uniform(shape=[50])\n",
    "F"
   ]
  },
  {
   "cell_type": "code",
   "execution_count": 34,
   "id": "1f91d58c",
   "metadata": {},
   "outputs": [
    {
     "data": {
      "text/plain": [
       "<tf.Tensor: shape=(), dtype=int64, numpy=42>"
      ]
     },
     "execution_count": 34,
     "metadata": {},
     "output_type": "execute_result"
    }
   ],
   "source": [
    "# find the position at max\n",
    "\n",
    "tf.argmax(F)"
   ]
  },
  {
   "cell_type": "code",
   "execution_count": 35,
   "id": "cd8797a5",
   "metadata": {},
   "outputs": [
    {
     "data": {
      "text/plain": [
       "<tf.Tensor: shape=(), dtype=float32, numpy=0.9671384>"
      ]
     },
     "execution_count": 35,
     "metadata": {},
     "output_type": "execute_result"
    }
   ],
   "source": [
    "# index on the largest value\n",
    "F[tf.argmax(F)]"
   ]
  },
  {
   "cell_type": "code",
   "execution_count": 36,
   "id": "f35d2fdc",
   "metadata": {},
   "outputs": [
    {
     "data": {
      "text/plain": [
       "<tf.Tensor: shape=(), dtype=float32, numpy=0.9671384>"
      ]
     },
     "execution_count": 36,
     "metadata": {},
     "output_type": "execute_result"
    }
   ],
   "source": [
    "tf.reduce_max(F)"
   ]
  },
  {
   "cell_type": "code",
   "execution_count": 37,
   "id": "5c3661b8",
   "metadata": {},
   "outputs": [],
   "source": [
    "# check for equality\n",
    "\n",
    "assert F[tf.argmax(F)] == tf.reduce_max(F)\n",
    "# if no error, it is equal otherwise, it is not."
   ]
  },
  {
   "cell_type": "code",
   "execution_count": 38,
   "id": "c5ecff53",
   "metadata": {},
   "outputs": [
    {
     "data": {
      "text/plain": [
       "<tf.Tensor: shape=(), dtype=int64, numpy=16>"
      ]
     },
     "execution_count": 38,
     "metadata": {},
     "output_type": "execute_result"
    }
   ],
   "source": [
    "# find the positional minimum\n",
    "\n",
    "tf.argmin(F)"
   ]
  },
  {
   "cell_type": "code",
   "execution_count": 39,
   "id": "ffa9e989",
   "metadata": {},
   "outputs": [
    {
     "data": {
      "text/plain": [
       "<tf.Tensor: shape=(), dtype=float32, numpy=0.009463668>"
      ]
     },
     "execution_count": 39,
     "metadata": {},
     "output_type": "execute_result"
    }
   ],
   "source": [
    "# find minimum using positional mininum\n",
    "\n",
    "F[tf.argmin(F)]"
   ]
  },
  {
   "cell_type": "code",
   "execution_count": 40,
   "id": "dc7287e6",
   "metadata": {},
   "outputs": [
    {
     "data": {
      "text/plain": [
       "<tf.Tensor: shape=(), dtype=float32, numpy=0.009463668>"
      ]
     },
     "execution_count": 40,
     "metadata": {},
     "output_type": "execute_result"
    }
   ],
   "source": [
    "tf.reduce_min(F)"
   ]
  },
  {
   "cell_type": "markdown",
   "id": "64aad935",
   "metadata": {},
   "source": [
    "<div id='squeeze'></div>\n",
    "\n",
    "## Squeezing tensor\n",
    "\n",
    "Removing dimension of size 1 from the shape of a tensor."
   ]
  },
  {
   "cell_type": "code",
   "execution_count": 43,
   "id": "09a56218",
   "metadata": {},
   "outputs": [
    {
     "data": {
      "text/plain": [
       "<tf.Tensor: shape=(1, 1, 1, 1, 50), dtype=float32, numpy=\n",
       "array([[[[[0.6645621 , 0.44100678, 0.3528825 , 0.46448255, 0.03366041,\n",
       "           0.68467236, 0.74011743, 0.8724445 , 0.22632635, 0.22319686,\n",
       "           0.3103881 , 0.7223358 , 0.13318717, 0.5480639 , 0.5746088 ,\n",
       "           0.8996835 , 0.00946367, 0.5212307 , 0.6345445 , 0.1993283 ,\n",
       "           0.72942245, 0.54583454, 0.10756552, 0.6767061 , 0.6602763 ,\n",
       "           0.33695042, 0.60141766, 0.21062577, 0.8527372 , 0.44062173,\n",
       "           0.9485276 , 0.23752594, 0.81179297, 0.5263394 , 0.494308  ,\n",
       "           0.21612847, 0.8457197 , 0.8718841 , 0.3083862 , 0.6868038 ,\n",
       "           0.23764038, 0.7817228 , 0.9671384 , 0.06870162, 0.79873943,\n",
       "           0.66028714, 0.5871513 , 0.16461694, 0.7381023 , 0.32054043]]]]],\n",
       "      dtype=float32)>"
      ]
     },
     "execution_count": 43,
     "metadata": {},
     "output_type": "execute_result"
    }
   ],
   "source": [
    "# create a tensor\n",
    "tf.random.set_seed(42)\n",
    "G = tf.constant(tf.random.uniform(shape=[50]), shape=(1,1,1,1,50))\n",
    "G"
   ]
  },
  {
   "cell_type": "code",
   "execution_count": 44,
   "id": "90b8e466",
   "metadata": {},
   "outputs": [
    {
     "data": {
      "text/plain": [
       "TensorShape([1, 1, 1, 1, 50])"
      ]
     },
     "execution_count": 44,
     "metadata": {},
     "output_type": "execute_result"
    }
   ],
   "source": [
    "G.shape"
   ]
  },
  {
   "cell_type": "code",
   "execution_count": 45,
   "id": "813b840f",
   "metadata": {},
   "outputs": [
    {
     "data": {
      "text/plain": [
       "<tf.Tensor: shape=(50,), dtype=float32, numpy=\n",
       "array([0.6645621 , 0.44100678, 0.3528825 , 0.46448255, 0.03366041,\n",
       "       0.68467236, 0.74011743, 0.8724445 , 0.22632635, 0.22319686,\n",
       "       0.3103881 , 0.7223358 , 0.13318717, 0.5480639 , 0.5746088 ,\n",
       "       0.8996835 , 0.00946367, 0.5212307 , 0.6345445 , 0.1993283 ,\n",
       "       0.72942245, 0.54583454, 0.10756552, 0.6767061 , 0.6602763 ,\n",
       "       0.33695042, 0.60141766, 0.21062577, 0.8527372 , 0.44062173,\n",
       "       0.9485276 , 0.23752594, 0.81179297, 0.5263394 , 0.494308  ,\n",
       "       0.21612847, 0.8457197 , 0.8718841 , 0.3083862 , 0.6868038 ,\n",
       "       0.23764038, 0.7817228 , 0.9671384 , 0.06870162, 0.79873943,\n",
       "       0.66028714, 0.5871513 , 0.16461694, 0.7381023 , 0.32054043],\n",
       "      dtype=float32)>"
      ]
     },
     "execution_count": 45,
     "metadata": {},
     "output_type": "execute_result"
    }
   ],
   "source": [
    "G_squeezed = tf.squeeze(G)\n",
    "G_squeezed"
   ]
  },
  {
   "cell_type": "code",
   "execution_count": 46,
   "id": "49d47ce8",
   "metadata": {},
   "outputs": [
    {
     "data": {
      "text/plain": [
       "TensorShape([50])"
      ]
     },
     "execution_count": 46,
     "metadata": {},
     "output_type": "execute_result"
    }
   ],
   "source": [
    "G_squeezed.shape"
   ]
  },
  {
   "cell_type": "markdown",
   "id": "b6e34526",
   "metadata": {},
   "source": [
    "<div id='one-hot'></div>\n",
    "\n",
    "## One-Hot Encoding Tensor\n",
    "\n",
    "It is a form of numerical encoding."
   ]
  },
  {
   "cell_type": "code",
   "execution_count": 47,
   "id": "d2fb1536",
   "metadata": {},
   "outputs": [
    {
     "data": {
      "text/plain": [
       "<tf.Tensor: shape=(4, 4), dtype=float32, numpy=\n",
       "array([[1., 0., 0., 0.],\n",
       "       [0., 1., 0., 0.],\n",
       "       [0., 0., 1., 0.],\n",
       "       [0., 0., 0., 1.]], dtype=float32)>"
      ]
     },
     "execution_count": 47,
     "metadata": {},
     "output_type": "execute_result"
    }
   ],
   "source": [
    "# create list of indices\n",
    "some_list = [0, 1, 2, 3] # could be red, green, blue, purple\n",
    "\n",
    "# One hot encode our list of indices\n",
    "tf.one_hot(some_list, depth=4)"
   ]
  },
  {
   "cell_type": "code",
   "execution_count": 51,
   "id": "f162639b",
   "metadata": {},
   "outputs": [
    {
     "data": {
      "text/plain": [
       "<tf.Tensor: shape=(4, 4), dtype=string, numpy=\n",
       "array([[b'one', b'zero', b'zero', b'zero'],\n",
       "       [b'zero', b'one', b'zero', b'zero'],\n",
       "       [b'zero', b'zero', b'one', b'zero'],\n",
       "       [b'zero', b'zero', b'zero', b'one']], dtype=object)>"
      ]
     },
     "execution_count": 51,
     "metadata": {},
     "output_type": "execute_result"
    }
   ],
   "source": [
    "# specify custom value for one hot encoding\n",
    "\n",
    "tf.one_hot(some_list,depth=4,on_value='one', off_value='zero')"
   ]
  }
 ],
 "metadata": {
  "kernelspec": {
   "display_name": "Python 3 (ipykernel)",
   "language": "python",
   "name": "python3"
  },
  "language_info": {
   "codemirror_mode": {
    "name": "ipython",
    "version": 3
   },
   "file_extension": ".py",
   "mimetype": "text/x-python",
   "name": "python",
   "nbconvert_exporter": "python",
   "pygments_lexer": "ipython3",
   "version": "3.9.13"
  }
 },
 "nbformat": 4,
 "nbformat_minor": 5
}
