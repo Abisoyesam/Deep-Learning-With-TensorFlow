{
 "cells": [
  {
   "cell_type": "markdown",
   "id": "6bcf2d45",
   "metadata": {},
   "source": [
    "# Tensor Manipulations\n",
    "<hr>\n",
    "\n",
    "- Change datatype of tensor\n",
    "- Aggregating tensor"
   ]
  },
  {
   "cell_type": "code",
   "execution_count": 1,
   "id": "342c84e7",
   "metadata": {},
   "outputs": [],
   "source": [
    "import tensorflow as tf"
   ]
  },
  {
   "cell_type": "markdown",
   "id": "b77eb1bd",
   "metadata": {},
   "source": [
    "## Change datatype"
   ]
  },
  {
   "cell_type": "code",
   "execution_count": 6,
   "id": "65274a11",
   "metadata": {},
   "outputs": [
    {
     "data": {
      "text/plain": [
       "tf.float32"
      ]
     },
     "execution_count": 6,
     "metadata": {},
     "output_type": "execute_result"
    }
   ],
   "source": [
    "# change the datatype of a tensor\n",
    "\n",
    "B = tf.constant([1.7, 7.4])\n",
    "B.dtype\n",
    "\n",
    "# by default it is always 32bits. By keeping certain parts of the model in the\n",
    "# 32 bit type for numerical stability and metrics accuracy."
   ]
  },
  {
   "cell_type": "code",
   "execution_count": 7,
   "id": "f8008d42",
   "metadata": {},
   "outputs": [
    {
     "data": {
      "text/plain": [
       "tf.int32"
      ]
     },
     "execution_count": 7,
     "metadata": {},
     "output_type": "execute_result"
    }
   ],
   "source": [
    "C = tf.constant([5, 10])\n",
    "C.dtype"
   ]
  },
  {
   "cell_type": "markdown",
   "id": "7264d59a",
   "metadata": {},
   "source": [
    "`tf.cast()`"
   ]
  },
  {
   "cell_type": "code",
   "execution_count": 8,
   "id": "750325bb",
   "metadata": {},
   "outputs": [
    {
     "data": {
      "text/plain": [
       "(<tf.Tensor: shape=(2,), dtype=float16, numpy=array([1.7, 7.4], dtype=float16)>,\n",
       " tf.float16)"
      ]
     },
     "execution_count": 8,
     "metadata": {},
     "output_type": "execute_result"
    }
   ],
   "source": [
    "# change from float32 to float16 (reduce precision)\n",
    "# modern accelerators can run operations faster in the 16-bit dtypes\n",
    "\n",
    "D = tf.cast(B, dtype=tf.float16)\n",
    "D, D.dtype"
   ]
  },
  {
   "cell_type": "code",
   "execution_count": 9,
   "id": "ca69d25b",
   "metadata": {},
   "outputs": [
    {
     "data": {
      "text/plain": [
       "<tf.Tensor: shape=(2,), dtype=float32, numpy=array([ 5., 10.], dtype=float32)>"
      ]
     },
     "execution_count": 9,
     "metadata": {},
     "output_type": "execute_result"
    }
   ],
   "source": [
    "# change from int32 to float32\n",
    "\n",
    "E = tf.cast(C, dtype=tf.float32)\n",
    "E"
   ]
  },
  {
   "cell_type": "markdown",
   "id": "0e6abdeb",
   "metadata": {},
   "source": [
    "## Aggregating tensors\n",
    "\n",
    "Aggregating tensors = condensing them from multiple values down to smaller amount of values\n",
    "\n",
    "- Getting absolute value\n",
    "- Getting mean value\n",
    "- Getting minimum value\n",
    "- Getting maximum value"
   ]
  },
  {
   "cell_type": "code",
   "execution_count": 10,
   "id": "324accf5",
   "metadata": {},
   "outputs": [
    {
     "data": {
      "text/plain": [
       "<tf.Tensor: shape=(2,), dtype=int32, numpy=array([ -7, -10])>"
      ]
     },
     "execution_count": 10,
     "metadata": {},
     "output_type": "execute_result"
    }
   ],
   "source": [
    "# get the absolute values\n",
    "\n",
    "D = tf.constant([-7, -10])\n",
    "D"
   ]
  },
  {
   "cell_type": "code",
   "execution_count": 11,
   "id": "9147ec68",
   "metadata": {},
   "outputs": [
    {
     "data": {
      "text/plain": [
       "<tf.Tensor: shape=(2,), dtype=int32, numpy=array([ 7, 10])>"
      ]
     },
     "execution_count": 11,
     "metadata": {},
     "output_type": "execute_result"
    }
   ],
   "source": [
    "# turn negative to positive\n",
    "tf.abs(D)"
   ]
  },
  {
   "cell_type": "code",
   "execution_count": 15,
   "id": "8eee9236",
   "metadata": {},
   "outputs": [
    {
     "data": {
      "text/plain": [
       "<tf.Tensor: shape=(50,), dtype=int32, numpy=\n",
       "array([ 1, 32, 99, 93, 74,  1, 33, 71, 32, 77, 65, 56, 74, 52, 69, 89, 47,\n",
       "       17, 37, 80, 83, 36, 57, 88, 43, 41, 30, 28,  4, 28, 15, 21, 58, 42,\n",
       "       34, 17, 64, 16, 47, 44, 74, 85, 98, 74, 71, 98, 81, 94, 71, 33])>"
      ]
     },
     "execution_count": 15,
     "metadata": {},
     "output_type": "execute_result"
    }
   ],
   "source": [
    "# create random tensor\n",
    "import numpy as np\n",
    "\n",
    "E = tf.constant(np.random.randint(0, 100, size=50))\n",
    "E"
   ]
  },
  {
   "cell_type": "code",
   "execution_count": 17,
   "id": "b017dd29",
   "metadata": {},
   "outputs": [
    {
     "data": {
      "text/plain": [
       "(<tf.Tensor: shape=(), dtype=int32, numpy=50>,\n",
       " <tf.Tensor: shape=(1,), dtype=int32, numpy=array([50])>,\n",
       " 1)"
      ]
     },
     "execution_count": 17,
     "metadata": {},
     "output_type": "execute_result"
    }
   ],
   "source": [
    "tf.size(E), tf.shape(E), E.ndim"
   ]
  },
  {
   "cell_type": "markdown",
   "id": "315606b7",
   "metadata": {},
   "source": [
    "`tf.reduce_min()`"
   ]
  },
  {
   "cell_type": "code",
   "execution_count": 18,
   "id": "7e28d986",
   "metadata": {},
   "outputs": [
    {
     "data": {
      "text/plain": [
       "<tf.Tensor: shape=(), dtype=int32, numpy=1>"
      ]
     },
     "execution_count": 18,
     "metadata": {},
     "output_type": "execute_result"
    }
   ],
   "source": [
    "# get the min\n",
    "\n",
    "tf.reduce_min(E)"
   ]
  },
  {
   "cell_type": "markdown",
   "id": "471e5075",
   "metadata": {},
   "source": [
    "`tf.reduce_max()`"
   ]
  },
  {
   "cell_type": "code",
   "execution_count": 19,
   "id": "a706a0fa",
   "metadata": {},
   "outputs": [
    {
     "data": {
      "text/plain": [
       "<tf.Tensor: shape=(), dtype=int32, numpy=99>"
      ]
     },
     "execution_count": 19,
     "metadata": {},
     "output_type": "execute_result"
    }
   ],
   "source": [
    "# get the maximum value\n",
    "tf.reduce_max(E)"
   ]
  },
  {
   "cell_type": "markdown",
   "id": "5db5ac10",
   "metadata": {},
   "source": [
    "`tf.reduce_mean()`"
   ]
  },
  {
   "cell_type": "code",
   "execution_count": 20,
   "id": "1b11acfd",
   "metadata": {},
   "outputs": [
    {
     "data": {
      "text/plain": [
       "<tf.Tensor: shape=(), dtype=int32, numpy=53>"
      ]
     },
     "execution_count": 20,
     "metadata": {},
     "output_type": "execute_result"
    }
   ],
   "source": [
    "# find the mean\n",
    "tf.reduce_mean(E)"
   ]
  },
  {
   "cell_type": "markdown",
   "id": "e93c65b1",
   "metadata": {},
   "source": [
    "`tf.reduce_sum()`"
   ]
  },
  {
   "cell_type": "code",
   "execution_count": 21,
   "id": "e39dd446",
   "metadata": {},
   "outputs": [
    {
     "data": {
      "text/plain": [
       "<tf.Tensor: shape=(), dtype=int32, numpy=2674>"
      ]
     },
     "execution_count": 21,
     "metadata": {},
     "output_type": "execute_result"
    }
   ],
   "source": [
    "tf.reduce_sum(E)"
   ]
  },
  {
   "cell_type": "markdown",
   "id": "8b175a1e",
   "metadata": {},
   "source": [
    "**Note:** To find the standard deviation and variance, you may have to import `tensorflow_probability` as in:\n",
    "\n",
    "```py\n",
    "import tensorflow_probability as tfp\n",
    "```"
   ]
  },
  {
   "cell_type": "code",
   "execution_count": 29,
   "id": "f11b5ab7",
   "metadata": {},
   "outputs": [
    {
     "data": {
      "text/plain": [
       "<tf.Tensor: shape=(), dtype=float64, numpy=27.71298612564153>"
      ]
     },
     "execution_count": 29,
     "metadata": {},
     "output_type": "execute_result"
    }
   ],
   "source": [
    "# another way to find standard deviation\n",
    "\n",
    "tf.math.reduce_std(tf.cast(E, dtype=tf.float64))"
   ]
  },
  {
   "cell_type": "code",
   "execution_count": 31,
   "id": "b87d9748",
   "metadata": {},
   "outputs": [
    {
     "data": {
      "text/plain": [
       "<tf.Tensor: shape=(), dtype=float64, numpy=768.0096000000001>"
      ]
     },
     "execution_count": 31,
     "metadata": {},
     "output_type": "execute_result"
    }
   ],
   "source": [
    "# another way to find variance of a tensor\n",
    "\n",
    "tf.math.reduce_variance(tf.cast(E, dtype=tf.float64))"
   ]
  },
  {
   "cell_type": "markdown",
   "id": "dfc0ff04",
   "metadata": {},
   "source": [
    "**N.B:** Without converting the dytpe from `int` to `float` it won't work!"
   ]
  },
  {
   "cell_type": "markdown",
   "id": "b47308d2",
   "metadata": {},
   "source": [
    "## Positional Max and Min"
   ]
  },
  {
   "cell_type": "code",
   "execution_count": null,
   "id": "4a14eeb6",
   "metadata": {},
   "outputs": [],
   "source": []
  }
 ],
 "metadata": {
  "kernelspec": {
   "display_name": "Python 3 (ipykernel)",
   "language": "python",
   "name": "python3"
  },
  "language_info": {
   "codemirror_mode": {
    "name": "ipython",
    "version": 3
   },
   "file_extension": ".py",
   "mimetype": "text/x-python",
   "name": "python",
   "nbconvert_exporter": "python",
   "pygments_lexer": "ipython3",
   "version": "3.9.13"
  }
 },
 "nbformat": 4,
 "nbformat_minor": 5
}
