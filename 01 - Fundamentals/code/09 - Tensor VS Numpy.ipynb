{
 "cells": [
  {
   "cell_type": "markdown",
   "id": "cec47e59",
   "metadata": {},
   "source": [
    "# Tensor and Numpy Compatibility"
   ]
  },
  {
   "cell_type": "code",
   "execution_count": 1,
   "id": "1c23a308",
   "metadata": {},
   "outputs": [],
   "source": [
    "import numpy as np\n",
    "import tensorflow as tf"
   ]
  },
  {
   "cell_type": "code",
   "execution_count": 2,
   "id": "9e6cb8e2",
   "metadata": {},
   "outputs": [
    {
     "data": {
      "text/plain": [
       "<tf.Tensor: shape=(3,), dtype=float64, numpy=array([ 3.,  7., 10.])>"
      ]
     },
     "execution_count": 2,
     "metadata": {},
     "output_type": "execute_result"
    }
   ],
   "source": [
    "# create a tensor directly from NumPy array\n",
    "\n",
    "J = tf.constant(np.array([3., 7., 10.]))\n",
    "J"
   ]
  },
  {
   "cell_type": "code",
   "execution_count": 5,
   "id": "7e9b393f",
   "metadata": {},
   "outputs": [
    {
     "data": {
      "text/plain": [
       "(array([ 3.,  7., 10.]), numpy.ndarray)"
      ]
     },
     "execution_count": 5,
     "metadata": {},
     "output_type": "execute_result"
    }
   ],
   "source": [
    "# convert tensor back to Numpy array\n",
    "\n",
    "np.array(J), type(np.array(J))"
   ]
  },
  {
   "cell_type": "code",
   "execution_count": 8,
   "id": "13b02719",
   "metadata": {},
   "outputs": [
    {
     "data": {
      "text/plain": [
       "(array([ 3.,  7., 10.]), numpy.ndarray)"
      ]
     },
     "execution_count": 8,
     "metadata": {},
     "output_type": "execute_result"
    }
   ],
   "source": [
    "# another method\n",
    "\n",
    "J.numpy(), type(J.numpy())"
   ]
  },
  {
   "cell_type": "code",
   "execution_count": 10,
   "id": "dafb3ebd",
   "metadata": {},
   "outputs": [
    {
     "data": {
      "text/plain": [
       "(tf.float64, tf.float32)"
      ]
     },
     "execution_count": 10,
     "metadata": {},
     "output_type": "execute_result"
    }
   ],
   "source": [
    "# default types of each are slightly different\n",
    "numpy_J = tf.constant(np.array([3.,7.,10.]))\n",
    "tensor_J = tf.constant([3., 7., 10.])\n",
    "\n",
    "# check the dtype\n",
    "numpy_J.dtype, tensor_J.dtype"
   ]
  },
  {
   "cell_type": "markdown",
   "id": "86c3accd",
   "metadata": {},
   "source": [
    "**Note:** One of the main difference between a TensorFlow tensor and a NumPy array is that a Tensorflow tensor has the datatype of **32-bits** compared to Numpy which has **64-bits**. Hence, TensorFlow tensor has faster numerical processing."
   ]
  },
  {
   "cell_type": "markdown",
   "id": "d76fcb97",
   "metadata": {},
   "source": [
    "## Access to GPU"
   ]
  },
  {
   "cell_type": "code",
   "execution_count": 14,
   "id": "3aed4c05",
   "metadata": {},
   "outputs": [
    {
     "data": {
      "text/plain": [
       "[PhysicalDevice(name='/physical_device:CPU:0', device_type='CPU')]"
      ]
     },
     "execution_count": 14,
     "metadata": {},
     "output_type": "execute_result"
    }
   ],
   "source": [
    "tf.config.list_physical_devices()"
   ]
  },
  {
   "cell_type": "code",
   "execution_count": 13,
   "id": "ba8bb2b1",
   "metadata": {},
   "outputs": [
    {
     "data": {
      "text/plain": [
       "[]"
      ]
     },
     "execution_count": 13,
     "metadata": {},
     "output_type": "execute_result"
    }
   ],
   "source": [
    "tf.config.list_physical_devices(\"GPU\")"
   ]
  },
  {
   "cell_type": "markdown",
   "id": "f6eb1b2b",
   "metadata": {},
   "source": [
    "Since the output about is an empty list, that means no GPU is found. You can access GPU on `Google Colab`\n",
    "- Go to `runtime` on google colab\n",
    "- Select GPU"
   ]
  }
 ],
 "metadata": {
  "kernelspec": {
   "display_name": "Python 3 (ipykernel)",
   "language": "python",
   "name": "python3"
  },
  "language_info": {
   "codemirror_mode": {
    "name": "ipython",
    "version": 3
   },
   "file_extension": ".py",
   "mimetype": "text/x-python",
   "name": "python",
   "nbconvert_exporter": "python",
   "pygments_lexer": "ipython3",
   "version": "3.9.13"
  }
 },
 "nbformat": 4,
 "nbformat_minor": 5
}
