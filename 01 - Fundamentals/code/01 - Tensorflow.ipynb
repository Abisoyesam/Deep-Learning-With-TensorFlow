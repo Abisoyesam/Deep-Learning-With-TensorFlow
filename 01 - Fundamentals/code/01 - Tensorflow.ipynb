{
 "cells": [
  {
   "cell_type": "markdown",
   "id": "1e2136f8",
   "metadata": {},
   "source": [
    "# Fundamental Concepts of Tensor using TensorFlow\n",
    "\n",
    "- Introduction to Tensor\n",
    "- Getting Information from Tensors\n",
    "- Manipulating Tensors\n",
    "- Tensors & Numpy\n",
    "- Using @tf.function (way to speed up regular Python function)\n",
    "- Using GPUs with TensorFlow (or TPUs)\n",
    "- Exercises"
   ]
  },
  {
   "cell_type": "markdown",
   "id": "a021d860",
   "metadata": {},
   "source": [
    "<hr>\n",
    "\n",
    "## Introduction to Tensor"
   ]
  },
  {
   "cell_type": "code",
   "execution_count": 1,
   "id": "51c89335",
   "metadata": {},
   "outputs": [],
   "source": [
    "import tensorflow as tf"
   ]
  },
  {
   "cell_type": "code",
   "execution_count": 2,
   "id": "27cf8f1f",
   "metadata": {},
   "outputs": [
    {
     "name": "stdout",
     "output_type": "stream",
     "text": [
      "2.13.0\n"
     ]
    }
   ],
   "source": [
    "print(tf.__version__)"
   ]
  },
  {
   "cell_type": "markdown",
   "id": "8eec02c6",
   "metadata": {},
   "source": [
    "### Creating Tensor with `tf.constant`"
   ]
  },
  {
   "cell_type": "code",
   "execution_count": 4,
   "id": "4cd410cc",
   "metadata": {},
   "outputs": [
    {
     "data": {
      "text/plain": [
       "<tf.Tensor: shape=(), dtype=int32, numpy=7>"
      ]
     },
     "execution_count": 4,
     "metadata": {},
     "output_type": "execute_result"
    }
   ],
   "source": [
    "# create tensors with tf.constant()\n",
    "\n",
    "scalar = tf.constant(7)\n",
    "scalar"
   ]
  },
  {
   "cell_type": "code",
   "execution_count": 5,
   "id": "6dfc2be3",
   "metadata": {},
   "outputs": [
    {
     "data": {
      "text/plain": [
       "0"
      ]
     },
     "execution_count": 5,
     "metadata": {},
     "output_type": "execute_result"
    }
   ],
   "source": [
    "# check the number of dimension of a tensor\n",
    "\n",
    "scalar.ndim"
   ]
  },
  {
   "cell_type": "code",
   "execution_count": 6,
   "id": "08f789f8",
   "metadata": {},
   "outputs": [
    {
     "data": {
      "text/plain": [
       "<tf.Tensor: shape=(2,), dtype=int32, numpy=array([10, 10])>"
      ]
     },
     "execution_count": 6,
     "metadata": {},
     "output_type": "execute_result"
    }
   ],
   "source": [
    "# create a vector\n",
    "\n",
    "vector = tf.constant([10,10])\n",
    "vector"
   ]
  },
  {
   "cell_type": "code",
   "execution_count": 7,
   "id": "f95f1db4",
   "metadata": {},
   "outputs": [
    {
     "data": {
      "text/plain": [
       "1"
      ]
     },
     "execution_count": 7,
     "metadata": {},
     "output_type": "execute_result"
    }
   ],
   "source": [
    "# check dimension of vector\n",
    "vector.ndim"
   ]
  },
  {
   "cell_type": "code",
   "execution_count": 8,
   "id": "7e39751b",
   "metadata": {},
   "outputs": [
    {
     "data": {
      "text/plain": [
       "<tf.Tensor: shape=(2, 2), dtype=int32, numpy=\n",
       "array([[10,  7],\n",
       "       [ 7, 10]])>"
      ]
     },
     "execution_count": 8,
     "metadata": {},
     "output_type": "execute_result"
    }
   ],
   "source": [
    "# create a matrix\n",
    "\n",
    "matrix = tf.constant([[10,7],\n",
    "                     [7, 10]])\n",
    "\n",
    "matrix"
   ]
  },
  {
   "cell_type": "code",
   "execution_count": 9,
   "id": "b1296d24",
   "metadata": {},
   "outputs": [
    {
     "data": {
      "text/plain": [
       "2"
      ]
     },
     "execution_count": 9,
     "metadata": {},
     "output_type": "execute_result"
    }
   ],
   "source": [
    "matrix.ndim"
   ]
  },
  {
   "cell_type": "code",
   "execution_count": 11,
   "id": "05187e4c",
   "metadata": {},
   "outputs": [],
   "source": [
    "# create another matrix with specified dtype\n",
    "\n",
    "matrix_1 = tf.constant([[4.,8.],\n",
    "                        [6.,3],\n",
    "                        [10.,7]], dtype=tf.float16)"
   ]
  },
  {
   "cell_type": "code",
   "execution_count": 12,
   "id": "328a1685",
   "metadata": {},
   "outputs": [
    {
     "data": {
      "text/plain": [
       "<tf.Tensor: shape=(3, 2), dtype=float16, numpy=\n",
       "array([[ 4.,  8.],\n",
       "       [ 6.,  3.],\n",
       "       [10.,  7.]], dtype=float16)>"
      ]
     },
     "execution_count": 12,
     "metadata": {},
     "output_type": "execute_result"
    }
   ],
   "source": [
    "matrix_1"
   ]
  },
  {
   "cell_type": "code",
   "execution_count": 13,
   "id": "d84893d5",
   "metadata": {},
   "outputs": [
    {
     "data": {
      "text/plain": [
       "2"
      ]
     },
     "execution_count": 13,
     "metadata": {},
     "output_type": "execute_result"
    }
   ],
   "source": [
    "matrix_1.ndim"
   ]
  },
  {
   "cell_type": "code",
   "execution_count": 14,
   "id": "801f4aed",
   "metadata": {},
   "outputs": [
    {
     "data": {
      "text/plain": [
       "<tf.Tensor: shape=(3, 2, 3), dtype=int32, numpy=\n",
       "array([[[ 1,  2,  3],\n",
       "        [ 4,  5,  6]],\n",
       "\n",
       "       [[ 7,  8,  9],\n",
       "        [10, 11, 12]],\n",
       "\n",
       "       [[13, 14, 15],\n",
       "        [16, 17, 18]]])>"
      ]
     },
     "execution_count": 14,
     "metadata": {},
     "output_type": "execute_result"
    }
   ],
   "source": [
    "# Create a tensor\n",
    "\n",
    "tensor = tf.constant([[[1, 2, 3],\n",
    "                       [4, 5, 6]],\n",
    "                       [[7, 8, 9],\n",
    "                        [10, 11, 12]],\n",
    "                       [[13, 14, 15],\n",
    "                        [16, 17, 18]]])\n",
    "tensor"
   ]
  },
  {
   "cell_type": "code",
   "execution_count": 15,
   "id": "e181d60d",
   "metadata": {},
   "outputs": [
    {
     "data": {
      "text/plain": [
       "3"
      ]
     },
     "execution_count": 15,
     "metadata": {},
     "output_type": "execute_result"
    }
   ],
   "source": [
    "tensor.ndim"
   ]
  },
  {
   "cell_type": "markdown",
   "id": "adbf0c17",
   "metadata": {},
   "source": [
    "**NOTE:**\n",
    "- Scalar: has zero (0) dimension. That is, it is a single number.\n",
    "- Vector: has one dimension. A number with direction (e.g wind speed and direction).\n",
    "- Matrix: has two dimension. It is a 2D array of numbers.\n",
    "- Tensor: it is an `n-dimensional` array. It is collection of matrices.\n",
    "\n",
    "**The `n` can be any number. A 0-dimensional tensor is a scalar. A 1-dimensional tensor is a vector. A two dimensional tensor is a Matrix**"
   ]
  }
 ],
 "metadata": {
  "kernelspec": {
   "display_name": "Python 3 (ipykernel)",
   "language": "python",
   "name": "python3"
  },
  "language_info": {
   "codemirror_mode": {
    "name": "ipython",
    "version": 3
   },
   "file_extension": ".py",
   "mimetype": "text/x-python",
   "name": "python",
   "nbconvert_exporter": "python",
   "pygments_lexer": "ipython3",
   "version": "3.9.13"
  }
 },
 "nbformat": 4,
 "nbformat_minor": 5
}
